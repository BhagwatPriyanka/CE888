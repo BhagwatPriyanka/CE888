{
  "nbformat": 4,
  "nbformat_minor": 0,
  "metadata": {
    "colab": {
      "name": "Lab2-Bootstrap.ipynb",
      "provenance": [],
      "collapsed_sections": [],
      "include_colab_link": true
    },
    "kernelspec": {
      "display_name": "Python 3",
      "language": "python",
      "name": "python3"
    },
    "language_info": {
      "codemirror_mode": {
        "name": "ipython",
        "version": 3
      },
      "file_extension": ".py",
      "mimetype": "text/x-python",
      "name": "python",
      "nbconvert_exporter": "python",
      "pygments_lexer": "ipython3",
      "version": "3.7.6"
    },
    "pycharm": {
      "stem_cell": {
        "cell_type": "raw",
        "metadata": {
          "collapsed": false
        },
        "source": []
      }
    }
  },
  "cells": [
    {
      "cell_type": "markdown",
      "metadata": {
        "id": "view-in-github",
        "colab_type": "text"
      },
      "source": [
        "<a href=\"https://colab.research.google.com/github/BhagwatPriyanka/CE888/blob/main/Lab2/Lab2_Bootstrap_quiz_attempt%206.ipynb\" target=\"_parent\"><img src=\"https://colab.research.google.com/assets/colab-badge.svg\" alt=\"Open In Colab\"/></a>"
      ]
    },
    {
      "cell_type": "markdown",
      "metadata": {
        "id": "nCi_99yMYIb1"
      },
      "source": [
        "In this notebook you'll create your own bootstrap function following the bootstrap algorithm (check the lecture notes!)"
      ]
    },
    {
      "cell_type": "code",
      "metadata": {
        "id": "LY5zujI2YC37",
        "pycharm": {
          "name": "#%%# Imports\n"
        }
      },
      "source": [
        "import matplotlib\n",
        "import pandas as pd\n",
        "import seaborn as sns\n",
        "import numpy as np"
      ],
      "execution_count": 94,
      "outputs": []
    },
    {
      "cell_type": "code",
      "metadata": {
        "id": "Eqkwj4SMY38t",
        "colab": {
          "base_uri": "https://localhost:8080/",
          "height": 197
        },
        "outputId": "6499e5dd-eb5c-4e0d-b1e5-71e3b40b3a1a"
      },
      "source": [
        "# Load the data\n",
        "df = pd.read_csv('https://raw.githubusercontent.com/albanda/CE888/master/lab2%20-%20bootstrap/customers.csv')\n",
        "data = df.values.T[1]\n",
        "df.head()"
      ],
      "execution_count": 95,
      "outputs": [
        {
          "output_type": "execute_result",
          "data": {
            "text/html": [
              "<div>\n",
              "<style scoped>\n",
              "    .dataframe tbody tr th:only-of-type {\n",
              "        vertical-align: middle;\n",
              "    }\n",
              "\n",
              "    .dataframe tbody tr th {\n",
              "        vertical-align: top;\n",
              "    }\n",
              "\n",
              "    .dataframe thead th {\n",
              "        text-align: right;\n",
              "    }\n",
              "</style>\n",
              "<table border=\"1\" class=\"dataframe\">\n",
              "  <thead>\n",
              "    <tr style=\"text-align: right;\">\n",
              "      <th></th>\n",
              "      <th>Day</th>\n",
              "      <th>Millons of pounds in sales</th>\n",
              "    </tr>\n",
              "  </thead>\n",
              "  <tbody>\n",
              "    <tr>\n",
              "      <th>0</th>\n",
              "      <td>1</td>\n",
              "      <td>2.0</td>\n",
              "    </tr>\n",
              "    <tr>\n",
              "      <th>1</th>\n",
              "      <td>2</td>\n",
              "      <td>8.0</td>\n",
              "    </tr>\n",
              "    <tr>\n",
              "      <th>2</th>\n",
              "      <td>3</td>\n",
              "      <td>20.0</td>\n",
              "    </tr>\n",
              "    <tr>\n",
              "      <th>3</th>\n",
              "      <td>4</td>\n",
              "      <td>13.0</td>\n",
              "    </tr>\n",
              "    <tr>\n",
              "      <th>4</th>\n",
              "      <td>5</td>\n",
              "      <td>5.0</td>\n",
              "    </tr>\n",
              "  </tbody>\n",
              "</table>\n",
              "</div>"
            ],
            "text/plain": [
              "   Day   Millons of pounds in sales\n",
              "0    1                          2.0\n",
              "1    2                          8.0\n",
              "2    3                         20.0\n",
              "3    4                         13.0\n",
              "4    5                          5.0"
            ]
          },
          "metadata": {
            "tags": []
          },
          "execution_count": 95
        }
      ]
    },
    {
      "cell_type": "code",
      "metadata": {
        "id": "Gxvc_bScYC4H",
        "pycharm": {
          "name": "#%%\n"
        }
      },
      "source": [
        "# Checking the notes from the lecture, create here your own bootstrap function:\n",
        "# 1. Sample from the input array x to create an array of samples of shape (n_bootstraps, sample_size)\n",
        "# Hint: Check the function random.choice() on Numpy\n",
        "# 2. Calculate and save the mean of the array (this is \"data_mean\" that is returned by the function)\n",
        "# 3. Calculate the mean from each bootstrap (i.e., row) and store it.\n",
        "# (This should be an array of n_bootstraps values)\n",
        "# 4. Calculate the lower and upper bounds for a 95% CI (hint: check the percentile function on Numpy)\n",
        "# 5. Return data_mean, and the lower and upper bounds of your interval\n",
        "def bootstrap_mean(x, sample_size, n_bootstraps):\n",
        "\t# <---INSERT YOUR CODE HERE--->\n",
        "  data_mean= np.mean(x)\n",
        "  final_array= [0]*n_bootstraps\n",
        "  i= 0\n",
        "  while i < n_bootstraps:\n",
        "    random_choice= np.random.choice(x,sample_size)\n",
        "    final_array[i]=np.mean(random_choice)\n",
        "    i+=1\n",
        "\n",
        "  #calculate 95% CI (100- alpha)\n",
        "  alpha=5\n",
        "  #calculate lower percentile (2.5)\n",
        "  lower_p=alpha/2.0\n",
        "  #retrive observation at lower percentile\n",
        "  lower= np.percentile(final_array,lower_p)\n",
        "\n",
        "  #calculate upper percentile (97.5)\n",
        "  upper_p=(100-alpha)+lower_p\n",
        "  #retrive observation at upper percentile\n",
        "  upper= np.percentile(final_array,upper_p)\n",
        "\n",
        "  return data_mean, lower, upper\n"
      ],
      "execution_count": 96,
      "outputs": []
    },
    {
      "cell_type": "code",
      "metadata": {
        "id": "AN7sEOcMYC4P",
        "pycharm": {
          "name": "#%%\n"
        },
        "colab": {
          "base_uri": "https://localhost:8080/",
          "height": 456
        },
        "outputId": "cf5d5d76-0bcb-4a55-92c8-f12768faecdf"
      },
      "source": [
        "# Call your bootstrap function and plot the results\n",
        "\n",
        "boots = []\n",
        "for i in range(100, 50000, 1000):\n",
        "    boot = bootstrap_mean(data, data.shape[0], i)\n",
        "    boots.append([i, boot[0], \"mean\"])\n",
        "    boots.append([i, boot[1], \"lower\"])\n",
        "    boots.append([i, boot[2], \"upper\"])\n",
        "\n",
        "df_boot = pd.DataFrame(boots, columns=['Bootstrap Iterations', 'Mean', \"Value\"])\n",
        "sns_plot = sns.lmplot(df_boot.columns[0], df_boot.columns[1], data=df_boot, fit_reg=False, hue=\"Value\")\n",
        "\n",
        "sns_plot.axes[0, 0].set_ylim(0,)\n",
        "sns_plot.axes[0, 0].set_xlim(0, 50000)\n"
      ],
      "execution_count": 97,
      "outputs": [
        {
          "output_type": "stream",
          "text": [
            "/usr/local/lib/python3.7/dist-packages/seaborn/_decorators.py:43: FutureWarning: Pass the following variables as keyword args: x, y. From version 0.12, the only valid positional argument will be `data`, and passing other arguments without an explicit keyword will result in an error or misinterpretation.\n",
            "  FutureWarning\n"
          ],
          "name": "stderr"
        },
        {
          "output_type": "execute_result",
          "data": {
            "text/plain": [
              "(0.0, 50000.0)"
            ]
          },
          "metadata": {
            "tags": []
          },
          "execution_count": 97
        },
        {
          "output_type": "display_data",
          "data": {
            "image/png": "[encoded data removed]",
            "text/plain": [
              "<Figure size 425.125x360 with 1 Axes>"
            ]
          },
          "metadata": {
            "tags": [],
            "needs_background": "light"
          }
        }
      ]
    },
    {
      "cell_type": "markdown",
      "metadata": {
        "id": "MjtP4e2_YC4V"
      },
      "source": [
        "\n",
        "Now, modify the bootstrap function you created above so that you can pass your desired confidence interval as a parameter.\n",
        "\n"
      ]
    },
    {
      "cell_type": "code",
      "metadata": {
        "id": "3K9j0FuGYhHs"
      },
      "source": [
        "def bootstrap_mean_ci(sample, sample_size, n_bootstraps, ci):\n",
        "\t# <---INSERT YOUR CODE HERE--->\n",
        "  data_mean= np.mean(sample)\n",
        "  final_array= [0]*n_bootstraps\n",
        "  i= 0\n",
        "  while i < n_bootstraps:\n",
        "    random_choice= np.random.choice(sample,sample_size)\n",
        "    final_array[i]=np.mean(random_choice)\n",
        "    i+=1\n",
        "\n",
        "  alpha=20\n",
        "  lower_p=alpha/2.0\n",
        "  lower= np.percentile(final_array,lower_p)\n",
        "  upper_p=(100-alpha)+lower_p\n",
        "  upper= np.percentile(final_array,upper_p)\n",
        "\t\n",
        "\n",
        "  return data_mean, lower, upper\n",
        "\n",
        "\n"
      ],
      "execution_count": 98,
      "outputs": []
    },
    {
      "cell_type": "code",
      "metadata": {
        "id": "uDnjq08GYl-C",
        "colab": {
          "base_uri": "https://localhost:8080/",
          "height": 456
        },
        "outputId": "0451ab2e-5c08-466a-ebdf-6b92b3d99ebe"
      },
      "source": [
        "boots = []\n",
        "for i in range(100, 50000, 1000):\n",
        "    boot = bootstrap_mean_ci(data, data.shape[0], i, 80)\n",
        "    boots.append([i, boot[0], \"mean\"])\n",
        "    boots.append([i, boot[1], \"lower\"])\n",
        "    boots.append([i, boot[2], \"upper\"])\n",
        "\n",
        "df_boot = pd.DataFrame(boots, columns=['Boostrap Iterations', 'Mean', \"Value\"])\n",
        "sns_plot = sns.lmplot(df_boot.columns[0], df_boot.columns[1], data=df_boot, fit_reg=False, hue=\"Value\")\n",
        "\n",
        "sns_plot.axes[0, 0].set_ylim(0,)\n",
        "sns_plot.axes[0, 0].set_xlim(0, 50000)\n",
        "\n",
        "#sns_plot.savefig(\"bootstrap_confidence_80.pdf\", bbox_inches='tight')\n"
      ],
      "execution_count": 99,
      "outputs": [
        {
          "output_type": "stream",
          "text": [
            "/usr/local/lib/python3.7/dist-packages/seaborn/_decorators.py:43: FutureWarning: Pass the following variables as keyword args: x, y. From version 0.12, the only valid positional argument will be `data`, and passing other arguments without an explicit keyword will result in an error or misinterpretation.\n",
            "  FutureWarning\n"
          ],
          "name": "stderr"
        },
        {
          "output_type": "execute_result",
          "data": {
            "text/plain": [
              "(0.0, 50000.0)"
            ]
          },
          "metadata": {
            "tags": []
          },
          "execution_count": 99
        },
        {
          "output_type": "display_data",
          "data": {
            "image/png": "[encoded data removed]",
            "text/plain": [
              "<Figure size 425.125x360 with 1 Axes>"
            ]
          },
          "metadata": {
            "tags": [],
            "needs_background": "light"
          }
        }
      ]
    },
    {
      "cell_type": "markdown",
      "metadata": {
        "id": "qjNgXW6wdd7r"
      },
      "source": [
        "# Vehicles dataset\n",
        "\n",
        "Now let's work on a different dataset, which is stored in the vehicles.csv file.\n"
      ]
    },
    {
      "cell_type": "code",
      "metadata": {
        "id": "avWv4ipFdpka",
        "colab": {
          "base_uri": "https://localhost:8080/",
          "height": 282
        },
        "outputId": "d1572306-9b2a-4b34-a564-d1fc56e55f4d"
      },
      "source": [
        "# Load and visualise the vehicles dataset\n",
        "# To load the dataset: https://neptune.ai/blog/google-colab-dealing-with-files (check section \"Load individual files directly from GitHub\")\n",
        "\n",
        "\n",
        "# Note that the current and new fleets are in different columns and have different lengths, so bear this in mind when you're plotting.\n",
        "# You can create separate scatterplots for the two fleets, as you would with the histograms, \n",
        "# or plot them both in one plot (but not one against the other).\n",
        "# <---INSERT YOUR CODE HERE--->\n",
        "# Note: you can add more cells as needed to organise your code and your plots\n",
        "\n",
        "df = pd.read_csv('https://raw.githubusercontent.com/albanda/CE888/master/lab2%20-%20bootstrap/vehicles.csv')\n",
        "#data = df.values\n",
        "df.head()\n",
        "#sns.relplot(data = df)\n",
        "#sns.lineplot(data=df)\n",
        "#df.tail()\n",
        "#sns.scatterplot(data= df.iloc[:,0])\n",
        "sns.scatterplot(data=df)"
      ],
      "execution_count": 100,
      "outputs": [
        {
          "output_type": "execute_result",
          "data": {
            "text/plain": [
              "<matplotlib.axes._subplots.AxesSubplot at 0x7f75495071d0>"
            ]
          },
          "metadata": {
            "tags": []
          },
          "execution_count": 100
        },
        {
          "output_type": "display_data",
          "data": {
            "image/png": "[encoded data removed]",
            "text/plain": [
              "<Figure size 432x288 with 1 Axes>"
            ]
          },
          "metadata": {
            "tags": [],
            "needs_background": "light"
          }
        }
      ]
    },
    {
      "cell_type": "markdown",
      "metadata": {
        "id": "B5d0tXDpIEj8"
      },
      "source": [
        "## Compare the two fleets\r\n",
        "\r\n",
        "The business analysts come up a comparison algorithm that requires the upper and lower bounds for the mean in order to say which fleet is better.\r\n",
        "1. Calculate the mean of both samples.\r\n",
        "2. Using the bootstrap function that you created:\r\n",
        "    - Construct the 95% CI of the mean of the current fleet.\r\n",
        "    - Construct the 95% CI of the mean of the new fleet.\r\n",
        "    - Are they comparable? (i.e., is one better than the other?) -- you can do this with a permutation test (check the lecture notes!)"
      ]
    },
    {
      "cell_type": "code",
      "metadata": {
        "id": "po4mp6zRHC0m",
        "colab": {
          "base_uri": "https://localhost:8080/"
        },
        "outputId": "5704ec99-d1c4-4d35-9f9a-e8624c27237f"
      },
      "source": [
        "# <---INSERT YOUR CODE HERE--->\n",
        "current_fleet = df.values.T[0]\n",
        "new_fleet= df.values.T[1]\n",
        "\n",
        "\n",
        "clean_newFleet = np.array([fleet for fleet in new_fleet if str(fleet) != 'nan'])\n",
        "\n",
        "mean_current = np.mean(current_fleet)\n",
        "mean_new = np.mean(clean_newFleet)\n",
        "\n",
        "print(\"**Permutation test**\")\n",
        "\n",
        "t_obs = mean_new - mean_current    #difference of means\n",
        "print(\"Difference in mean: {}\".format(t_obs))\n",
        "len_1 = current_fleet.size \n",
        "\n",
        "tmp_currentFleet = current_fleet\n",
        "tmp_newFleet = clean_newFleet\n",
        "\n",
        "count_true = 0\n",
        "for i in range(0,30000):\n",
        "  tmp_data = np.hstack([tmp_currentFleet, tmp_newFleet]) \n",
        "  np.random.shuffle(tmp_data) #does not return anything. Shape 328,\n",
        "  \n",
        "  tmp_currentFleet = np.array(tmp_data[:len_1])  \n",
        "  tmp_newFleet = np.array(tmp_data[len_1:])\n",
        "\n",
        "  t_perm = np.mean(tmp_newFleet) - np.mean(tmp_currentFleet) #difference of mean after shuffling\n",
        "  \n",
        "  if t_perm > t_obs:\n",
        "     count_true =count_true + 1\n",
        "\n",
        "p_value = count_true/30000\n",
        "\n",
        "print(\"p-value is: {}\".format(p_value))\n"
      ],
      "execution_count": 101,
      "outputs": [
        {
          "output_type": "stream",
          "text": [
            "**Permutation test**\n",
            "Difference in mean: 10.336434344974837\n",
            "p-value is: 0.0\n"
          ],
          "name": "stdout"
        }
      ]
    },
    {
      "cell_type": "code",
      "metadata": {
        "id": "MkxvDZG4HC0n"
      },
      "source": [
        "# Create your own function for a permutation test here (you will need it for the lab quiz!):\n",
        "def permut_test(sample1, sample2, n_permutations):\n",
        "    \"\"\"\n",
        "    sample1: 1D array\n",
        "    sample2: 1D array (note that the size of the two arrays can be different)\n",
        "    n_permutations: number of permutations to calculate the p-value\n",
        "    \"\"\"\n",
        "    sample1 = np.array(sample1)\n",
        "    sample2 = np.array(sample2)\n",
        "    \n",
        "    t_obs = np.mean(sample1) - np.mean(sample2)\n",
        "    len_1 = sample1.size\n",
        "    len_2 = sample2.size\n",
        "    tmp_sample1 = sample1\n",
        "    tmp_sample2 = sample2\n",
        "    n_count = 0\n",
        "    for i in range(0,n_permutations):\n",
        "      combined_data = np.hstack([tmp_sample1,tmp_sample2])\n",
        "      np.random.shuffle(combined_data) #does not return anything.\n",
        "      tmp_sample1 = np.array(combined_data[:len_1])\n",
        "      tmp_sample2 = np.array(combined_data[len_1:])\n",
        "      t_perm = np.mean(tmp_sample2) - np.mean(tmp_sample1)\n",
        "      if t_perm > t_obs:\n",
        "        n_count= n_count + 1\n",
        "      pvalue = n_count/n_permutations\n",
        "\n",
        "\n",
        "    return pvalue"
      ],
      "execution_count": 102,
      "outputs": []
    },
    {
      "cell_type": "code",
      "metadata": {
        "id": "tGEJJU1xiv3h"
      },
      "source": [
        "# bootstrap for Standard deviation \r\n",
        "\r\n",
        "def bootstrap_sd_ci(sample, sample_size, n_bootstraps, ci):\r\n",
        "  boot_sd = []\r\n",
        "  bootstrap = np.random.choice(sample, (n_bootstraps,sample_size))\r\n",
        "  data_sd = np.std(bootstrap)\r\n",
        "  for boot in bootstrap:\r\n",
        "     boot_sd.append(np.std(boot))\r\n",
        "  alpha = (100-ci)/2\r\n",
        "  lower = np.percentile(boot_sd,alpha)\r\n",
        "  upper = np.percentile(boot_sd,100-alpha)\r\n",
        "\r\n",
        "  return data_sd,lower,upper\r\n",
        "\r\n",
        "#x= np.array([0, 1, 0, 0, 0, 0, 0, 1, 0, 0, 0])\r\n",
        "##print(#)"
      ],
      "execution_count": 103,
      "outputs": []
    },
    {
      "cell_type": "markdown",
      "metadata": {
        "id": "ryM8hoKNhLKg"
      },
      "source": [
        "# **LAB2 QUIZ ATTEMPT 5**\r\n",
        "\r\n"
      ]
    },
    {
      "cell_type": "code",
      "metadata": {
        "colab": {
          "base_uri": "https://localhost:8080/"
        },
        "id": "qCcsn860hRw0",
        "outputId": "3b74b81f-c6fb-4b44-9384-1266b03a628d"
      },
      "source": [
        "#The 92% confidence interval for the mean of the old fleet in the vehicles dataset using 10000 iterations is (Answer, Answer). Give your answer including the first two decimal points (e.g., 1.23).\r\n",
        "\r\n",
        "current_lowerUpper = bootstrap_mean_ci(current_fleet, current_fleet.shape[0], 10000,92)\r\n",
        "current_upper = round(current_lowerUpper[2],2)\r\n",
        "current_lower = round(current_lowerUpper[1],2)\r\n",
        "\r\n",
        "print(current_lower,current_upper)"
      ],
      "execution_count": 139,
      "outputs": [
        {
          "output_type": "stream",
          "text": [
            "19.64 20.66\n"
          ],
          "name": "stdout"
        }
      ]
    },
    {
      "cell_type": "code",
      "metadata": {
        "colab": {
          "base_uri": "https://localhost:8080/"
        },
        "id": "j2Qq3DPAO1mY",
        "outputId": "ed0daee2-b3a6-429b-d369-3dd71a942010"
      },
      "source": [
        "#The 92% confidence interval for the mean of the old fleet in the vehicles dataset using 10000 iterations is (Answer, Answer). Give your answer including the first two decimal points (e.g., 1.23).\r\n",
        "current_lowerUpper = bootstrap_mean_ci(current_fleet, current_fleet.shape[0], 10000,92)\r\n",
        "current_upper = round(current_lowerUpper[2],2)\r\n",
        "current_lower = round(current_lowerUpper[1],2)\r\n",
        "\r\n",
        "print(current_lower,current_upper)"
      ],
      "execution_count": 138,
      "outputs": [
        {
          "output_type": "stream",
          "text": [
            "19.63 20.68\n"
          ],
          "name": "stdout"
        }
      ]
    },
    {
      "cell_type": "code",
      "metadata": {
        "colab": {
          "base_uri": "https://localhost:8080/"
        },
        "id": "dwMh0Mb_p0qH",
        "outputId": "3500dd32-9db7-4391-c041-f45012c90ab2"
      },
      "source": [
        "#The 95% confidence interval for the mean of the customers dataset using 10000 iterations is (Answer, Answer\r\n",
        "#). Give your answer including the first two decimal points (e.g., 1.23).\r\n",
        "\r\n",
        "customer_UpperLower = bootstrap_mean_ci(data, data.shape[0], 10000, 95)\r\n",
        "\r\n",
        "print(round(customer_UpperLower[2],2),round(customer_UpperLower[1],2))"
      ],
      "execution_count": 131,
      "outputs": [
        {
          "output_type": "stream",
          "text": [
            "11.21 7.29\n"
          ],
          "name": "stdout"
        }
      ]
    },
    {
      "cell_type": "code",
      "metadata": {
        "colab": {
          "base_uri": "https://localhost:8080/"
        },
        "id": "125DDMFlqMLR",
        "outputId": "a11ee761-b054-4206-e384-7d66c29f3083"
      },
      "source": [
        "#The 85% confidence interval for the standard deviation of the customers dataset using 10000 iterations is (Answer, Answer\r\n",
        "#). Give your answer including the first two decimal points (e.g., 1.23).\r\n",
        "\r\n",
        "sd_customer = bootstrap_sd_ci(data, data.shape[0], 10000,85)\r\n",
        "customer_sd_upper = round(sd_customer[2],2)\r\n",
        "customer_sd_lower = round(sd_customer[1],2)\r\n",
        "\r\n",
        "print(customer_sd_lower,customer_sd_upper)"
      ],
      "execution_count": 140,
      "outputs": [
        {
          "output_type": "stream",
          "text": [
            "3.29 6.95\n"
          ],
          "name": "stdout"
        }
      ]
    },
    {
      "cell_type": "code",
      "metadata": {
        "colab": {
          "base_uri": "https://localhost:8080/"
        },
        "id": "lojMOwaR4tnu",
        "outputId": "7dec093f-42d7-4a0f-f267-695dd3454b4a"
      },
      "source": [
        "#The 95% confidence interval for the standard deviation of the new fleet in the vehicles dataset using 10000 iterations is (Answer, Answer). Give your answer including the first two decimal points (e.g., 1.23).\r\n",
        "\r\n",
        "new_lowerUpper = bootstrap_sd_ci(clean_newFleet, clean_newFleet.shape[0], 10000,95)\r\n",
        "new_upper = round(new_lowerUpper[2],2)\r\n",
        "new_lower = round(new_lowerUpper[1],2)\r\n",
        "\r\n",
        "print(new_lower,new_upper)"
      ],
      "execution_count": 141,
      "outputs": [
        {
          "output_type": "stream",
          "text": [
            "5.14 6.92\n"
          ],
          "name": "stdout"
        }
      ]
    },
    {
      "cell_type": "code",
      "metadata": {
        "colab": {
          "base_uri": "https://localhost:8080/"
        },
        "id": "swFFpoi0q3-N",
        "outputId": "42b9a86f-65c2-47b6-8fb5-d9f9cb46ed96"
      },
      "source": [
        "#The 95% confidence interval for the standard deviation of the old fleet in the vehicles dataset using 10000 iterations is (Answer, Answer\r\n",
        "#). Give your answer including the first two decimal points (e.g., 1.23).\r\n",
        "\r\n",
        "current_lowerUpper = bootstrap_sd_ci(current_fleet, current_fleet.shape[0], 10000,95)\r\n",
        "current_upper = round(current_lowerUpper[2],2)\r\n",
        "current_lower = round(current_lowerUpper[1],2)\r\n",
        "\r\n",
        "print(current_lower,current_upper)"
      ],
      "execution_count": 129,
      "outputs": [
        {
          "output_type": "stream",
          "text": [
            "5.81 6.95\n"
          ],
          "name": "stdout"
        }
      ]
    },
    {
      "cell_type": "code",
      "metadata": {
        "colab": {
          "base_uri": "https://localhost:8080/"
        },
        "id": "HQLS9tlhyxxy",
        "outputId": "d3495050-da7b-4e5c-e03b-30484ceb07b3"
      },
      "source": [
        "# The variables below represent the percentages of democratic votes in Pennsylvania and Ohio (one value for each state).\r\n",
        "dem_share_PA = [60.08, 40.64, 36.07, 41.21, 31.04, 43.78, 44.08, 46.85, 44.71, 46.15, 63.10, 52.20, 43.18, 40.24, 39.92, 47.87, 37.77, 40.11, \r\n",
        "                49.85, 48.61, 38.62, 54.25, 34.84, 47.75, 43.82, 55.97, 58.23, 42.97, 42.38, 36.11, 37.53, 42.65, 50.96, 47.43, 56.24, 45.60, \r\n",
        "                46.39, 35.22, 48.56, 32.97, 57.88, 36.05, 37.72, 50.36, 32.12, 41.55, 54.66, 57.81, 54.58, 32.88, 54.37, 40.45, 47.61, 60.49, \r\n",
        "                43.11, 27.32, 44.03, 33.56, 37.26, 54.64, 43.12, 25.34, 49.79, 83.56, 40.09, 60.81, 49.81]\r\n",
        "dem_share_OH = [56.94, 50.46, 65.99, 45.88, 42.23, 45.26, 57.01, 53.61, 59.10, 61.48, 43.43, 44.69, 54.59, 48.36, 45.89, 48.62, 43.92, 38.23, \r\n",
        "                28.79, 63.57, 38.07, 40.18, 43.05, 41.56, 42.49, 36.06, 52.76, 46.07, 39.43, 39.26, 47.47, 27.92, 38.01, 45.45, 29.07, 28.94, \r\n",
        "                51.28, 50.10, 39.84, 36.43, 35.71, 31.47, 47.01, 40.10, 48.76, 31.56, 39.86, 45.31, 35.47, 51.38, 46.33, 48.73, 41.77, 41.32, \r\n",
        "                48.46, 53.14, 34.01, 54.74, 40.67, 38.96, 46.29, 38.25, 6.80, 31.75, 46.33, 44.90, 33.57, 38.10, 39.67, 40.47, 49.44, 37.62, \r\n",
        "                36.71, 46.73, 42.20, 53.16, 52.40, 58.36, 68.02, 38.53, 34.58, 69.64, 60.50, 53.53, 36.54, 49.58, 41.97, 38.11]\r\n",
        "\r\n",
        "print(len(dem_share_PA), len(dem_share_OH))\r\n",
        "share_PA = np.array(dem_share_PA)\r\n",
        "share_OH = np.array(dem_share_OH)\r\n",
        "\r\n",
        "#print(np.mean(share_PA), np.mean(share_OH))\r\n",
        "\r\n",
        "# The 90% confidence intervals for the means of the votes using 25000 bootstraps are:\r\n",
        "PA_UpperLower = bootstrap_mean_ci(share_PA, share_PA.shape[0], 25000,90)\r\n",
        "PA_upper = round(PA_UpperLower[2],2)\r\n",
        "PA_lower = round(PA_UpperLower[1],2)\r\n",
        "print(\"for PA: {},{}\".format(PA_upper, PA_lower))\r\n",
        "\r\n",
        "OH_UpperLower = bootstrap_mean_ci(share_OH, share_OH.shape[0], 25000,90)\r\n",
        "OH_upper = round(OH_UpperLower[2],2)\r\n",
        "OH_lower = round(OH_UpperLower[1],2)\r\n",
        "print(\"for OH: {},{}\".format(OH_upper, OH_lower))\r\n",
        "\r\n",
        "#taking out the p-value\r\n",
        "print(round(permut_test(dem_share_PA, dem_share_OH, 20000),3))"
      ],
      "execution_count": 142,
      "outputs": [
        {
          "output_type": "stream",
          "text": [
            "67 88\n",
            "for PA: 47.03,43.94\n",
            "for OH: 45.66,42.97\n",
            "0.239\n"
          ],
          "name": "stdout"
        }
      ]
    },
    {
      "cell_type": "markdown",
      "metadata": {
        "id": "23NZ2P1FP_Ir"
      },
      "source": [
        "# **Quiz attempt 2**"
      ]
    },
    {
      "cell_type": "code",
      "metadata": {
        "colab": {
          "base_uri": "https://localhost:8080/"
        },
        "id": "A-swfTSzQC2V",
        "outputId": "19ceb8aa-a89d-4a9a-82c6-3ef0162e2dfc"
      },
      "source": [
        "#The 73% confidence interval for the standard deviation of the new fleet in the vehicles dataset using 10000 iterations is (Answer, Answer). Give your answer including the first two decimal points (e.g., 1.23).\r\n",
        "\r\n",
        "new_lowerUpper = bootstrap_sd_ci(clean_newFleet, clean_newFleet.shape[0], 10000,73)\r\n",
        "new_upper = round(new_lowerUpper[2],2)\r\n",
        "new_lower = round(new_lowerUpper[1],2)\r\n",
        "\r\n",
        "print(new_lower,new_upper)"
      ],
      "execution_count": 110,
      "outputs": [
        {
          "output_type": "stream",
          "text": [
            "5.52 6.52\n"
          ],
          "name": "stdout"
        }
      ]
    },
    {
      "cell_type": "code",
      "metadata": {
        "colab": {
          "base_uri": "https://localhost:8080/"
        },
        "id": "6j8Vpo_MVo1f",
        "outputId": "b172a9da-bc0f-40d0-8232-493a5e105fed"
      },
      "source": [
        "#The 73% confidence interval for the standard deviation of the old fleet in the vehicles dataset using 10000 iterations is (Answer, Answer). Give your answer including the first two decimal points (e.g., 1.23).\r\n",
        "\r\n",
        "current_lowerUpper = bootstrap_sd_ci(current_fleet, current_fleet.shape[0], 10000,73)\r\n",
        "current_upper = round(current_lowerUpper[2],2)\r\n",
        "current_lower = round(current_lowerUpper[1],2)\r\n",
        "\r\n",
        "print(current_lower,current_upper)"
      ],
      "execution_count": 111,
      "outputs": [
        {
          "output_type": "stream",
          "text": [
            "6.07 6.7\n"
          ],
          "name": "stdout"
        }
      ]
    },
    {
      "cell_type": "code",
      "metadata": {
        "colab": {
          "base_uri": "https://localhost:8080/"
        },
        "id": "cM-bklTfXi_L",
        "outputId": "a9a26671-ca0b-4afe-831b-3148c2b56b9b"
      },
      "source": [
        "# The variables below represent the percentages of democratic votes in Pennsylvania and Ohio (one value for each state).\r\n",
        "dem_share_PA = [60.08, 40.64, 36.07, 41.21, 31.04, 43.78, 44.08, 46.85, 44.71, 46.15, 63.10, 52.20, 43.18, 40.24, 39.92, 47.87, 37.77, 40.11, 49.85, 48.61, 38.62, 54.25, 34.84, 47.75, 43.82, 55.97, 58.23, 42.97, 42.38, 36.11, 37.53, 42.65, 50.96, 47.43, 56.24, 45.60, 46.39, 35.22, 48.56, 32.97, 57.88, 36.05, 37.72, 50.36, 32.12, 41.55, 54.66, 57.81, 54.58, 32.88, 54.37, 40.45, 47.61, 60.49, 43.11, 27.32, 44.03, 33.56, 37.26, 54.64, 43.12, 25.34, 49.79, 83.56, 40.09, 60.81, 49.81]\r\n",
        "dem_share_OH = [56.94, 50.46, 65.99, 45.88, 42.23, 45.26, 57.01, 53.61, 59.10, 61.48, 43.43, 44.69, 54.59, 48.36, 45.89, 48.62, 43.92, 38.23, 28.79, 63.57, 38.07, 40.18, 43.05, 41.56, 42.49, 36.06, 52.76, 46.07, 39.43, 39.26, 47.47, 27.92, 38.01, 45.45, 29.07, 28.94, 51.28, 50.10, 39.84, 36.43, 35.71, 31.47, 47.01, 40.10, 48.76, 31.56, 39.86, 45.31, 35.47, 51.38, 46.33, 48.73, 41.77, 41.32, 48.46, 53.14, 34.01, 54.74, 40.67, 38.96, 46.29, 38.25, 6.80, 31.75, 46.33, 44.90, 33.57, 38.10, 39.67, 40.47, 49.44, 37.62, 36.71, 46.73, 42.20, 53.16, 52.40, 58.36, 68.02, 38.53, 34.58, 69.64, 60.50, 53.53, 36.54, 49.58, 41.97, 38.11]\r\n",
        "\r\n",
        "\r\n",
        "print(len(dem_share_PA), len(dem_share_OH))\r\n",
        "share_PA = np.array(dem_share_PA)\r\n",
        "share_OH = np.array(dem_share_OH)\r\n",
        "\r\n",
        "print(np.mean(share_PA), np.mean(share_OH))\r\n",
        "\r\n",
        "#Q8: The 98% confidence intervals for the means of the votes using 100000 bootstraps are:\r\n",
        "PA_UpperLower = bootstrap_mean_ci(share_PA, share_PA.shape[0], 100000,98)\r\n",
        "PA_upper = round(PA_UpperLower[2],2)\r\n",
        "PA_lower = round(PA_UpperLower[1],2)\r\n",
        "\r\n",
        "OH_UpperLower = bootstrap_mean_ci(share_OH, share_OH.shape[0], 100000,98)\r\n",
        "OH_upper = round(OH_UpperLower[2],2)\r\n",
        "OH_lower = round(OH_UpperLower[1],2)\r\n",
        "\r\n",
        "print(\"for PA: {},{}\".format(PA_upper, PA_lower))\r\n",
        "print(\"for OH: {},{}\".format(OH_upper, OH_lower))\r\n",
        "\r\n",
        "#taking out the p-value\r\n",
        "\r\n",
        "print(round(permut_test(dem_share_PA, dem_share_OH, 30000 ),3))"
      ],
      "execution_count": 112,
      "outputs": [
        {
          "output_type": "stream",
          "text": [
            "67 88\n",
            "45.476417910447765 44.31818181818182\n",
            "for PA: 47.03,43.96\n",
            "for OH: 45.66,42.98\n",
            "0.234\n"
          ],
          "name": "stdout"
        }
      ]
    },
    {
      "cell_type": "markdown",
      "metadata": {
        "id": "YrNvg8Rrb9hr"
      },
      "source": [
        "# **Quiz attempt 3**"
      ]
    },
    {
      "cell_type": "code",
      "metadata": {
        "colab": {
          "base_uri": "https://localhost:8080/"
        },
        "id": "KCdg83grcCCP",
        "outputId": "10592a13-7933-46bd-e65e-e78a0fbf784c"
      },
      "source": [
        "#The 60% confidence interval for the mean of the new fleet in the vehicles dataset using 10000 iterations is\r\n",
        "new_lowerUpper = bootstrap_mean_ci(clean_newFleet, clean_newFleet.shape[0], 10000,60)\r\n",
        "new_upper = round(new_lowerUpper[2],2)\r\n",
        "new_lower = round(new_lowerUpper[1],2)\r\n",
        "\r\n",
        "print(new_upper,new_lower)"
      ],
      "execution_count": 113,
      "outputs": [
        {
          "output_type": "stream",
          "text": [
            "31.35 29.59\n"
          ],
          "name": "stdout"
        }
      ]
    },
    {
      "cell_type": "code",
      "metadata": {
        "colab": {
          "base_uri": "https://localhost:8080/"
        },
        "id": "wwUlFEVzcCUo",
        "outputId": "554487dc-e497-4dc8-fb46-8678b79e82bf"
      },
      "source": [
        "#the 80% confidence interval for the mean of the customers dataset using 10000 iterations is\r\n",
        "\r\n",
        "customer_UpperLower = bootstrap_mean_ci(data, data.shape[0], 10000, 80)\r\n",
        "\r\n",
        "\r\n",
        "print(round(customer_UpperLower[2],2),round(customer_UpperLower[1],2))"
      ],
      "execution_count": 114,
      "outputs": [
        {
          "output_type": "stream",
          "text": [
            "11.21 7.29\n"
          ],
          "name": "stdout"
        }
      ]
    },
    {
      "cell_type": "code",
      "metadata": {
        "colab": {
          "base_uri": "https://localhost:8080/"
        },
        "id": "7Pk-H5vgcCjE",
        "outputId": "ea651d7a-23aa-4059-9ca0-516a1e5b740d"
      },
      "source": [
        "#The 99% confidence interval for the standard deviation of the old fleet in the vehicles dataset using 10000 iterations is\r\n",
        "\r\n",
        "sd_customer = bootstrap_sd_ci(data, data.shape[0], 10000,99)\r\n",
        "customer_sd_upper = round(sd_customer[2],2)\r\n",
        "customer_sd_lower = round(sd_customer[1],2)\r\n",
        "\r\n",
        "\r\n",
        "\r\n",
        "print(customer_sd_lower,customer_sd_upper)"
      ],
      "execution_count": 115,
      "outputs": [
        {
          "output_type": "stream",
          "text": [
            "2.22 7.81\n"
          ],
          "name": "stdout"
        }
      ]
    },
    {
      "cell_type": "code",
      "metadata": {
        "colab": {
          "base_uri": "https://localhost:8080/"
        },
        "id": "LuXPSMIecC1r",
        "outputId": "6ee04eb3-84b2-494a-a628-cb83eceb98e6"
      },
      "source": [
        "#The 95% confidence interval for the standard deviation of the new fleet in the vehicles dataset using 10000 iterations is (Answer, Answer). Give your answer including the first two decimal points (e.g., 1.23).\r\n",
        "\r\n",
        "new_lowerUpper = bootstrap_sd_ci(clean_newFleet, clean_newFleet.shape[0], 10000,95)\r\n",
        "new_upper = round(new_lowerUpper[2],2)\r\n",
        "new_lower = round(new_lowerUpper[1],2)\r\n",
        "\r\n",
        "print(new_lower,new_upper)"
      ],
      "execution_count": 116,
      "outputs": [
        {
          "output_type": "stream",
          "text": [
            "5.16 6.92\n"
          ],
          "name": "stdout"
        }
      ]
    },
    {
      "cell_type": "code",
      "metadata": {
        "colab": {
          "base_uri": "https://localhost:8080/"
        },
        "id": "wNPoKGIkcDK7",
        "outputId": "b6949478-a9cc-4795-828c-538f63521bfd"
      },
      "source": [
        "# The variables below represent the percentages of democratic votes in Pennsylvania and Ohio (one value for each state).\r\n",
        "dem_share_PA = [60.08, 40.64, 36.07, 41.21, 31.04, 43.78, 44.08, 46.85, 44.71, 46.15, 63.10, 52.20, 43.18, 40.24, 39.92, 47.87, 37.77, 40.11, \r\n",
        "                49.85, 48.61, 38.62, 54.25, 34.84, 47.75, 43.82, 55.97, 58.23, 42.97, 42.38, 36.11, 37.53, 42.65, 50.96, 47.43, 56.24, 45.60, \r\n",
        "                46.39, 35.22, 48.56, 32.97, 57.88, 36.05, 37.72, 50.36, 32.12, 41.55, 54.66, 57.81, 54.58, 32.88, 54.37, 40.45, 47.61, 60.49, \r\n",
        "                43.11, 27.32, 44.03, 33.56, 37.26, 54.64, 43.12, 25.34, 49.79, 83.56, 40.09, 60.81, 49.81]\r\n",
        "dem_share_OH = [56.94, 50.46, 65.99, 45.88, 42.23, 45.26, 57.01, 53.61, 59.10, 61.48, 43.43, 44.69, 54.59, 48.36, 45.89, 48.62, 43.92, 38.23, \r\n",
        "                28.79, 63.57, 38.07, 40.18, 43.05, 41.56, 42.49, 36.06, 52.76, 46.07, 39.43, 39.26, 47.47, 27.92, 38.01, 45.45, 29.07, 28.94, \r\n",
        "                51.28, 50.10, 39.84, 36.43, 35.71, 31.47, 47.01, 40.10, 48.76, 31.56, 39.86, 45.31, 35.47, 51.38, 46.33, 48.73, 41.77, 41.32, \r\n",
        "                48.46, 53.14, 34.01, 54.74, 40.67, 38.96, 46.29, 38.25, 6.80, 31.75, 46.33, 44.90, 33.57, 38.10, 39.67, 40.47, 49.44, 37.62, \r\n",
        "                36.71, 46.73, 42.20, 53.16, 52.40, 58.36, 68.02, 38.53, 34.58, 69.64, 60.50, 53.53, 36.54, 49.58, 41.97, 38.11]\r\n",
        "\r\n",
        "\r\n",
        "print(len(dem_share_PA), len(dem_share_OH))\r\n",
        "share_PA = np.array(dem_share_PA)\r\n",
        "share_OH = np.array(dem_share_OH)\r\n",
        "\r\n",
        "#print(np.mean(share_PA), np.mean(share_OH))\r\n",
        "\r\n",
        "# The 90% confidence intervals for the means of the votes using 25000 bootstraps are:\r\n",
        "PA_UpperLower = bootstrap_mean_ci(share_PA, share_PA.shape[0], 25000,90)\r\n",
        "PA_upper = round(PA_UpperLower[2],2)\r\n",
        "PA_lower = round(PA_UpperLower[1],2)\r\n",
        "print(\"for PA: {},{}\".format(PA_upper, PA_lower))\r\n",
        "\r\n",
        "OH_UpperLower = bootstrap_mean_ci(share_OH, share_OH.shape[0], 25000,90)\r\n",
        "OH_upper = round(OH_UpperLower[2],2)\r\n",
        "OH_lower = round(OH_UpperLower[1],2)\r\n",
        "print(\"for OH: {},{}\".format(OH_upper, OH_lower))\r\n",
        "\r\n",
        "\r\n",
        "#taking out the p-value\r\n",
        "\r\n",
        "print(round(permut_test(dem_share_PA, dem_share_OH, 20000),3))"
      ],
      "execution_count": 117,
      "outputs": [
        {
          "output_type": "stream",
          "text": [
            "67 88\n",
            "for PA: 47.03,43.98\n",
            "for OH: 45.66,42.96\n",
            "0.237\n"
          ],
          "name": "stdout"
        }
      ]
    },
    {
      "cell_type": "markdown",
      "metadata": {
        "id": "G8LzGpHnhpCV"
      },
      "source": [
        "# **Quiz Attempt 4**"
      ]
    },
    {
      "cell_type": "code",
      "metadata": {
        "colab": {
          "base_uri": "https://localhost:8080/"
        },
        "id": "n7s7m9UMhtpe",
        "outputId": "92bd0b8e-5941-4419-b8ec-e3250080e696"
      },
      "source": [
        "#The 95% confidence interval for the mean of the new fleet in the vehicles dataset using 10000 iterations is (Answer, Answer). Give your answer including the first two decimal points (e.g., 1.23).\r\n",
        "\r\n",
        "new_lowerUpper = bootstrap_mean_ci(clean_newFleet, clean_newFleet.shape[0], 10000,95)\r\n",
        "new_upper = round(new_lowerUpper[2],2)\r\n",
        "new_lower = round(new_lowerUpper[1],2)\r\n",
        "\r\n",
        "print(new_lower,new_upper)"
      ],
      "execution_count": 118,
      "outputs": [
        {
          "output_type": "stream",
          "text": [
            "29.61 31.37\n"
          ],
          "name": "stdout"
        }
      ]
    },
    {
      "cell_type": "code",
      "metadata": {
        "colab": {
          "base_uri": "https://localhost:8080/"
        },
        "id": "Ly4bBH3vht6r",
        "outputId": "5f84cdeb-58f7-4dd0-a480-25ef1fe024cb"
      },
      "source": [
        "#the 95% confidence interval for the mean of the customers dataset using 10000 iterations is\r\n",
        "\r\n",
        "customer_UpperLower = bootstrap_mean_ci(data, data.shape[0], 10000, 95)\r\n",
        "\r\n",
        "print(round(customer_UpperLower[2],2),round(customer_UpperLower[1],2))"
      ],
      "execution_count": 119,
      "outputs": [
        {
          "output_type": "stream",
          "text": [
            "11.29 7.36\n"
          ],
          "name": "stdout"
        }
      ]
    },
    {
      "cell_type": "code",
      "metadata": {
        "colab": {
          "base_uri": "https://localhost:8080/"
        },
        "id": "afzpnGFJhwHS",
        "outputId": "24cfa7ff-635b-4984-bd78-4be80c1b66e4"
      },
      "source": [
        "#The 99% confidence interval for the standard deviation of the new fleet in the vehicles dataset using 10000 iterations is (Answer, Answer). Give your answer including the first two decimal points (e.g., 1.23).\r\n",
        "\r\n",
        "new_lowerUpper = bootstrap_sd_ci(clean_newFleet, clean_newFleet.shape[0], 10000,99)\r\n",
        "new_upper = round(new_lowerUpper[2],2)\r\n",
        "new_lower = round(new_lowerUpper[1],2)\r\n",
        "\r\n",
        "print(new_lower,new_upper)"
      ],
      "execution_count": 120,
      "outputs": [
        {
          "output_type": "stream",
          "text": [
            "4.83 7.21\n"
          ],
          "name": "stdout"
        }
      ]
    },
    {
      "cell_type": "code",
      "metadata": {
        "colab": {
          "base_uri": "https://localhost:8080/"
        },
        "id": "uFvOdeVzhwYg",
        "outputId": "958b7bda-17bf-45bb-c2ed-fdb163276d7f"
      },
      "source": [
        "#The 95% confidence interval for the standard deviation of the customers dataset using 10000 iterations is\r\n",
        "sd_customer = bootstrap_sd_ci(data, data.shape[0], 10000,95)\r\n",
        "customer_sd_upper = round(sd_customer[2],2)\r\n",
        "customer_sd_lower = round(sd_customer[1],2)\r\n",
        "\r\n",
        "print(customer_sd_lower,customer_sd_upper)"
      ],
      "execution_count": 121,
      "outputs": [
        {
          "output_type": "stream",
          "text": [
            "2.73 7.4\n"
          ],
          "name": "stdout"
        }
      ]
    },
    {
      "cell_type": "code",
      "metadata": {
        "colab": {
          "base_uri": "https://localhost:8080/"
        },
        "id": "Ss-m48dyhwud",
        "outputId": "0ea56f24-b3ef-4134-ba37-97b425cdacd7"
      },
      "source": [
        "# The variables below represent the percentages of democratic votes in Pennsylvania and Ohio (one value for each state).\r\n",
        "dem_share_PA = [60.08, 40.64, 36.07, 41.21, 31.04, 43.78, 44.08, 46.85, 44.71, 46.15, 63.10, 52.20, 43.18, 40.24, 39.92, 47.87, 37.77, 40.11, \r\n",
        "                49.85, 48.61, 38.62, 54.25, 34.84, 47.75, 43.82, 55.97, 58.23, 42.97, 42.38, 36.11, 37.53, 42.65, 50.96, 47.43, 56.24, 45.60, \r\n",
        "                46.39, 35.22, 48.56, 32.97, 57.88, 36.05, 37.72, 50.36, 32.12, 41.55, 54.66, 57.81, 54.58, 32.88, 54.37, 40.45, 47.61, 60.49, \r\n",
        "                43.11, 27.32, 44.03, 33.56, 37.26, 54.64, 43.12, 25.34, 49.79, 83.56, 40.09, 60.81, 49.81]\r\n",
        "dem_share_OH = [56.94, 50.46, 65.99, 45.88, 42.23, 45.26, 57.01, 53.61, 59.10, 61.48, 43.43, 44.69, 54.59, 48.36, 45.89, 48.62, 43.92, 38.23, \r\n",
        "                28.79, 63.57, 38.07, 40.18, 43.05, 41.56, 42.49, 36.06, 52.76, 46.07, 39.43, 39.26, 47.47, 27.92, 38.01, 45.45, 29.07, 28.94, \r\n",
        "                51.28, 50.10, 39.84, 36.43, 35.71, 31.47, 47.01, 40.10, 48.76, 31.56, 39.86, 45.31, 35.47, 51.38, 46.33, 48.73, 41.77, 41.32, \r\n",
        "                48.46, 53.14, 34.01, 54.74, 40.67, 38.96, 46.29, 38.25, 6.80, 31.75, 46.33, 44.90, 33.57, 38.10, 39.67, 40.47, 49.44, 37.62, \r\n",
        "                36.71, 46.73, 42.20, 53.16, 52.40, 58.36, 68.02, 38.53, 34.58, 69.64, 60.50, 53.53, 36.54, 49.58, 41.97, 38.11]\r\n",
        "\r\n",
        "print(len(dem_share_PA), len(dem_share_OH))\r\n",
        "share_PA = np.array(dem_share_PA)\r\n",
        "share_OH = np.array(dem_share_OH)\r\n",
        "\r\n",
        "#print(np.mean(share_PA), np.mean(share_OH))\r\n",
        "\r\n",
        "# The 95% confidence intervals for the means of the votes using 20000 bootstraps are:\r\n",
        "PA_UpperLower = bootstrap_mean_ci(share_PA, share_PA.shape[0], 20000,95)\r\n",
        "PA_upper = round(PA_UpperLower[2],2)\r\n",
        "PA_lower = round(PA_UpperLower[1],2)\r\n",
        "print(\"for PA: {},{}\".format(PA_upper, PA_lower))\r\n",
        "\r\n",
        "OH_UpperLower = bootstrap_mean_ci(share_OH, share_OH.shape[0], 20000,95)\r\n",
        "OH_upper = round(OH_UpperLower[2],2)\r\n",
        "OH_lower = round(OH_UpperLower[1],2)\r\n",
        "print(\"for OH: {},{}\".format(OH_upper, OH_lower))\r\n",
        "\r\n",
        "#taking out the p-value\r\n",
        "\r\n",
        "print(round(permut_test(dem_share_PA, dem_share_OH, 10000),3))"
      ],
      "execution_count": 122,
      "outputs": [
        {
          "output_type": "stream",
          "text": [
            "67 88\n",
            "for PA: 47.01,43.95\n",
            "for OH: 45.68,42.98\n",
            "0.233\n"
          ],
          "name": "stdout"
        }
      ]
    },
    {
      "cell_type": "code",
      "metadata": {
        "id": "sJsfS4eShxa8"
      },
      "source": [
        ""
      ],
      "execution_count": null,
      "outputs": []
    },
    {
      "cell_type": "code",
      "metadata": {
        "id": "rSrPg-H7rwp8"
      },
      "source": [
        ""
      ],
      "execution_count": 123,
      "outputs": []
    },
    {
      "cell_type": "code",
      "metadata": {
        "id": "UpvBz6Qjrw5K"
      },
      "source": [
        ""
      ],
      "execution_count": 123,
      "outputs": []
    },
    {
      "cell_type": "code",
      "metadata": {
        "id": "gx2cfXsgrxKq"
      },
      "source": [
        ""
      ],
      "execution_count": 123,
      "outputs": []
    },
    {
      "cell_type": "code",
      "metadata": {
        "id": "eeF-eubJrxbH"
      },
      "source": [
        ""
      ],
      "execution_count": 123,
      "outputs": []
    }
  ]
}