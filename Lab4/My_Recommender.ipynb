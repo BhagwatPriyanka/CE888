{
  "nbformat": 4,
  "nbformat_minor": 0,
  "metadata": {
    "colab": {
      "name": "My_Recommender.ipynb",
      "provenance": [],
      "collapsed_sections": [],
      "authorship_tag": "ABX9TyMYRB0OXafOZCcdAlMIb6QA",
      "include_colab_link": true
    },
    "kernelspec": {
      "name": "python3",
      "display_name": "Python 3"
    },
    "language_info": {
      "name": "python"
    }
  },
  "cells": [
    {
      "cell_type": "markdown",
      "metadata": {
        "id": "view-in-github",
        "colab_type": "text"
      },
      "source": [
        "<a href=\"https://colab.research.google.com/github/BhagwatPriyanka/CE888/blob/main/Lab4/My_Recommender.ipynb\" target=\"_parent\"><img src=\"https://colab.research.google.com/assets/colab-badge.svg\" alt=\"Open In Colab\"/></a>"
      ]
    },
    {
      "cell_type": "markdown",
      "metadata": {
        "id": "TeZZnCrPHmx5"
      },
      "source": [
        "**Import packages/libraries**"
      ]
    },
    {
      "cell_type": "code",
      "metadata": {
        "id": "9L5q8QaxHjXg"
      },
      "source": [
        "import pandas as pd\n",
        "import numpy as np\n",
        "import matplotlib.pyplot as plt"
      ],
      "execution_count": 1,
      "outputs": []
    },
    {
      "cell_type": "markdown",
      "metadata": {
        "id": "22vevN4bHvtq"
      },
      "source": [
        "**Load the data files**"
      ]
    },
    {
      "cell_type": "code",
      "metadata": {
        "id": "yl0in2nEHjaS"
      },
      "source": [
        "data=pd.read_csv('https://raw.githubusercontent.com/albanda/CE888/master/lab4-recommender/jester-data-1.csv', header=None)"
      ],
      "execution_count": 2,
      "outputs": []
    },
    {
      "cell_type": "code",
      "metadata": {
        "id": "AVWuAvbBHjcu"
      },
      "source": [
        "test_data=pd.DataFrame(data)\n",
        "test_data=pd.concat([test_data.loc[:, 0], test_data.loc[:, 1:].replace(99.00, np.NaN)], axis=1)\n",
        "test_data.drop(columns=[0], inplace=True)"
      ],
      "execution_count": 3,
      "outputs": []
    },
    {
      "cell_type": "code",
      "metadata": {
        "id": "Z5gQlLk-Hjft"
      },
      "source": [
        "data=pd.concat([data.loc[:, 0], data.loc[:, 1:].replace(99.00, np.NaN)], axis=1)\n",
        "data.drop(columns=[0], inplace=True)"
      ],
      "execution_count": 4,
      "outputs": []
    },
    {
      "cell_type": "code",
      "metadata": {
        "id": "M940P3OxHjid"
      },
      "source": [
        "val_data=pd.read_csv('https://raw.githubusercontent.com/albanda/CE888/master/lab4-recommender/jester-data-1.csv', header=None)\n",
        "val_data.drop(columns=[0], inplace=True)\n",
        "# val_data.head()"
      ],
      "execution_count": 5,
      "outputs": []
    },
    {
      "cell_type": "markdown",
      "metadata": {
        "id": "A2UVxwruH5Nn"
      },
      "source": [
        "**Highest and lowest rated joke**"
      ]
    },
    {
      "cell_type": "code",
      "metadata": {
        "colab": {
          "base_uri": "https://localhost:8080/"
        },
        "id": "sKmlAvP_HjlW",
        "outputId": "1304d5df-76d9-4aaf-946f-def10445aabd"
      },
      "source": [
        "print('Joke with highest rating : ', test_data.max(axis=0).idxmax())\n",
        "print('Joke with lowest rating : ', test_data.min(axis=0).idxmin())"
      ],
      "execution_count": 6,
      "outputs": [
        {
          "output_type": "stream",
          "text": [
            "Joke with highest rating :  45\n",
            "Joke with lowest rating :  1\n"
          ],
          "name": "stdout"
        }
      ]
    },
    {
      "cell_type": "code",
      "metadata": {
        "id": "RewiLrLxHjoG"
      },
      "source": [
        "# val_data=pd.DataFrame(data)\n",
        "# val_data.drop(columns=[0], inplace=True)"
      ],
      "execution_count": 7,
      "outputs": []
    },
    {
      "cell_type": "markdown",
      "metadata": {
        "id": "G_h8Y7K4H_44"
      },
      "source": [
        "**Prepare Validation Data**"
      ]
    },
    {
      "cell_type": "code",
      "metadata": {
        "colab": {
          "base_uri": "https://localhost:8080/"
        },
        "id": "mlbfpaVBHjq7",
        "outputId": "6660898b-c532-4cea-b4cf-32bfff6b7567"
      },
      "source": [
        "arr = val_data.values\n",
        "arr.shape"
      ],
      "execution_count": 8,
      "outputs": [
        {
          "output_type": "execute_result",
          "data": {
            "text/plain": [
              "(24983, 100)"
            ]
          },
          "metadata": {
            "tags": []
          },
          "execution_count": 8
        }
      ]
    },
    {
      "cell_type": "code",
      "metadata": {
        "colab": {
          "base_uri": "https://localhost:8080/"
        },
        "id": "KnwmHs6SHjuC",
        "outputId": "4945fdce-c184-40db-8279-2a9789949b3e"
      },
      "source": [
        "rated = np.where(arr!=99)\n",
        "print(len(rated[0]), rated[1].shape)"
      ],
      "execution_count": 9,
      "outputs": [
        {
          "output_type": "stream",
          "text": [
            "1810455 (1810455,)\n"
          ],
          "name": "stdout"
        }
      ]
    },
    {
      "cell_type": "code",
      "metadata": {
        "id": "GiU7JAFfHjxD"
      },
      "source": [
        "# data.drop(columns=[0], inplace=True)"
      ],
      "execution_count": 10,
      "outputs": []
    },
    {
      "cell_type": "code",
      "metadata": {
        "colab": {
          "base_uri": "https://localhost:8080/"
        },
        "id": "fpbRV-s7Hjzw",
        "outputId": "fd4e8b2c-36c6-4a2a-c068-cb32c7a13f6f"
      },
      "source": [
        "len(np.where(arr!=99)[1])"
      ],
      "execution_count": 11,
      "outputs": [
        {
          "output_type": "execute_result",
          "data": {
            "text/plain": [
              "1810455"
            ]
          },
          "metadata": {
            "tags": []
          },
          "execution_count": 11
        }
      ]
    },
    {
      "cell_type": "code",
      "metadata": {
        "id": "1kKy-46GHj2i"
      },
      "source": [
        "def replace(orig, percentage=0.1):\n",
        "  \"\"\"\n",
        "  Replaces 'percentage'% of the original values in 'orig' with 99's\n",
        "  :param orig: original data array\n",
        "  :param percentage: percentage of values to replace (0<percentage<1)\n",
        "  \"\"\"\n",
        "  new_data = orig.copy()\n",
        "  rated = np.where(arr!=99)\n",
        "  n_rated = len(rated[0])\n",
        "  idx = np.random.choice(n_rated, size=int(percentage*n_rated), replace=False)\n",
        "  new_data[rated[0][idx], rated[1][idx]] = 99\n",
        "  return new_data, (rated[0][idx], rated[1][idx])"
      ],
      "execution_count": 12,
      "outputs": []
    },
    {
      "cell_type": "code",
      "metadata": {
        "id": "PdLcCsGfHj5f"
      },
      "source": [
        "new_arr, idx = replace(arr, 0.1)"
      ],
      "execution_count": 13,
      "outputs": []
    },
    {
      "cell_type": "code",
      "metadata": {
        "colab": {
          "base_uri": "https://localhost:8080/"
        },
        "id": "Y5IK6wY9Hj8g",
        "outputId": "1176eb35-3b7d-4b65-f3c1-cbc7f888b25e"
      },
      "source": [
        "arr[idx[0][0], idx[1][0]]"
      ],
      "execution_count": 14,
      "outputs": [
        {
          "output_type": "execute_result",
          "data": {
            "text/plain": [
              "-0.97"
            ]
          },
          "metadata": {
            "tags": []
          },
          "execution_count": 14
        }
      ]
    },
    {
      "cell_type": "code",
      "metadata": {
        "colab": {
          "base_uri": "https://localhost:8080/"
        },
        "id": "jk67kukZHj-u",
        "outputId": "5442292f-daa9-409f-9aa5-0b85ef79cd3b"
      },
      "source": [
        "new_arr[idx[0][0], idx[1][0]]"
      ],
      "execution_count": 15,
      "outputs": [
        {
          "output_type": "execute_result",
          "data": {
            "text/plain": [
              "99.0"
            ]
          },
          "metadata": {
            "tags": []
          },
          "execution_count": 15
        }
      ]
    },
    {
      "cell_type": "code",
      "metadata": {
        "colab": {
          "base_uri": "https://localhost:8080/",
          "height": 244
        },
        "id": "_6nRqUjgHkBw",
        "outputId": "350e8856-8e7d-4605-8216-ee4d01bf74bc"
      },
      "source": [
        "val_data=pd.DataFrame(new_arr)\n",
        "val_data=pd.DataFrame(val_data.loc[:, 0:].replace(99.00, np.NaN))\n",
        "val_data.head()"
      ],
      "execution_count": 16,
      "outputs": [
        {
          "output_type": "execute_result",
          "data": {
            "text/html": [
              "<div>\n",
              "<style scoped>\n",
              "    .dataframe tbody tr th:only-of-type {\n",
              "        vertical-align: middle;\n",
              "    }\n",
              "\n",
              "    .dataframe tbody tr th {\n",
              "        vertical-align: top;\n",
              "    }\n",
              "\n",
              "    .dataframe thead th {\n",
              "        text-align: right;\n",
              "    }\n",
              "</style>\n",
              "<table border=\"1\" class=\"dataframe\">\n",
              "  <thead>\n",
              "    <tr style=\"text-align: right;\">\n",
              "      <th></th>\n",
              "      <th>0</th>\n",
              "      <th>1</th>\n",
              "      <th>2</th>\n",
              "      <th>3</th>\n",
              "      <th>4</th>\n",
              "      <th>5</th>\n",
              "      <th>6</th>\n",
              "      <th>7</th>\n",
              "      <th>8</th>\n",
              "      <th>9</th>\n",
              "      <th>10</th>\n",
              "      <th>11</th>\n",
              "      <th>12</th>\n",
              "      <th>13</th>\n",
              "      <th>14</th>\n",
              "      <th>15</th>\n",
              "      <th>16</th>\n",
              "      <th>17</th>\n",
              "      <th>18</th>\n",
              "      <th>19</th>\n",
              "      <th>20</th>\n",
              "      <th>21</th>\n",
              "      <th>22</th>\n",
              "      <th>23</th>\n",
              "      <th>24</th>\n",
              "      <th>25</th>\n",
              "      <th>26</th>\n",
              "      <th>27</th>\n",
              "      <th>28</th>\n",
              "      <th>29</th>\n",
              "      <th>30</th>\n",
              "      <th>31</th>\n",
              "      <th>32</th>\n",
              "      <th>33</th>\n",
              "      <th>34</th>\n",
              "      <th>35</th>\n",
              "      <th>36</th>\n",
              "      <th>37</th>\n",
              "      <th>38</th>\n",
              "      <th>39</th>\n",
              "      <th>...</th>\n",
              "      <th>60</th>\n",
              "      <th>61</th>\n",
              "      <th>62</th>\n",
              "      <th>63</th>\n",
              "      <th>64</th>\n",
              "      <th>65</th>\n",
              "      <th>66</th>\n",
              "      <th>67</th>\n",
              "      <th>68</th>\n",
              "      <th>69</th>\n",
              "      <th>70</th>\n",
              "      <th>71</th>\n",
              "      <th>72</th>\n",
              "      <th>73</th>\n",
              "      <th>74</th>\n",
              "      <th>75</th>\n",
              "      <th>76</th>\n",
              "      <th>77</th>\n",
              "      <th>78</th>\n",
              "      <th>79</th>\n",
              "      <th>80</th>\n",
              "      <th>81</th>\n",
              "      <th>82</th>\n",
              "      <th>83</th>\n",
              "      <th>84</th>\n",
              "      <th>85</th>\n",
              "      <th>86</th>\n",
              "      <th>87</th>\n",
              "      <th>88</th>\n",
              "      <th>89</th>\n",
              "      <th>90</th>\n",
              "      <th>91</th>\n",
              "      <th>92</th>\n",
              "      <th>93</th>\n",
              "      <th>94</th>\n",
              "      <th>95</th>\n",
              "      <th>96</th>\n",
              "      <th>97</th>\n",
              "      <th>98</th>\n",
              "      <th>99</th>\n",
              "    </tr>\n",
              "  </thead>\n",
              "  <tbody>\n",
              "    <tr>\n",
              "      <th>0</th>\n",
              "      <td>-7.82</td>\n",
              "      <td>8.79</td>\n",
              "      <td>-9.66</td>\n",
              "      <td>-8.16</td>\n",
              "      <td>-7.52</td>\n",
              "      <td>-8.50</td>\n",
              "      <td>-9.85</td>\n",
              "      <td>4.17</td>\n",
              "      <td>-8.98</td>\n",
              "      <td>-4.76</td>\n",
              "      <td>NaN</td>\n",
              "      <td>-6.75</td>\n",
              "      <td>-7.18</td>\n",
              "      <td>8.45</td>\n",
              "      <td>-7.18</td>\n",
              "      <td>-7.52</td>\n",
              "      <td>-7.43</td>\n",
              "      <td>-9.81</td>\n",
              "      <td>NaN</td>\n",
              "      <td>-9.85</td>\n",
              "      <td>-9.37</td>\n",
              "      <td>1.50</td>\n",
              "      <td>-4.37</td>\n",
              "      <td>-9.81</td>\n",
              "      <td>-8.50</td>\n",
              "      <td>1.12</td>\n",
              "      <td>7.82</td>\n",
              "      <td>2.86</td>\n",
              "      <td>9.13</td>\n",
              "      <td>-7.43</td>\n",
              "      <td>2.14</td>\n",
              "      <td>-4.08</td>\n",
              "      <td>-9.08</td>\n",
              "      <td>7.82</td>\n",
              "      <td>5.05</td>\n",
              "      <td>4.95</td>\n",
              "      <td>-9.17</td>\n",
              "      <td>-8.40</td>\n",
              "      <td>-8.40</td>\n",
              "      <td>NaN</td>\n",
              "      <td>...</td>\n",
              "      <td>8.59</td>\n",
              "      <td>3.59</td>\n",
              "      <td>-6.84</td>\n",
              "      <td>-9.03</td>\n",
              "      <td>2.82</td>\n",
              "      <td>NaN</td>\n",
              "      <td>-9.08</td>\n",
              "      <td>8.30</td>\n",
              "      <td>5.68</td>\n",
              "      <td>-4.81</td>\n",
              "      <td>NaN</td>\n",
              "      <td>NaN</td>\n",
              "      <td>NaN</td>\n",
              "      <td>NaN</td>\n",
              "      <td>NaN</td>\n",
              "      <td>NaN</td>\n",
              "      <td>NaN</td>\n",
              "      <td>-9.42</td>\n",
              "      <td>NaN</td>\n",
              "      <td>NaN</td>\n",
              "      <td>NaN</td>\n",
              "      <td>-7.72</td>\n",
              "      <td>NaN</td>\n",
              "      <td>NaN</td>\n",
              "      <td>NaN</td>\n",
              "      <td>NaN</td>\n",
              "      <td>NaN</td>\n",
              "      <td>NaN</td>\n",
              "      <td>NaN</td>\n",
              "      <td>NaN</td>\n",
              "      <td>NaN</td>\n",
              "      <td>NaN</td>\n",
              "      <td>NaN</td>\n",
              "      <td>NaN</td>\n",
              "      <td>NaN</td>\n",
              "      <td>NaN</td>\n",
              "      <td>-5.63</td>\n",
              "      <td>NaN</td>\n",
              "      <td>NaN</td>\n",
              "      <td>NaN</td>\n",
              "    </tr>\n",
              "    <tr>\n",
              "      <th>1</th>\n",
              "      <td>4.08</td>\n",
              "      <td>-0.29</td>\n",
              "      <td>6.36</td>\n",
              "      <td>4.37</td>\n",
              "      <td>-2.38</td>\n",
              "      <td>NaN</td>\n",
              "      <td>-0.73</td>\n",
              "      <td>-5.34</td>\n",
              "      <td>8.88</td>\n",
              "      <td>9.22</td>\n",
              "      <td>6.75</td>\n",
              "      <td>8.64</td>\n",
              "      <td>4.42</td>\n",
              "      <td>7.43</td>\n",
              "      <td>4.56</td>\n",
              "      <td>-0.97</td>\n",
              "      <td>4.66</td>\n",
              "      <td>-0.68</td>\n",
              "      <td>3.30</td>\n",
              "      <td>-1.21</td>\n",
              "      <td>0.87</td>\n",
              "      <td>8.64</td>\n",
              "      <td>8.35</td>\n",
              "      <td>9.17</td>\n",
              "      <td>0.05</td>\n",
              "      <td>7.57</td>\n",
              "      <td>4.71</td>\n",
              "      <td>0.87</td>\n",
              "      <td>NaN</td>\n",
              "      <td>6.99</td>\n",
              "      <td>6.50</td>\n",
              "      <td>-0.92</td>\n",
              "      <td>7.14</td>\n",
              "      <td>9.03</td>\n",
              "      <td>-1.80</td>\n",
              "      <td>0.73</td>\n",
              "      <td>7.09</td>\n",
              "      <td>3.40</td>\n",
              "      <td>-0.87</td>\n",
              "      <td>7.91</td>\n",
              "      <td>...</td>\n",
              "      <td>-6.70</td>\n",
              "      <td>NaN</td>\n",
              "      <td>-9.03</td>\n",
              "      <td>4.47</td>\n",
              "      <td>4.08</td>\n",
              "      <td>-3.83</td>\n",
              "      <td>8.74</td>\n",
              "      <td>1.12</td>\n",
              "      <td>0.78</td>\n",
              "      <td>NaN</td>\n",
              "      <td>-5.0</td>\n",
              "      <td>2.77</td>\n",
              "      <td>8.3</td>\n",
              "      <td>7.77</td>\n",
              "      <td>7.33</td>\n",
              "      <td>6.21</td>\n",
              "      <td>NaN</td>\n",
              "      <td>8.98</td>\n",
              "      <td>8.64</td>\n",
              "      <td>8.20</td>\n",
              "      <td>3.93</td>\n",
              "      <td>4.85</td>\n",
              "      <td>4.85</td>\n",
              "      <td>NaN</td>\n",
              "      <td>8.98</td>\n",
              "      <td>4.51</td>\n",
              "      <td>-0.05</td>\n",
              "      <td>3.69</td>\n",
              "      <td>4.56</td>\n",
              "      <td>0.58</td>\n",
              "      <td>NaN</td>\n",
              "      <td>-4.95</td>\n",
              "      <td>-0.29</td>\n",
              "      <td>NaN</td>\n",
              "      <td>-0.19</td>\n",
              "      <td>-2.14</td>\n",
              "      <td>3.06</td>\n",
              "      <td>0.34</td>\n",
              "      <td>-4.32</td>\n",
              "      <td>1.07</td>\n",
              "    </tr>\n",
              "    <tr>\n",
              "      <th>2</th>\n",
              "      <td>NaN</td>\n",
              "      <td>NaN</td>\n",
              "      <td>NaN</td>\n",
              "      <td>NaN</td>\n",
              "      <td>9.03</td>\n",
              "      <td>9.27</td>\n",
              "      <td>9.03</td>\n",
              "      <td>9.27</td>\n",
              "      <td>NaN</td>\n",
              "      <td>NaN</td>\n",
              "      <td>7.33</td>\n",
              "      <td>7.57</td>\n",
              "      <td>9.37</td>\n",
              "      <td>6.17</td>\n",
              "      <td>-6.36</td>\n",
              "      <td>NaN</td>\n",
              "      <td>-7.86</td>\n",
              "      <td>9.03</td>\n",
              "      <td>9.03</td>\n",
              "      <td>9.03</td>\n",
              "      <td>7.28</td>\n",
              "      <td>NaN</td>\n",
              "      <td>8.25</td>\n",
              "      <td>NaN</td>\n",
              "      <td>NaN</td>\n",
              "      <td>7.48</td>\n",
              "      <td>7.28</td>\n",
              "      <td>7.28</td>\n",
              "      <td>8.93</td>\n",
              "      <td>NaN</td>\n",
              "      <td>6.17</td>\n",
              "      <td>7.28</td>\n",
              "      <td>NaN</td>\n",
              "      <td>NaN</td>\n",
              "      <td>8.98</td>\n",
              "      <td>NaN</td>\n",
              "      <td>NaN</td>\n",
              "      <td>6.17</td>\n",
              "      <td>9.08</td>\n",
              "      <td>7.33</td>\n",
              "      <td>...</td>\n",
              "      <td>6.46</td>\n",
              "      <td>7.28</td>\n",
              "      <td>NaN</td>\n",
              "      <td>NaN</td>\n",
              "      <td>7.04</td>\n",
              "      <td>7.28</td>\n",
              "      <td>NaN</td>\n",
              "      <td>7.28</td>\n",
              "      <td>8.25</td>\n",
              "      <td>NaN</td>\n",
              "      <td>NaN</td>\n",
              "      <td>NaN</td>\n",
              "      <td>NaN</td>\n",
              "      <td>NaN</td>\n",
              "      <td>NaN</td>\n",
              "      <td>8.93</td>\n",
              "      <td>NaN</td>\n",
              "      <td>NaN</td>\n",
              "      <td>NaN</td>\n",
              "      <td>9.08</td>\n",
              "      <td>NaN</td>\n",
              "      <td>NaN</td>\n",
              "      <td>NaN</td>\n",
              "      <td>NaN</td>\n",
              "      <td>NaN</td>\n",
              "      <td>NaN</td>\n",
              "      <td>NaN</td>\n",
              "      <td>NaN</td>\n",
              "      <td>NaN</td>\n",
              "      <td>9.03</td>\n",
              "      <td>NaN</td>\n",
              "      <td>NaN</td>\n",
              "      <td>NaN</td>\n",
              "      <td>9.08</td>\n",
              "      <td>NaN</td>\n",
              "      <td>NaN</td>\n",
              "      <td>NaN</td>\n",
              "      <td>NaN</td>\n",
              "      <td>NaN</td>\n",
              "      <td>NaN</td>\n",
              "    </tr>\n",
              "    <tr>\n",
              "      <th>3</th>\n",
              "      <td>NaN</td>\n",
              "      <td>NaN</td>\n",
              "      <td>NaN</td>\n",
              "      <td>NaN</td>\n",
              "      <td>1.80</td>\n",
              "      <td>8.16</td>\n",
              "      <td>-2.82</td>\n",
              "      <td>NaN</td>\n",
              "      <td>NaN</td>\n",
              "      <td>1.84</td>\n",
              "      <td>7.33</td>\n",
              "      <td>6.60</td>\n",
              "      <td>6.31</td>\n",
              "      <td>8.11</td>\n",
              "      <td>-7.23</td>\n",
              "      <td>-6.65</td>\n",
              "      <td>1.17</td>\n",
              "      <td>-6.60</td>\n",
              "      <td>-3.64</td>\n",
              "      <td>-2.09</td>\n",
              "      <td>5.34</td>\n",
              "      <td>NaN</td>\n",
              "      <td>NaN</td>\n",
              "      <td>NaN</td>\n",
              "      <td>NaN</td>\n",
              "      <td>2.91</td>\n",
              "      <td>3.93</td>\n",
              "      <td>6.75</td>\n",
              "      <td>6.60</td>\n",
              "      <td>NaN</td>\n",
              "      <td>6.65</td>\n",
              "      <td>-6.12</td>\n",
              "      <td>NaN</td>\n",
              "      <td>7.57</td>\n",
              "      <td>6.21</td>\n",
              "      <td>6.65</td>\n",
              "      <td>NaN</td>\n",
              "      <td>-8.30</td>\n",
              "      <td>7.18</td>\n",
              "      <td>2.82</td>\n",
              "      <td>...</td>\n",
              "      <td>0.00</td>\n",
              "      <td>-3.69</td>\n",
              "      <td>NaN</td>\n",
              "      <td>NaN</td>\n",
              "      <td>7.82</td>\n",
              "      <td>0.24</td>\n",
              "      <td>NaN</td>\n",
              "      <td>7.28</td>\n",
              "      <td>-2.33</td>\n",
              "      <td>NaN</td>\n",
              "      <td>NaN</td>\n",
              "      <td>NaN</td>\n",
              "      <td>NaN</td>\n",
              "      <td>NaN</td>\n",
              "      <td>NaN</td>\n",
              "      <td>NaN</td>\n",
              "      <td>NaN</td>\n",
              "      <td>NaN</td>\n",
              "      <td>NaN</td>\n",
              "      <td>NaN</td>\n",
              "      <td>NaN</td>\n",
              "      <td>NaN</td>\n",
              "      <td>NaN</td>\n",
              "      <td>NaN</td>\n",
              "      <td>0.63</td>\n",
              "      <td>NaN</td>\n",
              "      <td>NaN</td>\n",
              "      <td>-2.33</td>\n",
              "      <td>NaN</td>\n",
              "      <td>NaN</td>\n",
              "      <td>NaN</td>\n",
              "      <td>NaN</td>\n",
              "      <td>NaN</td>\n",
              "      <td>0.53</td>\n",
              "      <td>NaN</td>\n",
              "      <td>NaN</td>\n",
              "      <td>NaN</td>\n",
              "      <td>NaN</td>\n",
              "      <td>NaN</td>\n",
              "      <td>NaN</td>\n",
              "    </tr>\n",
              "    <tr>\n",
              "      <th>4</th>\n",
              "      <td>NaN</td>\n",
              "      <td>NaN</td>\n",
              "      <td>-4.17</td>\n",
              "      <td>-5.39</td>\n",
              "      <td>NaN</td>\n",
              "      <td>1.60</td>\n",
              "      <td>7.04</td>\n",
              "      <td>4.61</td>\n",
              "      <td>-0.44</td>\n",
              "      <td>5.73</td>\n",
              "      <td>8.25</td>\n",
              "      <td>6.84</td>\n",
              "      <td>-3.93</td>\n",
              "      <td>7.23</td>\n",
              "      <td>-2.33</td>\n",
              "      <td>-9.66</td>\n",
              "      <td>2.72</td>\n",
              "      <td>-1.36</td>\n",
              "      <td>2.57</td>\n",
              "      <td>4.51</td>\n",
              "      <td>8.20</td>\n",
              "      <td>6.12</td>\n",
              "      <td>8.30</td>\n",
              "      <td>-1.26</td>\n",
              "      <td>7.77</td>\n",
              "      <td>1.89</td>\n",
              "      <td>-1.17</td>\n",
              "      <td>5.68</td>\n",
              "      <td>NaN</td>\n",
              "      <td>4.61</td>\n",
              "      <td>8.06</td>\n",
              "      <td>-9.47</td>\n",
              "      <td>NaN</td>\n",
              "      <td>5.68</td>\n",
              "      <td>2.48</td>\n",
              "      <td>3.20</td>\n",
              "      <td>-1.26</td>\n",
              "      <td>NaN</td>\n",
              "      <td>4.51</td>\n",
              "      <td>2.48</td>\n",
              "      <td>...</td>\n",
              "      <td>7.38</td>\n",
              "      <td>6.17</td>\n",
              "      <td>4.71</td>\n",
              "      <td>-2.28</td>\n",
              "      <td>7.38</td>\n",
              "      <td>4.56</td>\n",
              "      <td>7.14</td>\n",
              "      <td>4.22</td>\n",
              "      <td>3.01</td>\n",
              "      <td>3.83</td>\n",
              "      <td>NaN</td>\n",
              "      <td>NaN</td>\n",
              "      <td>NaN</td>\n",
              "      <td>NaN</td>\n",
              "      <td>NaN</td>\n",
              "      <td>NaN</td>\n",
              "      <td>4.13</td>\n",
              "      <td>NaN</td>\n",
              "      <td>NaN</td>\n",
              "      <td>NaN</td>\n",
              "      <td>5.24</td>\n",
              "      <td>5.92</td>\n",
              "      <td>0.87</td>\n",
              "      <td>7.28</td>\n",
              "      <td>3.93</td>\n",
              "      <td>-0.63</td>\n",
              "      <td>6.31</td>\n",
              "      <td>4.71</td>\n",
              "      <td>2.82</td>\n",
              "      <td>2.96</td>\n",
              "      <td>5.19</td>\n",
              "      <td>5.58</td>\n",
              "      <td>4.27</td>\n",
              "      <td>5.19</td>\n",
              "      <td>5.73</td>\n",
              "      <td>1.55</td>\n",
              "      <td>3.11</td>\n",
              "      <td>6.55</td>\n",
              "      <td>1.80</td>\n",
              "      <td>1.60</td>\n",
              "    </tr>\n",
              "  </tbody>\n",
              "</table>\n",
              "<p>5 rows × 100 columns</p>\n",
              "</div>"
            ],
            "text/plain": [
              "     0     1     2     3     4     5   ...    94    95    96    97    98    99\n",
              "0 -7.82  8.79 -9.66 -8.16 -7.52 -8.50  ...   NaN   NaN -5.63   NaN   NaN   NaN\n",
              "1  4.08 -0.29  6.36  4.37 -2.38   NaN  ... -0.19 -2.14  3.06  0.34 -4.32  1.07\n",
              "2   NaN   NaN   NaN   NaN  9.03  9.27  ...   NaN   NaN   NaN   NaN   NaN   NaN\n",
              "3   NaN   NaN   NaN   NaN  1.80  8.16  ...   NaN   NaN   NaN   NaN   NaN   NaN\n",
              "4   NaN   NaN -4.17 -5.39   NaN  1.60  ...  5.73  1.55  3.11  6.55  1.80  1.60\n",
              "\n",
              "[5 rows x 100 columns]"
            ]
          },
          "metadata": {
            "tags": []
          },
          "execution_count": 16
        }
      ]
    },
    {
      "cell_type": "markdown",
      "metadata": {
        "id": "qkkLmzXhIQQE"
      },
      "source": [
        "**Training**"
      ]
    },
    {
      "cell_type": "code",
      "metadata": {
        "id": "wCY9zJr4ITfN"
      },
      "source": [
        "n_latent_factors = 2\n",
        "\n",
        "user_ratings = data.values\n",
        "# Initialise as random values\n",
        "latent_user_preferences = np.random.random((user_ratings.shape[0], n_latent_factors))\n",
        "latent_item_features = np.random.random((user_ratings.shape[1], n_latent_factors))"
      ],
      "execution_count": 17,
      "outputs": []
    },
    {
      "cell_type": "code",
      "metadata": {
        "id": "oCkvyN7MITh8"
      },
      "source": [
        "def predict_rating(user_id, item_id):\n",
        "    \"\"\" Predict a rating given a user_id and an item_id.\n",
        "    \"\"\"\n",
        "    user_preference = latent_user_preferences[user_id]\n",
        "    item_preference = latent_item_features[item_id]\n",
        "    return user_preference.dot(item_preference)\n",
        "\n",
        "\n",
        "def train(user_id, item_id, rating, alpha=0.0001):\n",
        "    #print(item_id)\n",
        "    predicted_rating = predict_rating(user_id, item_id)\n",
        "    err =  predicted_rating - rating\n",
        "    #print(err)\n",
        "    user_pref_values = latent_user_preferences[user_id]\n",
        "    latent_user_preferences[user_id] -= alpha * err * latent_item_features[item_id]\n",
        "    latent_item_features[item_id] -= alpha * err * user_pref_values\n",
        "    return err\n",
        "    \n",
        "\n",
        "def sgd(iterations):\n",
        "    \"\"\" Iterate over all users and all items and train for \n",
        "        a certain number of iterations\n",
        "    \"\"\"\n",
        "    mse_history = []\n",
        "    for iteration in range(iterations):\n",
        "        error = []\n",
        "        for user_id in range(latent_user_preferences.shape[0]):\n",
        "            for item_id in range(latent_item_features.shape[0]):\n",
        "                rating = user_ratings[user_id, item_id]\n",
        "                if not np.isnan(rating):\n",
        "                    err = train(user_id, item_id, rating)\n",
        "                    error.append(err)\n",
        "        mse = (np.array(error) ** 2).mean()   \n",
        "        if (iteration % 2) == 0:\n",
        "            print('Iteration %d/%d:\\tMSE=%.6f' % (iteration, iterations, mse))\n",
        "            mse_history.append(mse)\n",
        "    return mse_history"
      ],
      "execution_count": 18,
      "outputs": []
    },
    {
      "cell_type": "code",
      "metadata": {
        "colab": {
          "base_uri": "https://localhost:8080/"
        },
        "id": "21PNBvhoITk2",
        "outputId": "cebecfe1-5bd1-43e9-9a0d-1d41fcdcf928"
      },
      "source": [
        "num_iter = 10\n",
        "hist = sgd(num_iter)  # Note how the MSE decreases with the number of iterations"
      ],
      "execution_count": 19,
      "outputs": [
        {
          "output_type": "stream",
          "text": [
            "Iteration 0/10:\tMSE=26.185535\n",
            "Iteration 2/10:\tMSE=24.962649\n",
            "Iteration 4/10:\tMSE=24.497031\n",
            "Iteration 6/10:\tMSE=24.024777\n",
            "Iteration 8/10:\tMSE=23.548050\n"
          ],
          "name": "stdout"
        }
      ]
    },
    {
      "cell_type": "code",
      "metadata": {
        "colab": {
          "base_uri": "https://localhost:8080/",
          "height": 279
        },
        "id": "vsPNQU6cITnR",
        "outputId": "1ea6a748-13fe-4538-9a5e-d408bd9d8c95"
      },
      "source": [
        "plt.figure()\n",
        "plt.plot(np.arange(0, num_iter, 2), hist)\n",
        "plt.xlabel(\"Iterations\")\n",
        "plt.ylabel(\"MSE\")\n",
        "plt.show()"
      ],
      "execution_count": 20,
      "outputs": [
        {
          "output_type": "display_data",
          "data": {
            "image/png": "[encoded data removed]",
            "text/plain": [
              "<Figure size 432x288 with 1 Axes>"
            ]
          },
          "metadata": {
            "tags": [],
            "needs_background": "light"
          }
        }
      ]
    },
    {
      "cell_type": "markdown",
      "metadata": {
        "id": "ni9HUazdIb84"
      },
      "source": [
        "**Predicting**"
      ]
    },
    {
      "cell_type": "code",
      "metadata": {
        "colab": {
          "base_uri": "https://localhost:8080/"
        },
        "id": "WEKh0G8LITqJ",
        "outputId": "c6a61c31-b3e0-4293-8577-dcbd610ad029"
      },
      "source": [
        "predictions = latent_user_preferences.dot(latent_item_features.T)\n",
        "predictions"
      ],
      "execution_count": 21,
      "outputs": [
        {
          "output_type": "execute_result",
          "data": {
            "text/plain": [
              "array([[1.2639094 , 0.80078372, 0.77455417, ..., 1.47997918, 0.5729326 ,\n",
              "        1.99781539],\n",
              "       [1.27637203, 0.84418862, 0.92062192, ..., 1.53695239, 0.6880019 ,\n",
              "        2.02789894],\n",
              "       [2.17403024, 1.39935772, 1.41784048, ..., 2.57187692, 1.05310764,\n",
              "        3.44282707],\n",
              "       ...,\n",
              "       [0.91126561, 0.58468591, 0.58701798, ..., 1.07579705, 0.43566308,\n",
              "        1.44254759],\n",
              "       [1.06196762, 0.67667834, 0.66577051, ..., 1.24809811, 0.49322568,\n",
              "        1.67973646],\n",
              "       [1.34210585, 0.89197367, 0.98483255, ..., 1.62124893, 0.73671215,\n",
              "        2.1335969 ]])"
            ]
          },
          "metadata": {
            "tags": []
          },
          "execution_count": 21
        }
      ]
    },
    {
      "cell_type": "markdown",
      "metadata": {
        "id": "FDp7FauZIgcM"
      },
      "source": [
        "**Predicting on Validation set**"
      ]
    },
    {
      "cell_type": "code",
      "metadata": {
        "id": "msZQssanIdgB"
      },
      "source": [
        "val_data=pd.read_csv('https://raw.githubusercontent.com/albanda/CE888/master/lab4-recommender/jester-data-1.csv', header=None)\n",
        "val_data.drop(columns=[0], inplace=True)\n",
        "val_data=pd.DataFrame(val_data.loc[:, 0:].replace(99.00, np.NaN))\n",
        "\n",
        "v_data=pd.DataFrame(new_arr)\n",
        "v_data=pd.DataFrame(v_data.loc[:, 0:].replace(99.00, np.NaN))\n",
        "\n",
        "v_user_ratings=v_data.values\n",
        "\n",
        "v_values = [zip(v_user_ratings[i], predictions[i]) for i in range(predictions.shape[0])]\n",
        "v_comparison_data = pd.DataFrame(v_values)\n",
        "v_comparison_data.columns = data.columns\n",
        "\n",
        "# v_comparison_data"
      ],
      "execution_count": 22,
      "outputs": []
    },
    {
      "cell_type": "code",
      "metadata": {
        "colab": {
          "base_uri": "https://localhost:8080/"
        },
        "id": "msPh_xmMIdio",
        "outputId": "647494cd-e685-4675-ea89-28ad61cc2e15"
      },
      "source": [
        "val_user_ratings=val_data.values\n",
        "\n",
        "error = []\n",
        "\n",
        "for user_id in range(latent_user_preferences.shape[0]):\n",
        "    for item_id in range(latent_item_features.shape[0]):\n",
        "        rating = val_user_ratings[user_id, item_id]\n",
        "        \n",
        "        if not np.isnan(rating):\n",
        "             val_predicted_rating = predict_rating(user_id, item_id)\n",
        "             err =  val_predicted_rating - rating\n",
        "             \n",
        "            #  err = train(user_id, item_id, rating)\n",
        "             error.append(err)\n",
        "val_mse = (np.array(error) ** 2).mean()\n",
        "print('MSE on Validation Set :', val_mse)"
      ],
      "execution_count": 23,
      "outputs": [
        {
          "output_type": "stream",
          "text": [
            "MSE on Validation Set : 23.182042837703833\n"
          ],
          "name": "stdout"
        }
      ]
    },
    {
      "cell_type": "markdown",
      "metadata": {
        "id": "FOYmUSLXInCY"
      },
      "source": [
        "**Predicting on Test Set**"
      ]
    },
    {
      "cell_type": "code",
      "metadata": {
        "colab": {
          "base_uri": "https://localhost:8080/",
          "height": 590
        },
        "id": "dw6jU1uDIdld",
        "outputId": "3675602a-59ab-4220-a16e-c21097ce4e75"
      },
      "source": [
        "test_user_ratings=test_data.values\n",
        "values = [zip(test_user_ratings[i], predictions[i]) for i in range(predictions.shape[0])]\n",
        "comparison_data = pd.DataFrame(values)\n",
        "comparison_data.columns = data.columns\n",
        "comparison_data"
      ],
      "execution_count": 24,
      "outputs": [
        {
          "output_type": "execute_result",
          "data": {
            "text/html": [
              "<div>\n",
              "<style scoped>\n",
              "    .dataframe tbody tr th:only-of-type {\n",
              "        vertical-align: middle;\n",
              "    }\n",
              "\n",
              "    .dataframe tbody tr th {\n",
              "        vertical-align: top;\n",
              "    }\n",
              "\n",
              "    .dataframe thead th {\n",
              "        text-align: right;\n",
              "    }\n",
              "</style>\n",
              "<table border=\"1\" class=\"dataframe\">\n",
              "  <thead>\n",
              "    <tr style=\"text-align: right;\">\n",
              "      <th></th>\n",
              "      <th>1</th>\n",
              "      <th>2</th>\n",
              "      <th>3</th>\n",
              "      <th>4</th>\n",
              "      <th>5</th>\n",
              "      <th>6</th>\n",
              "      <th>7</th>\n",
              "      <th>8</th>\n",
              "      <th>9</th>\n",
              "      <th>10</th>\n",
              "      <th>11</th>\n",
              "      <th>12</th>\n",
              "      <th>13</th>\n",
              "      <th>14</th>\n",
              "      <th>15</th>\n",
              "      <th>16</th>\n",
              "      <th>17</th>\n",
              "      <th>18</th>\n",
              "      <th>19</th>\n",
              "      <th>20</th>\n",
              "      <th>21</th>\n",
              "      <th>22</th>\n",
              "      <th>23</th>\n",
              "      <th>24</th>\n",
              "      <th>25</th>\n",
              "      <th>26</th>\n",
              "      <th>27</th>\n",
              "      <th>28</th>\n",
              "      <th>29</th>\n",
              "      <th>30</th>\n",
              "      <th>31</th>\n",
              "      <th>32</th>\n",
              "      <th>33</th>\n",
              "      <th>34</th>\n",
              "      <th>35</th>\n",
              "      <th>36</th>\n",
              "      <th>37</th>\n",
              "      <th>38</th>\n",
              "      <th>39</th>\n",
              "      <th>40</th>\n",
              "      <th>...</th>\n",
              "      <th>61</th>\n",
              "      <th>62</th>\n",
              "      <th>63</th>\n",
              "      <th>64</th>\n",
              "      <th>65</th>\n",
              "      <th>66</th>\n",
              "      <th>67</th>\n",
              "      <th>68</th>\n",
              "      <th>69</th>\n",
              "      <th>70</th>\n",
              "      <th>71</th>\n",
              "      <th>72</th>\n",
              "      <th>73</th>\n",
              "      <th>74</th>\n",
              "      <th>75</th>\n",
              "      <th>76</th>\n",
              "      <th>77</th>\n",
              "      <th>78</th>\n",
              "      <th>79</th>\n",
              "      <th>80</th>\n",
              "      <th>81</th>\n",
              "      <th>82</th>\n",
              "      <th>83</th>\n",
              "      <th>84</th>\n",
              "      <th>85</th>\n",
              "      <th>86</th>\n",
              "      <th>87</th>\n",
              "      <th>88</th>\n",
              "      <th>89</th>\n",
              "      <th>90</th>\n",
              "      <th>91</th>\n",
              "      <th>92</th>\n",
              "      <th>93</th>\n",
              "      <th>94</th>\n",
              "      <th>95</th>\n",
              "      <th>96</th>\n",
              "      <th>97</th>\n",
              "      <th>98</th>\n",
              "      <th>99</th>\n",
              "      <th>100</th>\n",
              "    </tr>\n",
              "  </thead>\n",
              "  <tbody>\n",
              "    <tr>\n",
              "      <th>0</th>\n",
              "      <td>(-7.82, 1.2639093993837136)</td>\n",
              "      <td>(8.79, 0.8007837183019868)</td>\n",
              "      <td>(-9.66, 0.7745541746273753)</td>\n",
              "      <td>(-8.16, -0.851745789295036)</td>\n",
              "      <td>(-7.52, 0.8717970368974359)</td>\n",
              "      <td>(-8.5, 2.222693940105467)</td>\n",
              "      <td>(-9.85, 0.034392535502181736)</td>\n",
              "      <td>(4.17, -0.36658021496450605)</td>\n",
              "      <td>(-8.98, -0.022602492197374625)</td>\n",
              "      <td>(-4.76, 1.6421561081634184)</td>\n",
              "      <td>(-8.5, 2.3224992800072894)</td>\n",
              "      <td>(-6.75, 2.2001597823409518)</td>\n",
              "      <td>(-7.18, -1.4082711846989182)</td>\n",
              "      <td>(8.45, 2.186062960778664)</td>\n",
              "      <td>(-7.18, -1.4367206297277897)</td>\n",
              "      <td>(-7.52, -2.8253714012933644)</td>\n",
              "      <td>(-7.43, -0.6786083064441558)</td>\n",
              "      <td>(-9.81, -0.2685394351406745)</td>\n",
              "      <td>(-9.85, 0.6812833586615763)</td>\n",
              "      <td>(-9.85, -0.41205286007986375)</td>\n",
              "      <td>(-9.37, 2.7949540992480477)</td>\n",
              "      <td>(1.5, 1.5395907773155686)</td>\n",
              "      <td>(-4.37, 0.6800513429554691)</td>\n",
              "      <td>(-9.81, -1.1387397230091958)</td>\n",
              "      <td>(-8.5, 1.056935543788873)</td>\n",
              "      <td>(1.12, 2.0501531578360903)</td>\n",
              "      <td>(7.82, 3.6499363029606435)</td>\n",
              "      <td>(2.86, 2.1307961753805316)</td>\n",
              "      <td>(9.13, 3.5049064756022785)</td>\n",
              "      <td>(-7.43, 0.24322529207123264)</td>\n",
              "      <td>(2.14, 2.8576378327595964)</td>\n",
              "      <td>(-4.08, 3.716074844371944)</td>\n",
              "      <td>(-9.08, -0.680665258719961)</td>\n",
              "      <td>(7.82, 1.6441492076058208)</td>\n",
              "      <td>(5.05, 3.5155123488460536)</td>\n",
              "      <td>(4.95, 3.720084459430664)</td>\n",
              "      <td>(-9.17, -0.8920476188548901)</td>\n",
              "      <td>(-8.4, 1.846058595193524)</td>\n",
              "      <td>(-8.4, 1.855896908406903)</td>\n",
              "      <td>(-8.4, 1.7373803818017286)</td>\n",
              "      <td>...</td>\n",
              "      <td>(8.59, 3.119490280699154)</td>\n",
              "      <td>(3.59, 3.543791471503862)</td>\n",
              "      <td>(-6.84, 0.8993160169858285)</td>\n",
              "      <td>(-9.03, -0.16224767511946045)</td>\n",
              "      <td>(2.82, 2.8961552775967547)</td>\n",
              "      <td>(-1.36, 3.1166895355968727)</td>\n",
              "      <td>(-9.08, -0.32374448674453055)</td>\n",
              "      <td>(8.3, 3.2169219691786948)</td>\n",
              "      <td>(5.68, 3.200112218607369)</td>\n",
              "      <td>(-4.81, 1.109583309832688)</td>\n",
              "      <td>(nan, -0.047119390720565174)</td>\n",
              "      <td>(nan, 3.2277572090394213)</td>\n",
              "      <td>(nan, 1.7447779593480675)</td>\n",
              "      <td>(nan, -0.723154893521708)</td>\n",
              "      <td>(nan, 0.4275834987635115)</td>\n",
              "      <td>(nan, 2.9902337743841327)</td>\n",
              "      <td>(nan, 1.3828608424858484)</td>\n",
              "      <td>(-9.42, 2.3723508751394258)</td>\n",
              "      <td>(nan, 0.921347507241195)</td>\n",
              "      <td>(nan, 1.9864631293832888)</td>\n",
              "      <td>(nan, 2.37142229092146)</td>\n",
              "      <td>(-7.72, 1.5454178204819065)</td>\n",
              "      <td>(nan, 2.6170356323866986)</td>\n",
              "      <td>(nan, 1.2986015332733112)</td>\n",
              "      <td>(nan, 1.5770457742788584)</td>\n",
              "      <td>(nan, 0.7033715712140027)</td>\n",
              "      <td>(nan, 2.3464274120245827)</td>\n",
              "      <td>(nan, 2.59525065439029)</td>\n",
              "      <td>(nan, 3.988095463889205)</td>\n",
              "      <td>(nan, 1.2305647081647406)</td>\n",
              "      <td>(2.82, 2.554989055560851)</td>\n",
              "      <td>(nan, 1.8685640432462696)</td>\n",
              "      <td>(nan, 2.9980422178686683)</td>\n",
              "      <td>(nan, 1.5642311499672412)</td>\n",
              "      <td>(nan, 1.5241142594422692)</td>\n",
              "      <td>(nan, 1.9536263952557826)</td>\n",
              "      <td>(-5.63, 2.0970085172826223)</td>\n",
              "      <td>(nan, 1.4799791786053726)</td>\n",
              "      <td>(nan, 0.5729326039381737)</td>\n",
              "      <td>(nan, 1.9978153898050923)</td>\n",
              "    </tr>\n",
              "    <tr>\n",
              "      <th>1</th>\n",
              "      <td>(4.08, 1.2763720297143581)</td>\n",
              "      <td>(-0.29, 0.8441886223596333)</td>\n",
              "      <td>(6.36, 0.9206219219942683)</td>\n",
              "      <td>(4.37, -0.6064491492642544)</td>\n",
              "      <td>(-2.38, 0.830754601776121)</td>\n",
              "      <td>(-9.66, 2.1720810950550886)</td>\n",
              "      <td>(-0.73, -0.011537933106961568)</td>\n",
              "      <td>(-5.34, -0.3327061712644146)</td>\n",
              "      <td>(8.88, -0.060295266277365284)</td>\n",
              "      <td>(9.22, 1.5963278983628346)</td>\n",
              "      <td>(6.75, 2.376930176322975)</td>\n",
              "      <td>(8.64, 2.1444075757243977)</td>\n",
              "      <td>(4.42, -1.402633910908755)</td>\n",
              "      <td>(7.43, 2.1066258946337926)</td>\n",
              "      <td>(4.56, -1.5210382967495133)</td>\n",
              "      <td>(-0.97, -2.740895404205471)</td>\n",
              "      <td>(4.66, -0.6410426391605432)</td>\n",
              "      <td>(-0.68, -0.39133344767631356)</td>\n",
              "      <td>(3.3, 0.5422402297137665)</td>\n",
              "      <td>(-1.21, -0.3917474275018022)</td>\n",
              "      <td>(0.87, 2.738806562501123)</td>\n",
              "      <td>(8.64, 1.4569460020852107)</td>\n",
              "      <td>(8.35, 0.6588139324096858)</td>\n",
              "      <td>(9.17, -1.0841785455483441)</td>\n",
              "      <td>(0.05, 1.0779618668656006)</td>\n",
              "      <td>(7.57, 1.970507613013479)</td>\n",
              "      <td>(4.71, 3.6172792805296363)</td>\n",
              "      <td>(0.87, 2.1053831097240296)</td>\n",
              "      <td>(-0.39, 3.3533294511548872)</td>\n",
              "      <td>(6.99, 0.3266083938367233)</td>\n",
              "      <td>(6.5, 2.777180956706608)</td>\n",
              "      <td>(-0.92, 3.5038820831934165)</td>\n",
              "      <td>(7.14, -0.5973387874225069)</td>\n",
              "      <td>(9.03, 1.5968885317078931)</td>\n",
              "      <td>(-1.8, 3.493476508164245)</td>\n",
              "      <td>(0.73, 3.6223214346743484)</td>\n",
              "      <td>(7.09, -0.7451528243053473)</td>\n",
              "      <td>(3.4, 1.717753519056693)</td>\n",
              "      <td>(-0.87, 1.782879620404001)</td>\n",
              "      <td>(7.91, 1.6477949279461588)</td>\n",
              "      <td>...</td>\n",
              "      <td>(-6.7, 3.010159527624125)</td>\n",
              "      <td>(-3.35, 3.3481362823967373)</td>\n",
              "      <td>(-9.03, 0.9297970243089552)</td>\n",
              "      <td>(4.47, -0.03418624310815807)</td>\n",
              "      <td>(4.08, 2.964338434222237)</td>\n",
              "      <td>(-3.83, 3.06421924822855)</td>\n",
              "      <td>(8.74, -0.21300516636089065)</td>\n",
              "      <td>(1.12, 3.0716839400604394)</td>\n",
              "      <td>(0.78, 3.1380379041391477)</td>\n",
              "      <td>(7.52, 1.2060030060509022)</td>\n",
              "      <td>(-5.0, -0.08601378979699024)</td>\n",
              "      <td>(2.77, 3.204588453378497)</td>\n",
              "      <td>(8.3, 1.7408717254841328)</td>\n",
              "      <td>(7.77, -0.794204277186699)</td>\n",
              "      <td>(7.33, 0.346805702440704)</td>\n",
              "      <td>(6.21, 2.805629513810544)</td>\n",
              "      <td>(7.72, 1.3160886073092826)</td>\n",
              "      <td>(8.98, 2.24938970620035)</td>\n",
              "      <td>(8.64, 0.8410174617033269)</td>\n",
              "      <td>(8.2, 1.8248084402943046)</td>\n",
              "      <td>(3.93, 2.3403897072871103)</td>\n",
              "      <td>(4.85, 1.3851711719804105)</td>\n",
              "      <td>(4.85, 2.5943449166554107)</td>\n",
              "      <td>(6.07, 1.3349462264984817)</td>\n",
              "      <td>(8.98, 1.5742648978757507)</td>\n",
              "      <td>(4.51, 0.8342027130510571)</td>\n",
              "      <td>(-0.05, 2.3142146611675503)</td>\n",
              "      <td>(3.69, 2.3895962119712073)</td>\n",
              "      <td>(4.56, 3.6456902405524674)</td>\n",
              "      <td>(0.58, 1.275758178162663)</td>\n",
              "      <td>(2.82, 2.28818449605494)</td>\n",
              "      <td>(-4.95, 1.6838317901229762)</td>\n",
              "      <td>(-0.29, 2.850141179583285)</td>\n",
              "      <td>(7.86, 1.5597782846116817)</td>\n",
              "      <td>(-0.19, 1.4861918508789622)</td>\n",
              "      <td>(-2.14, 2.020908707107274)</td>\n",
              "      <td>(3.06, 2.0646159658789864)</td>\n",
              "      <td>(0.34, 1.5369523891336143)</td>\n",
              "      <td>(-4.32, 0.688001898043945)</td>\n",
              "      <td>(1.07, 2.0278989443587703)</td>\n",
              "    </tr>\n",
              "    <tr>\n",
              "      <th>2</th>\n",
              "      <td>(nan, 2.1740302369129787)</td>\n",
              "      <td>(nan, 1.399357716938774)</td>\n",
              "      <td>(nan, 1.4178404811853744)</td>\n",
              "      <td>(nan, -1.308304647352813)</td>\n",
              "      <td>(9.03, 1.4688901028634125)</td>\n",
              "      <td>(9.27, 3.7784009164138865)</td>\n",
              "      <td>(9.03, 0.030565998287713225)</td>\n",
              "      <td>(9.27, -0.6073828122967315)</td>\n",
              "      <td>(nan, -0.062032512398128035)</td>\n",
              "      <td>(nan, 2.786321081855388)</td>\n",
              "      <td>(7.33, 4.014377568735512)</td>\n",
              "      <td>(7.57, 3.7366017372036993)</td>\n",
              "      <td>(9.37, -2.410280261985073)</td>\n",
              "      <td>(6.17, 3.697803982105138)</td>\n",
              "      <td>(-6.36, -2.5146295261950664)</td>\n",
              "      <td>(-6.89, -4.790458955510864)</td>\n",
              "      <td>(-7.86, -1.1399148559206724)</td>\n",
              "      <td>(9.03, -0.5361540168565395)</td>\n",
              "      <td>(9.03, 1.0817924114731527)</td>\n",
              "      <td>(9.03, -0.6937071567223142)</td>\n",
              "      <td>(7.28, 4.755829402951559)</td>\n",
              "      <td>(nan, 2.5877744520775203)</td>\n",
              "      <td>(8.25, 1.152478166801657)</td>\n",
              "      <td>(nan, -1.9180735627703194)</td>\n",
              "      <td>(nan, 1.824570851243178)</td>\n",
              "      <td>(7.48, 3.46472700860298)</td>\n",
              "      <td>(7.28, 6.235776831083943)</td>\n",
              "      <td>(7.28, 3.63646106765972)</td>\n",
              "      <td>(8.93, 5.91371106387447)</td>\n",
              "      <td>(nan, 0.46841204648902834)</td>\n",
              "      <td>(6.17, 4.848246915137024)</td>\n",
              "      <td>(7.28, 6.238194521830303)</td>\n",
              "      <td>(nan, -1.1151628069681057)</td>\n",
              "      <td>(nan, 2.7888520510382584)</td>\n",
              "      <td>(8.98, 6.0119387199514)</td>\n",
              "      <td>(7.33, 6.315778213651224)</td>\n",
              "      <td>(nan, -1.4381885089644633)</td>\n",
              "      <td>(6.17, 3.0848419166223304)</td>\n",
              "      <td>(9.08, 3.1358694899102253)</td>\n",
              "      <td>(7.33, 2.9224950492601525)</td>\n",
              "      <td>...</td>\n",
              "      <td>(6.46, 5.279217129862001)</td>\n",
              "      <td>(7.28, 5.953121719136889)</td>\n",
              "      <td>(nan, 1.5602549121144536)</td>\n",
              "      <td>(nan, -0.1989561318371486)</td>\n",
              "      <td>(7.04, 5.006116779156754)</td>\n",
              "      <td>(7.28, 5.309553301860684)</td>\n",
              "      <td>(nan, -0.48646428027793476)</td>\n",
              "      <td>(7.28, 5.4240254319854)</td>\n",
              "      <td>(8.25, 5.4466042513539925)</td>\n",
              "      <td>(nan, 1.9613975703532003)</td>\n",
              "      <td>(nan, -0.10479678750243396)</td>\n",
              "      <td>(nan, 5.5180289929778334)</td>\n",
              "      <td>(nan, 2.9881194483117794)</td>\n",
              "      <td>(nan, -1.283385388806225)</td>\n",
              "      <td>(nan, 0.6829579513474882)</td>\n",
              "      <td>(8.93, 5.011157808822364)</td>\n",
              "      <td>(nan, 2.328949145319558)</td>\n",
              "      <td>(nan, 3.990204255862892)</td>\n",
              "      <td>(nan, 1.5295415802602028)</td>\n",
              "      <td>(9.08, 3.304885773177161)</td>\n",
              "      <td>(nan, 4.045419452808523)</td>\n",
              "      <td>(nan, 2.549808284176726)</td>\n",
              "      <td>(nan, 4.471553261419527)</td>\n",
              "      <td>(nan, 2.248250027627975)</td>\n",
              "      <td>(nan, 2.7013234431381643)</td>\n",
              "      <td>(nan, 1.2864187777319187)</td>\n",
              "      <td>(nan, 4.001849183482055)</td>\n",
              "      <td>(nan, 4.321152546142909)</td>\n",
              "      <td>(nan, 6.623971247401065)</td>\n",
              "      <td>(9.03, 2.137103593340355)</td>\n",
              "      <td>(nan, 4.2143571476120405)</td>\n",
              "      <td>(nan, 3.0885471716977935)</td>\n",
              "      <td>(nan, 5.047221970276139)</td>\n",
              "      <td>(9.08, 2.678326098885902)</td>\n",
              "      <td>(nan, 2.5888837928633626)</td>\n",
              "      <td>(nan, 3.390074320057171)</td>\n",
              "      <td>(nan, 3.5742363979843756)</td>\n",
              "      <td>(nan, 2.5718769170142015)</td>\n",
              "      <td>(nan, 1.0531076440498772)</td>\n",
              "      <td>(nan, 3.4428270732363586)</td>\n",
              "    </tr>\n",
              "    <tr>\n",
              "      <th>3</th>\n",
              "      <td>(nan, 1.135246339608725)</td>\n",
              "      <td>(8.35, 0.7477076560397768)</td>\n",
              "      <td>(nan, 0.8065861977728068)</td>\n",
              "      <td>(nan, -0.5618354315293563)</td>\n",
              "      <td>(1.8, 0.7432905465275051)</td>\n",
              "      <td>(8.16, 1.938334228285968)</td>\n",
              "      <td>(-2.82, -0.006169533515131854)</td>\n",
              "      <td>(6.21, -0.2992355483610237)</td>\n",
              "      <td>(nan, -0.05031423103513594)</td>\n",
              "      <td>(1.84, 1.425311268148423)</td>\n",
              "      <td>(7.33, 2.1113292246878745)</td>\n",
              "      <td>(6.6, 1.9141554471840774)</td>\n",
              "      <td>(6.31, -1.249274614724555)</td>\n",
              "      <td>(8.11, 1.882633902091939)</td>\n",
              "      <td>(-7.23, -1.3466553300829316)</td>\n",
              "      <td>(-6.65, -2.4477769047984745)</td>\n",
              "      <td>(1.17, -0.5740785996747128)</td>\n",
              "      <td>(-6.6, -0.33743729536690875)</td>\n",
              "      <td>(-3.64, 0.4951788580834462)</td>\n",
              "      <td>(-2.09, -0.35058821932569734)</td>\n",
              "      <td>(5.34, 2.4433867606316975)</td>\n",
              "      <td>(nan, 1.304507599467514)</td>\n",
              "      <td>(nan, 0.5884419379672721)</td>\n",
              "      <td>(nan, -0.970122546263531)</td>\n",
              "      <td>(nan, 0.9578359577988068)</td>\n",
              "      <td>(2.91, 1.7614658268867693)</td>\n",
              "      <td>(3.93, 3.2233965485932705)</td>\n",
              "      <td>(6.75, 1.876701752203358)</td>\n",
              "      <td>(6.6, 2.999023396146591)</td>\n",
              "      <td>(nan, 0.2833326777533837)</td>\n",
              "      <td>(6.65, 2.479723081920968)</td>\n",
              "      <td>(-6.12, 3.1384755584319306)</td>\n",
              "      <td>(nan, -0.5392564537539187)</td>\n",
              "      <td>(7.57, 1.42593835746547)</td>\n",
              "      <td>(6.21, 3.1122256655233462)</td>\n",
              "      <td>(6.65, 3.23370119307814)</td>\n",
              "      <td>(nan, -0.6765341726224022)</td>\n",
              "      <td>(-8.3, 1.540784270771215)</td>\n",
              "      <td>(7.18, 1.5938277408762742)</td>\n",
              "      <td>(2.82, 1.4750412034201195)</td>\n",
              "      <td>...</td>\n",
              "      <td>(0.0, 2.6897240745588324)</td>\n",
              "      <td>(-3.69, 2.99833717687497)</td>\n",
              "      <td>(nan, 0.8250796151575055)</td>\n",
              "      <td>(nan, -0.04187524639094925)</td>\n",
              "      <td>(7.82, 2.6330729285241756)</td>\n",
              "      <td>(0.24, 2.732774618403048)</td>\n",
              "      <td>(nan, -0.1995312133531645)</td>\n",
              "      <td>(7.28, 2.747706943201643)</td>\n",
              "      <td>(-2.33, 2.7993535680876835)</td>\n",
              "      <td>(nan, 1.0650970283587786)</td>\n",
              "      <td>(nan, -0.07310420913567225)</td>\n",
              "      <td>(nan, 2.855128572744358)</td>\n",
              "      <td>(nan, 1.5502545855663359)</td>\n",
              "      <td>(nan, -0.700737033598494)</td>\n",
              "      <td>(nan, 0.31597809927280074)</td>\n",
              "      <td>(nan, 2.514353919576485)</td>\n",
              "      <td>(nan, 1.1776838344565275)</td>\n",
              "      <td>(nan, 2.0136249337077365)</td>\n",
              "      <td>(nan, 0.7559369805604885)</td>\n",
              "      <td>(nan, 1.6390746860101317)</td>\n",
              "      <td>(nan, 2.0864311104810978)</td>\n",
              "      <td>(nan, 1.2475379426018793)</td>\n",
              "      <td>(nan, 2.3117833995833106)</td>\n",
              "      <td>(nan, 1.1852619365783144)</td>\n",
              "      <td>(0.63, 1.4018232805010291)</td>\n",
              "      <td>(nan, 0.7310078101340183)</td>\n",
              "      <td>(nan, 2.063232771610911)</td>\n",
              "      <td>(-2.33, 2.145837970482546)</td>\n",
              "      <td>(nan, 3.2763592034349807)</td>\n",
              "      <td>(nan, 1.131776143112301)</td>\n",
              "      <td>(nan, 2.0610129125170826)</td>\n",
              "      <td>(nan, 1.5156239649021097)</td>\n",
              "      <td>(nan, 2.550704334202531)</td>\n",
              "      <td>(0.53, 1.3890751361573868)</td>\n",
              "      <td>(nan, 1.3265504809484194)</td>\n",
              "      <td>(nan, 1.7932138112209073)</td>\n",
              "      <td>(nan, 1.8410300293711512)</td>\n",
              "      <td>(nan, 1.3632662588707365)</td>\n",
              "      <td>(nan, 0.6022525161178782)</td>\n",
              "      <td>(nan, 1.8027600282907281)</td>\n",
              "    </tr>\n",
              "    <tr>\n",
              "      <th>4</th>\n",
              "      <td>(8.5, 1.2408774565568128)</td>\n",
              "      <td>(4.61, 0.7854548957491415)</td>\n",
              "      <td>(-4.17, 0.7575691325891599)</td>\n",
              "      <td>(-5.39, -0.8414852733124133)</td>\n",
              "      <td>(1.36, 0.8569397863903315)</td>\n",
              "      <td>(1.6, 2.1836942589713875)</td>\n",
              "      <td>(7.04, 0.03472526087980115)</td>\n",
              "      <td>(4.61, -0.3606774747831222)</td>\n",
              "      <td>(-0.44, -0.021413630567411836)</td>\n",
              "      <td>(5.73, 1.6135175248479017)</td>\n",
              "      <td>(8.25, 2.2795230726836997)</td>\n",
              "      <td>(6.84, 2.1616726992759188)</td>\n",
              "      <td>(-3.93, -1.3830134081935317)</td>\n",
              "      <td>(7.23, 2.148321011352213)</td>\n",
              "      <td>(-2.33, -1.4090849234832654)</td>\n",
              "      <td>(-9.66, -2.776214679905318)</td>\n",
              "      <td>(2.72, -0.6671598963026554)</td>\n",
              "      <td>(-1.36, -0.2611545329080218)</td>\n",
              "      <td>(2.57, 0.6718909999731573)</td>\n",
              "      <td>(4.51, -0.40504941882795475)</td>\n",
              "      <td>(8.2, 2.74575802327916)</td>\n",
              "      <td>(6.12, 1.5135636819429812)</td>\n",
              "      <td>(8.3, 0.6682383466264809)</td>\n",
              "      <td>(-1.26, -1.119352942076208)</td>\n",
              "      <td>(7.77, 1.0374553428216464)</td>\n",
              "      <td>(1.89, 2.014864396903901)</td>\n",
              "      <td>(-1.17, 3.5848477868102675)</td>\n",
              "      <td>(5.68, 2.092929790704672)</td>\n",
              "      <td>(8.45, 3.4448970947947197)</td>\n",
              "      <td>(4.61, 0.2371137383762523)</td>\n",
              "      <td>(8.06, 2.8078163836132997)</td>\n",
              "      <td>(-9.47, 3.6535175023946302)</td>\n",
              "      <td>(7.28, -0.6701286884452572)</td>\n",
              "      <td>(5.68, 1.6155044158245582)</td>\n",
              "      <td>(2.48, 3.452625683288377)</td>\n",
              "      <td>(3.2, 3.6550820393185424)</td>\n",
              "      <td>(-1.26, -0.8790204569098133)</td>\n",
              "      <td>(6.8, 1.8154562852024054)</td>\n",
              "      <td>(4.51, 1.8239708729987674)</td>\n",
              "      <td>(2.48, 1.707933374229559)</td>\n",
              "      <td>...</td>\n",
              "      <td>(7.38, 3.065549424937466)</td>\n",
              "      <td>(6.17, 3.483995459869922)</td>\n",
              "      <td>(4.71, 0.8824798003756597)</td>\n",
              "      <td>(-2.28, -0.16197974608179108)</td>\n",
              "      <td>(7.38, 2.8425575877456097)</td>\n",
              "      <td>(4.56, 3.0616200776638984)</td>\n",
              "      <td>(7.14, -0.3202074636878954)</td>\n",
              "      <td>(4.22, 3.1619701371907527)</td>\n",
              "      <td>(3.01, 3.143738775111687)</td>\n",
              "      <td>(3.83, 1.0875911169718073)</td>\n",
              "      <td>(nan, -0.045463858854182325)</td>\n",
              "      <td>(nan, 3.1700788981190393)</td>\n",
              "      <td>(nan, 1.7134210031547303)</td>\n",
              "      <td>(nan, -0.7086515715338095)</td>\n",
              "      <td>(nan, 0.42155418531058114)</td>\n",
              "      <td>(nan, 2.9401827852710816)</td>\n",
              "      <td>(4.13, 1.3593286209330724)</td>\n",
              "      <td>(nan, 2.332154853769594)</td>\n",
              "      <td>(nan, 0.9064121144160387)</td>\n",
              "      <td>(nan, 1.9540225088825083)</td>\n",
              "      <td>(5.24, 2.3293367565774385)</td>\n",
              "      <td>(5.92, 1.5208948953326205)</td>\n",
              "      <td>(0.87, 2.5703515816485756)</td>\n",
              "      <td>(7.28, 1.2744492747740754)</td>\n",
              "      <td>(3.93, 1.5486877336204112)</td>\n",
              "      <td>(-0.63, 0.6879850681117393)</td>\n",
              "      <td>(6.31, 2.304816715365734)</td>\n",
              "      <td>(4.71, 2.55275309462612)</td>\n",
              "      <td>(2.82, 3.9233368736112855)</td>\n",
              "      <td>(2.96, 1.2074548689960698)</td>\n",
              "      <td>(5.19, 2.5144849596190975)</td>\n",
              "      <td>(5.58, 1.8387263051715395)</td>\n",
              "      <td>(4.27, 2.9470894504243783)</td>\n",
              "      <td>(5.19, 1.5361386778339934)</td>\n",
              "      <td>(5.73, 1.4974386553317731)</td>\n",
              "      <td>(1.55, 1.9170301664275375)</td>\n",
              "      <td>(3.11, 2.059895656856124)</td>\n",
              "      <td>(6.55, 1.4521310448826181)</td>\n",
              "      <td>(1.8, 0.5602232310170361)</td>\n",
              "      <td>(1.6, 1.9611943086493566)</td>\n",
              "    </tr>\n",
              "    <tr>\n",
              "      <th>...</th>\n",
              "      <td>...</td>\n",
              "      <td>...</td>\n",
              "      <td>...</td>\n",
              "      <td>...</td>\n",
              "      <td>...</td>\n",
              "      <td>...</td>\n",
              "      <td>...</td>\n",
              "      <td>...</td>\n",
              "      <td>...</td>\n",
              "      <td>...</td>\n",
              "      <td>...</td>\n",
              "      <td>...</td>\n",
              "      <td>...</td>\n",
              "      <td>...</td>\n",
              "      <td>...</td>\n",
              "      <td>...</td>\n",
              "      <td>...</td>\n",
              "      <td>...</td>\n",
              "      <td>...</td>\n",
              "      <td>...</td>\n",
              "      <td>...</td>\n",
              "      <td>...</td>\n",
              "      <td>...</td>\n",
              "      <td>...</td>\n",
              "      <td>...</td>\n",
              "      <td>...</td>\n",
              "      <td>...</td>\n",
              "      <td>...</td>\n",
              "      <td>...</td>\n",
              "      <td>...</td>\n",
              "      <td>...</td>\n",
              "      <td>...</td>\n",
              "      <td>...</td>\n",
              "      <td>...</td>\n",
              "      <td>...</td>\n",
              "      <td>...</td>\n",
              "      <td>...</td>\n",
              "      <td>...</td>\n",
              "      <td>...</td>\n",
              "      <td>...</td>\n",
              "      <td>...</td>\n",
              "      <td>...</td>\n",
              "      <td>...</td>\n",
              "      <td>...</td>\n",
              "      <td>...</td>\n",
              "      <td>...</td>\n",
              "      <td>...</td>\n",
              "      <td>...</td>\n",
              "      <td>...</td>\n",
              "      <td>...</td>\n",
              "      <td>...</td>\n",
              "      <td>...</td>\n",
              "      <td>...</td>\n",
              "      <td>...</td>\n",
              "      <td>...</td>\n",
              "      <td>...</td>\n",
              "      <td>...</td>\n",
              "      <td>...</td>\n",
              "      <td>...</td>\n",
              "      <td>...</td>\n",
              "      <td>...</td>\n",
              "      <td>...</td>\n",
              "      <td>...</td>\n",
              "      <td>...</td>\n",
              "      <td>...</td>\n",
              "      <td>...</td>\n",
              "      <td>...</td>\n",
              "      <td>...</td>\n",
              "      <td>...</td>\n",
              "      <td>...</td>\n",
              "      <td>...</td>\n",
              "      <td>...</td>\n",
              "      <td>...</td>\n",
              "      <td>...</td>\n",
              "      <td>...</td>\n",
              "      <td>...</td>\n",
              "      <td>...</td>\n",
              "      <td>...</td>\n",
              "      <td>...</td>\n",
              "      <td>...</td>\n",
              "      <td>...</td>\n",
              "    </tr>\n",
              "    <tr>\n",
              "      <th>24978</th>\n",
              "      <td>(0.44, 1.7674681157820462)</td>\n",
              "      <td>(7.43, 1.165603534078122)</td>\n",
              "      <td>(9.08, 1.2616062147706557)</td>\n",
              "      <td>(2.33, -0.8640387871705386)</td>\n",
              "      <td>(3.2, 1.1551405507186516)</td>\n",
              "      <td>(6.75, 3.0147432707051567)</td>\n",
              "      <td>(-8.79, -0.011553998780078309)</td>\n",
              "      <td>(-0.53, -0.4643018114895385)</td>\n",
              "      <td>(-8.74, -0.0799124012987837)</td>\n",
              "      <td>(7.23, 2.216459010753997)</td>\n",
              "      <td>(-0.53, 3.288462103048517)</td>\n",
              "      <td>(5.63, 2.976892175066721)</td>\n",
              "      <td>(-7.14, -1.9441768246970996)</td>\n",
              "      <td>(-4.08, 2.9268245662370145)</td>\n",
              "      <td>(-3.5, -2.099565746901256)</td>\n",
              "      <td>(-8.2, -3.8062195471324136)</td>\n",
              "      <td>(-3.98, -0.8919206587051173)</td>\n",
              "      <td>(-9.22, -0.5304169746070135)</td>\n",
              "      <td>(-0.15, 0.7648066210224063)</td>\n",
              "      <td>(-6.46, -0.5448054808625734)</td>\n",
              "      <td>(5.63, 3.8005901989017246)</td>\n",
              "      <td>(-0.92, 2.026871519529661)</td>\n",
              "      <td>(-2.91, 0.9149700414288541)</td>\n",
              "      <td>(-4.17, -1.5076157163253063)</td>\n",
              "      <td>(2.82, 1.491704017490443)</td>\n",
              "      <td>(3.4, 2.738225319159273)</td>\n",
              "      <td>(8.64, 5.015623812358566)</td>\n",
              "      <td>(6.84, 2.9198869471903235)</td>\n",
              "      <td>(6.8, 4.661348573197021)</td>\n",
              "      <td>(-0.87, 0.4445320771840631)</td>\n",
              "      <td>(7.38, 3.856112502549798)</td>\n",
              "      <td>(-3.5, 4.87582151221606)</td>\n",
              "      <td>(8.88, -0.8357779030223935)</td>\n",
              "      <td>(7.43, 2.217374172104605)</td>\n",
              "      <td>(5.39, 4.843044693031017)</td>\n",
              "      <td>(2.23, 5.028896083938286)</td>\n",
              "      <td>(-0.68, -1.0467410086724316)</td>\n",
              "      <td>(3.4, 2.3926810707199597)</td>\n",
              "      <td>(-0.58, 2.477588943052857)</td>\n",
              "      <td>(4.42, 2.29200131052439)</td>\n",
              "      <td>...</td>\n",
              "      <td>(8.59, 4.181738862574332)</td>\n",
              "      <td>(3.45, 4.65840770514596)</td>\n",
              "      <td>(0.87, 1.2854789429681233)</td>\n",
              "      <td>(9.27, -0.05973502540926021)</td>\n",
              "      <td>(-4.66, 4.101107248310379)</td>\n",
              "      <td>(5.73, 4.2511602024372515)</td>\n",
              "      <td>(-0.49, -0.30585248246254376)</td>\n",
              "      <td>(8.35, 4.270459860043232)</td>\n",
              "      <td>(1.94, 4.354378035801166)</td>\n",
              "      <td>(5.0, 1.6618523850939397)</td>\n",
              "      <td>(-9.66, -0.11543460535305713)</td>\n",
              "      <td>(8.98, 4.442841312627091)</td>\n",
              "      <td>(8.98, 2.412706522305147)</td>\n",
              "      <td>(-9.81, -1.0936713230582438)</td>\n",
              "      <td>(9.13, 0.48836765903837487)</td>\n",
              "      <td>(9.08, 3.905588137361811)</td>\n",
              "      <td>(9.08, 1.8301528086490546)</td>\n",
              "      <td>(3.98, 3.1288544909312273)</td>\n",
              "      <td>(0.73, 1.1731546511510615)</td>\n",
              "      <td>(9.03, 2.544246867433348)</td>\n",
              "      <td>(8.98, 3.2460785665622955)</td>\n",
              "      <td>(9.22, 1.9349046974787902)</td>\n",
              "      <td>(8.93, 3.597179479584449)</td>\n",
              "      <td>(9.13, 1.8463289169176809)</td>\n",
              "      <td>(9.27, 2.1817304675428892)</td>\n",
              "      <td>(-1.99, 1.1433258904295205)</td>\n",
              "      <td>(-9.95, 3.20992168669456)</td>\n",
              "      <td>(-9.9, 3.3311221527100012)</td>\n",
              "      <td>(9.13, 5.084896099272482)</td>\n",
              "      <td>(8.83, 1.7634576576202758)</td>\n",
              "      <td>(8.83, 3.196499182671693)</td>\n",
              "      <td>(-1.21, 2.3511231561875614)</td>\n",
              "      <td>(9.22, 3.963724703598079)</td>\n",
              "      <td>(-6.7, 2.1618177529216664)</td>\n",
              "      <td>(8.45, 2.0630800427494034)</td>\n",
              "      <td>(9.03, 2.793881766194523)</td>\n",
              "      <td>(6.55, 2.864069636026508)</td>\n",
              "      <td>(8.69, 2.1242577765456976)</td>\n",
              "      <td>(8.79, 0.9422567826300047)</td>\n",
              "      <td>(7.43, 2.807159328510028)</td>\n",
              "    </tr>\n",
              "    <tr>\n",
              "      <th>24979</th>\n",
              "      <td>(9.13, 0.7107161547611321)</td>\n",
              "      <td>(-8.16, 0.4681460382692037)</td>\n",
              "      <td>(8.59, 0.505142441568872)</td>\n",
              "      <td>(9.08, -0.35140009253263593)</td>\n",
              "      <td>(0.87, 0.4652684253963767)</td>\n",
              "      <td>(-8.93, 1.213390262135269)</td>\n",
              "      <td>(-3.5, -0.003923434753106208)</td>\n",
              "      <td>(5.78, -0.1872857021807496)</td>\n",
              "      <td>(-8.11, -0.03154842954340951)</td>\n",
              "      <td>(4.9, 0.8922282745368922)</td>\n",
              "      <td>(8.88, 1.3218302888429698)</td>\n",
              "      <td>(-8.69, 1.1982467536043435)</td>\n",
              "      <td>(-7.48, -0.7820773234866314)</td>\n",
              "      <td>(-8.83, 1.1784817696440653)</td>\n",
              "      <td>(-1.75, -0.8431603778402151)</td>\n",
              "      <td>(6.6, -1.532272189094405)</td>\n",
              "      <td>(3.54, -0.3593411017748378)</td>\n",
              "      <td>(1.5, -0.21140964664462855)</td>\n",
              "      <td>(7.67, 0.3098123809490379)</td>\n",
              "      <td>(-0.44, -0.21945212811577872)</td>\n",
              "      <td>(9.22, 1.5295615156358728)</td>\n",
              "      <td>(8.74, 0.8165524271177839)</td>\n",
              "      <td>(9.03, 0.368354725174673)</td>\n",
              "      <td>(9.08, -0.6072543352744876)</td>\n",
              "      <td>(8.93, 0.5996631240785149)</td>\n",
              "      <td>(3.74, 1.1026265027165052)</td>\n",
              "      <td>(3.2, 2.0179031968434353)</td>\n",
              "      <td>(-9.17, 1.1748399427792309)</td>\n",
              "      <td>(-8.98, 1.8772803803915303)</td>\n",
              "      <td>(8.79, 0.17748603089636744)</td>\n",
              "      <td>(-7.67, 1.552276838912699)</td>\n",
              "      <td>(-3.06, 1.9645011233422731)</td>\n",
              "      <td>(9.13, -0.337480464865644)</td>\n",
              "      <td>(8.4, 0.8926189459595181)</td>\n",
              "      <td>(-0.63, 1.9483208934402538)</td>\n",
              "      <td>(-7.18, 2.024267595938403)</td>\n",
              "      <td>(0.58, -0.4233360098224478)</td>\n",
              "      <td>(8.88, 0.9644082283910314)</td>\n",
              "      <td>(9.27, 0.9976886583462458)</td>\n",
              "      <td>(8.5, 0.9233025402116198)</td>\n",
              "      <td>...</td>\n",
              "      <td>(2.77, 1.683705582675238)</td>\n",
              "      <td>(8.11, 1.876792135818749)</td>\n",
              "      <td>(-7.96, 0.5165660984561153)</td>\n",
              "      <td>(8.93, -0.026044811510299182)</td>\n",
              "      <td>(-0.87, 1.648476398646758)</td>\n",
              "      <td>(-5.87, 1.7107322220941192)</td>\n",
              "      <td>(8.88, -0.12476540651116133)</td>\n",
              "      <td>(-1.12, 1.7199568868066788)</td>\n",
              "      <td>(-8.74, 1.752399939550854)</td>\n",
              "      <td>(8.74, 0.6669122131009851)</td>\n",
              "      <td>(nan, -0.04581726462353669)</td>\n",
              "      <td>(nan, 1.7873685972056705)</td>\n",
              "      <td>(nan, 0.9705024642220192)</td>\n",
              "      <td>(nan, -0.4387777489089891)</td>\n",
              "      <td>(nan, 0.1977046509611786)</td>\n",
              "      <td>(4.9, 1.5738182446622928)</td>\n",
              "      <td>(nan, 0.7371779194249249)</td>\n",
              "      <td>(nan, 1.2604283231715918)</td>\n",
              "      <td>(nan, 0.4731332113715226)</td>\n",
              "      <td>(nan, 1.02589671549208)</td>\n",
              "      <td>(-0.29, 1.3061295769712526)</td>\n",
              "      <td>(0.92, 0.7807843910655454)</td>\n",
              "      <td>(-0.78, 1.4472182293921114)</td>\n",
              "      <td>(0.15, 0.7420592536928752)</td>\n",
              "      <td>(-0.1, 0.877581340926028)</td>\n",
              "      <td>(0.0, 0.4578077429365079)</td>\n",
              "      <td>(-0.19, 1.2916051238801538)</td>\n",
              "      <td>(-0.87, 1.3430877719167904)</td>\n",
              "      <td>(-1.36, 2.050647320958528)</td>\n",
              "      <td>(-0.58, 0.7085872549597628)</td>\n",
              "      <td>(-1.17, 1.2899032775957262)</td>\n",
              "      <td>(-5.73, 0.9485820117642645)</td>\n",
              "      <td>(-1.46, 1.5966235734663552)</td>\n",
              "      <td>(0.24, 0.8695983807249197)</td>\n",
              "      <td>(9.22, 0.8304114646731763)</td>\n",
              "      <td>(-8.2, 1.1226972305047882)</td>\n",
              "      <td>(-7.23, 1.1524990462644347)</td>\n",
              "      <td>(-8.59, 0.853522952460371)</td>\n",
              "      <td>(9.13, 0.37718194554152673)</td>\n",
              "      <td>(8.45, 1.128623963493129)</td>\n",
              "    </tr>\n",
              "    <tr>\n",
              "      <th>24980</th>\n",
              "      <td>(nan, 0.9112656061951375)</td>\n",
              "      <td>(nan, 0.5846859144951557)</td>\n",
              "      <td>(nan, 0.5870179793534291)</td>\n",
              "      <td>(nan, -0.5617364767338336)</td>\n",
              "      <td>(-7.77, 0.6183110772193042)</td>\n",
              "      <td>(nan, 1.5875690519641523)</td>\n",
              "      <td>(6.7, 0.015246482917507449)</td>\n",
              "      <td>(-6.75, -0.2565627736190565)</td>\n",
              "      <td>(nan, -0.02403006137187099)</td>\n",
              "      <td>(nan, 1.1711763590336268)</td>\n",
              "      <td>(nan, 1.68100588113348)</td>\n",
              "      <td>(nan, 1.5703072397413653)</td>\n",
              "      <td>(-6.46, -1.011319280374353)</td>\n",
              "      <td>(-1.65, 1.5552836427348917)</td>\n",
              "      <td>(-6.8, -1.0503400989539637)</td>\n",
              "      <td>(-6.41, -2.013877238649558)</td>\n",
              "      <td>(-6.99, -0.48013479550990945)</td>\n",
              "      <td>(7.23, -0.2184126652507972)</td>\n",
              "      <td>(6.75, 0.4611127905294253)</td>\n",
              "      <td>(-6.99, -0.2920561351471644)</td>\n",
              "      <td>(6.55, 1.9978556613781218)</td>\n",
              "      <td>(nan, 1.089837511288492)</td>\n",
              "      <td>(nan, 0.4845424730990766)</td>\n",
              "      <td>(nan, -0.8074404003165359)</td>\n",
              "      <td>(nan, 0.7642284036870328)</td>\n",
              "      <td>(0.49, 1.4575276549664251)</td>\n",
              "      <td>(-0.53, 2.617397429515573)</td>\n",
              "      <td>(-6.94, 1.5267000537497801)</td>\n",
              "      <td>(-0.49, 2.4885821531055816)</td>\n",
              "      <td>(nan, 0.19207842197567665)</td>\n",
              "      <td>(6.46, 2.0379048913947058)</td>\n",
              "      <td>(-0.53, 2.6278913249924005)</td>\n",
              "      <td>(nan, -0.4721684863543837)</td>\n",
              "      <td>(nan, 1.172313641537044)</td>\n",
              "      <td>(-7.86, 2.52294497303868)</td>\n",
              "      <td>(-0.34, 2.6543926887271065)</td>\n",
              "      <td>(nan, -0.6110220857684934)</td>\n",
              "      <td>(-6.94, 1.300749491677956)</td>\n",
              "      <td>(nan, 1.3192343523100343)</td>\n",
              "      <td>(nan, 1.2306066504975812)</td>\n",
              "      <td>...</td>\n",
              "      <td>(0.49, 2.220205220297006)</td>\n",
              "      <td>(-0.24, 2.5074408313702605)</td>\n",
              "      <td>(nan, 0.6528586185797409)</td>\n",
              "      <td>(nan, -0.09021643236947209)</td>\n",
              "      <td>(-3.11, 2.096276918258029)</td>\n",
              "      <td>(-6.65, 2.2299277790154313)</td>\n",
              "      <td>(nan, -0.20990061783070935)</td>\n",
              "      <td>(-0.58, 2.282842798893903)</td>\n",
              "      <td>(6.31, 2.2879225885537013)</td>\n",
              "      <td>(nan, 0.8176411624913499)</td>\n",
              "      <td>(nan, -0.04190461350421795)</td>\n",
              "      <td>(-7.86, 2.315828298777385)</td>\n",
              "      <td>(nan, 1.2536096140263024)</td>\n",
              "      <td>(nan, -0.5345802273949029)</td>\n",
              "      <td>(nan, 0.2907402836765954)</td>\n",
              "      <td>(nan, 2.1117390076487768)</td>\n",
              "      <td>(nan, 0.9804319665448639)</td>\n",
              "      <td>(nan, 1.6802326646570163)</td>\n",
              "      <td>(nan, 0.6458265302029095)</td>\n",
              "      <td>(nan, 1.3948104979422533)</td>\n",
              "      <td>(nan, 1.6985393844891215)</td>\n",
              "      <td>(nan, 1.0780096356750317)</td>\n",
              "      <td>(nan, 1.8768459744699464)</td>\n",
              "      <td>(nan, 0.941136997930908)</td>\n",
              "      <td>(nan, 1.1332500908178729)</td>\n",
              "      <td>(nan, 0.5326960500487189)</td>\n",
              "      <td>(nan, 1.6803256151891657)</td>\n",
              "      <td>(nan, 1.8234193179471712)</td>\n",
              "      <td>(nan, 2.796585524919608)</td>\n",
              "      <td>(nan, 0.8940480334632516)</td>\n",
              "      <td>(nan, 1.781851498955179)</td>\n",
              "      <td>(nan, 1.3052831488265733)</td>\n",
              "      <td>(nan, 2.1249285755241236)</td>\n",
              "      <td>(nan, 1.1236918562650693)</td>\n",
              "      <td>(nan, 1.0879414275730976)</td>\n",
              "      <td>(nan, 1.4184556502752272)</td>\n",
              "      <td>(nan, 1.500967680395765)</td>\n",
              "      <td>(nan, 1.0757970490146433)</td>\n",
              "      <td>(nan, 0.43566308292688766)</td>\n",
              "      <td>(nan, 1.4425475918054407)</td>\n",
              "    </tr>\n",
              "    <tr>\n",
              "      <th>24981</th>\n",
              "      <td>(nan, 1.0619676205009738)</td>\n",
              "      <td>(nan, 0.6766783400645541)</td>\n",
              "      <td>(nan, 0.665770508329966)</td>\n",
              "      <td>(nan, -0.688220739764803)</td>\n",
              "      <td>(-9.71, 0.7271368306002117)</td>\n",
              "      <td>(nan, 1.8597178634729779)</td>\n",
              "      <td>(4.56, 0.023893432007751514)</td>\n",
              "      <td>(-8.3, -0.30395530299896373)</td>\n",
              "      <td>(nan, -0.023043506680228518)</td>\n",
              "      <td>(nan, 1.373072299721034)</td>\n",
              "      <td>(nan, 1.9548307160561702)</td>\n",
              "      <td>(nan, 1.8402523249630607)</td>\n",
              "      <td>(-9.47, -1.1811524907703288)</td>\n",
              "      <td>(nan, 1.8258613650385014)</td>\n",
              "      <td>(3.45, -1.2147546255502013)</td>\n",
              "      <td>(-0.92, -2.3617972585475044)</td>\n",
              "      <td>(-4.51, -0.56539695416034)</td>\n",
              "      <td>(-4.13, -0.23862711085228264)</td>\n",
              "      <td>(-5.73, 0.5566670418867373)</td>\n",
              "      <td>(-9.51, -0.34358147514125403)</td>\n",
              "      <td>(2.82, 2.3393360331428497)</td>\n",
              "      <td>(nan, 1.2830220913473205)</td>\n",
              "      <td>(nan, 0.5683737774538835)</td>\n",
              "      <td>(nan, -0.9496819043069379)</td>\n",
              "      <td>(nan, 0.8892099915227396)</td>\n",
              "      <td>(-0.49, 1.7117890076167257)</td>\n",
              "      <td>(2.91, 3.059341745830543)</td>\n",
              "      <td>(2.62, 1.7853264461750757)</td>\n",
              "      <td>(8.3, 2.9247776925686564)</td>\n",
              "      <td>(nan, 0.213122285336663)</td>\n",
              "      <td>(3.06, 2.3893085601747894)</td>\n",
              "      <td>(5.44, 3.0954257954822264)</td>\n",
              "      <td>(nan, -0.5621740690011974)</td>\n",
              "      <td>(nan, 1.3745899052121473)</td>\n",
              "      <td>(-0.68, 2.947687469337454)</td>\n",
              "      <td>(2.04, 3.1111659782361647)</td>\n",
              "      <td>(nan, -0.7326824246972491)</td>\n",
              "      <td>(nan, 1.535258916013936)</td>\n",
              "      <td>(1.55, 1.5494941449325252)</td>\n",
              "      <td>(nan, 1.4482482093505635)</td>\n",
              "      <td>...</td>\n",
              "      <td>(-8.83, 2.6059214741586443)</td>\n",
              "      <td>(-0.78, 2.952641334211774)</td>\n",
              "      <td>(nan, 0.757964806815136)</td>\n",
              "      <td>(nan, -0.12230171062797789)</td>\n",
              "      <td>(4.51, 2.437706082840848)</td>\n",
              "      <td>(-2.48, 2.6097206188294977)</td>\n",
              "      <td>(nan, -0.2596964387021189)</td>\n",
              "      <td>(1.26, 2.683798721391224)</td>\n",
              "      <td>(5.78, 2.6786867705231776)</td>\n",
              "      <td>(nan, 0.9415435215800423)</td>\n",
              "      <td>(nan, -0.04374701516777582)</td>\n",
              "      <td>(nan, 2.706092892060279)</td>\n",
              "      <td>(nan, 1.4637220835381586)</td>\n",
              "      <td>(nan, -0.6145252114708515)</td>\n",
              "      <td>(-4.56, 0.3500740998507625)</td>\n",
              "      <td>(nan, 2.489314063322939)</td>\n",
              "      <td>(nan, 1.1532175007656729)</td>\n",
              "      <td>(nan, 1.9774792795037341)</td>\n",
              "      <td>(nan, 0.764468585902882)</td>\n",
              "      <td>(3.16, 1.649473783525423)</td>\n",
              "      <td>(nan, 1.9866420514062948)</td>\n",
              "      <td>(nan, 1.2795193230172097)</td>\n",
              "      <td>(nan, 2.1936526400131116)</td>\n",
              "      <td>(nan, 1.0936626307590405)</td>\n",
              "      <td>(nan, 1.3230899699985528)</td>\n",
              "      <td>(nan, 0.6043892244703448)</td>\n",
              "      <td>(nan, 1.9655397624619715)</td>\n",
              "      <td>(nan, 2.155584222993714)</td>\n",
              "      <td>(nan, 3.309611728303841)</td>\n",
              "      <td>(nan, 1.0375259664910383)</td>\n",
              "      <td>(nan, 2.1151850417789944)</td>\n",
              "      <td>(nan, 1.5480419920499318)</td>\n",
              "      <td>(nan, 2.4998360051326127)</td>\n",
              "      <td>(nan, 1.3121556501100473)</td>\n",
              "      <td>(nan, 1.2748715333289122)</td>\n",
              "      <td>(nan, 1.6466779207197886)</td>\n",
              "      <td>(nan, 1.756218433905562)</td>\n",
              "      <td>(nan, 1.2480981063239132)</td>\n",
              "      <td>(nan, 0.4932256789906561)</td>\n",
              "      <td>(nan, 1.6797364579822707)</td>\n",
              "    </tr>\n",
              "    <tr>\n",
              "      <th>24982</th>\n",
              "      <td>(2.43, 1.342105848815263)</td>\n",
              "      <td>(2.67, 0.8919736713607841)</td>\n",
              "      <td>(-3.98, 0.9848325489917005)</td>\n",
              "      <td>(4.27, -0.6068964174339607)</td>\n",
              "      <td>(-2.28, 0.8675153818768283)</td>\n",
              "      <td>(7.33, 2.2751431539100886)</td>\n",
              "      <td>(2.33, -0.017746823833951667)</td>\n",
              "      <td>(4.56, -0.345291569934498)</td>\n",
              "      <td>(6.75, -0.06794736824935144)</td>\n",
              "      <td>(4.61, 1.6710136020234228)</td>\n",
              "      <td>(-3.16, 2.503169402998551)</td>\n",
              "      <td>(7.38, 2.245447750140666)</td>\n",
              "      <td>(-8.2, -1.4725011780614423)</td>\n",
              "      <td>(9.08, 2.202863070991713)</td>\n",
              "      <td>(-8.83, -1.6078851823154252)</td>\n",
              "      <td>(-7.77, -2.86842137732968)</td>\n",
              "      <td>(5.49, -0.6686862067787449)</td>\n",
              "      <td>(1.36, -0.42606670558540594)</td>\n",
              "      <td>(-9.32, 0.5524782248861123)</td>\n",
              "      <td>(7.04, -0.4089655837654835)</td>\n",
              "      <td>(7.28, 2.8696989311233163)</td>\n",
              "      <td>(3.2, 1.5201086046955496)</td>\n",
              "      <td>(-0.05, 0.6893523909165761)</td>\n",
              "      <td>(-1.26, -1.1320309247765512)</td>\n",
              "      <td>(6.94, 1.134764289605606)</td>\n",
              "      <td>(5.49, 2.0598719492536577)</td>\n",
              "      <td>(1.21, 3.7952409431333183)</td>\n",
              "      <td>(5.0, 2.2081780665593937)</td>\n",
              "      <td>(7.38, 3.5034404951739466)</td>\n",
              "      <td>(2.33, 0.35325616707503193)</td>\n",
              "      <td>(3.35, 2.9070247555321522)</td>\n",
              "      <td>(6.17, 3.6541384521336826)</td>\n",
              "      <td>(-4.81, -0.6171761816509135)</td>\n",
              "      <td>(3.79, 1.6714268978557554)</td>\n",
              "      <td>(6.26, 3.6665119558559396)</td>\n",
              "      <td>(8.54, 3.792558411412106)</td>\n",
              "      <td>(5.29, -0.7646359605062305)</td>\n",
              "      <td>(1.12, 1.7884404004797352)</td>\n",
              "      <td>(0.83, 1.8636177710858648)</td>\n",
              "      <td>(0.19, 1.7197074565975228)</td>\n",
              "      <td>...</td>\n",
              "      <td>(6.17, 3.1481847677366126)</td>\n",
              "      <td>(-0.29, 3.492584590700513)</td>\n",
              "      <td>(0.83, 0.9803047760077727)</td>\n",
              "      <td>(4.22, -0.02021283380537373)</td>\n",
              "      <td>(4.27, 3.121811890753108)</td>\n",
              "      <td>(7.38, 3.211931796147496)</td>\n",
              "      <td>(6.21, -0.21014977655983902)</td>\n",
              "      <td>(7.48, 3.208403895260202)</td>\n",
              "      <td>(5.15, 3.2882869124144523)</td>\n",
              "      <td>(3.2, 1.2784853868618573)</td>\n",
              "      <td>(6.26, -0.09510688756073636)</td>\n",
              "      <td>(nan, 3.362952848355382)</td>\n",
              "      <td>(nan, 1.8279658314740868)</td>\n",
              "      <td>(nan, -0.8428625693753041)</td>\n",
              "      <td>(nan, 0.3543526073121129)</td>\n",
              "      <td>(nan, 2.9241417892053776)</td>\n",
              "      <td>(nan, 1.3741106000361583)</td>\n",
              "      <td>(nan, 2.3474748697370744)</td>\n",
              "      <td>(nan, 0.8734800579086932)</td>\n",
              "      <td>(nan, 1.8967938283031738)</td>\n",
              "      <td>(nan, 2.454317796974496)</td>\n",
              "      <td>(nan, 1.435213598608537)</td>\n",
              "      <td>(nan, 2.7220702089383018)</td>\n",
              "      <td>(nan, 1.4065531561319298)</td>\n",
              "      <td>(nan, 1.6531159214333844)</td>\n",
              "      <td>(nan, 0.8921989601536059)</td>\n",
              "      <td>(7.23, 2.426681419669505)</td>\n",
              "      <td>(nan, 2.484600787366261)</td>\n",
              "      <td>(nan, 3.787123416596981)</td>\n",
              "      <td>(nan, 1.3454720742231)</td>\n",
              "      <td>(nan, 2.370594099965243)</td>\n",
              "      <td>(nan, 1.7458974818032427)</td>\n",
              "      <td>(nan, 2.9753903156266444)</td>\n",
              "      <td>(nan, 1.6376956821444126)</td>\n",
              "      <td>(nan, 1.5563060777854654)</td>\n",
              "      <td>(nan, 2.130813493330168)</td>\n",
              "      <td>(nan, 2.1645048812373937)</td>\n",
              "      <td>(nan, 1.6212489278539683)</td>\n",
              "      <td>(nan, 0.7367121469778518)</td>\n",
              "      <td>(nan, 2.1335968963737555)</td>\n",
              "    </tr>\n",
              "  </tbody>\n",
              "</table>\n",
              "<p>24983 rows × 100 columns</p>\n",
              "</div>"
            ],
            "text/plain": [
              "                               1    ...                         100\n",
              "0      (-7.82, 1.2639093993837136)  ...   (nan, 1.9978153898050923)\n",
              "1       (4.08, 1.2763720297143581)  ...  (1.07, 2.0278989443587703)\n",
              "2        (nan, 2.1740302369129787)  ...   (nan, 3.4428270732363586)\n",
              "3         (nan, 1.135246339608725)  ...   (nan, 1.8027600282907281)\n",
              "4        (8.5, 1.2408774565568128)  ...   (1.6, 1.9611943086493566)\n",
              "...                            ...  ...                         ...\n",
              "24978   (0.44, 1.7674681157820462)  ...   (7.43, 2.807159328510028)\n",
              "24979   (9.13, 0.7107161547611321)  ...   (8.45, 1.128623963493129)\n",
              "24980    (nan, 0.9112656061951375)  ...   (nan, 1.4425475918054407)\n",
              "24981    (nan, 1.0619676205009738)  ...   (nan, 1.6797364579822707)\n",
              "24982    (2.43, 1.342105848815263)  ...   (nan, 2.1335968963737555)\n",
              "\n",
              "[24983 rows x 100 columns]"
            ]
          },
          "metadata": {
            "tags": []
          },
          "execution_count": 24
        }
      ]
    },
    {
      "cell_type": "code",
      "metadata": {
        "id": "-zUMbJjwIdoG"
      },
      "source": [
        "# while 1: pass"
      ],
      "execution_count": 25,
      "outputs": []
    },
    {
      "cell_type": "markdown",
      "metadata": {
        "id": "f9bvcG-FIvKx"
      },
      "source": [
        "# For Quiz"
      ]
    },
    {
      "cell_type": "code",
      "metadata": {
        "id": "cjdLhcFpIdq9"
      },
      "source": [
        "quiz_users = pd.read_excel(\"https://raw.githubusercontent.com/albanda/CE888/master/lab4-recommender/movies_latent_factors.xlsx\",sheet_name='Users')\n",
        "quiz_items = pd.read_excel(\"https://raw.githubusercontent.com/albanda/CE888/master/lab4-recommender/movies_latent_factors.xlsx\",sheet_name='Items')"
      ],
      "execution_count": 26,
      "outputs": []
    },
    {
      "cell_type": "code",
      "metadata": {
        "id": "_eiiYIILIdtu"
      },
      "source": [
        "#quiz_movies"
      ],
      "execution_count": 27,
      "outputs": []
    },
    {
      "cell_type": "code",
      "metadata": {
        "colab": {
          "base_uri": "https://localhost:8080/"
        },
        "id": "Wrxk7wWOITsq",
        "outputId": "647f9da1-631d-47f4-c8f4-8fd2a50f6047"
      },
      "source": [
        "test_data.loc[11740 , 61]"
      ],
      "execution_count": 28,
      "outputs": [
        {
          "output_type": "execute_result",
          "data": {
            "text/plain": [
              "-1.84"
            ]
          },
          "metadata": {
            "tags": []
          },
          "execution_count": 28
        }
      ]
    },
    {
      "cell_type": "code",
      "metadata": {
        "colab": {
          "base_uri": "https://localhost:8080/"
        },
        "id": "7vQQO2HII4_e",
        "outputId": "efbad9d9-47ee-42df-bb8e-df12855b8c99"
      },
      "source": [
        "comparison_data.loc[11740, 61]"
      ],
      "execution_count": 58,
      "outputs": [
        {
          "output_type": "execute_result",
          "data": {
            "text/plain": [
              "(-1.84, 2.48888761459081)"
            ]
          },
          "metadata": {
            "tags": []
          },
          "execution_count": 58
        }
      ]
    },
    {
      "cell_type": "code",
      "metadata": {
        "colab": {
          "base_uri": "https://localhost:8080/"
        },
        "id": "Sc4NIH2rI5CI",
        "outputId": "fd61468c-be77-4063-a23b-7b26c41c42c9"
      },
      "source": [
        "comparison_data.loc[23437, 58]"
      ],
      "execution_count": 30,
      "outputs": [
        {
          "output_type": "execute_result",
          "data": {
            "text/plain": [
              "(nan, -1.8301863466298582)"
            ]
          },
          "metadata": {
            "tags": []
          },
          "execution_count": 30
        }
      ]
    },
    {
      "cell_type": "code",
      "metadata": {
        "colab": {
          "base_uri": "https://localhost:8080/"
        },
        "id": "SPIWUyOwI5E6",
        "outputId": "d3b655a9-5238-4932-e547-6509c25b4b2b"
      },
      "source": [
        "quiz_users.loc[quiz_users['User']==4327, 'Factor14']"
      ],
      "execution_count": 31,
      "outputs": [
        {
          "output_type": "execute_result",
          "data": {
            "text/plain": [
              "21   -0.09349\n",
              "Name: Factor14, dtype: float64"
            ]
          },
          "metadata": {
            "tags": []
          },
          "execution_count": 31
        }
      ]
    },
    {
      "cell_type": "code",
      "metadata": {
        "colab": {
          "base_uri": "https://localhost:8080/"
        },
        "id": "XOYCw3u-I5Hc",
        "outputId": "d8ad3bae-4fd0-4f24-95a9-b604821c6f80"
      },
      "source": [
        "round(-0.09349, 3)"
      ],
      "execution_count": 32,
      "outputs": [
        {
          "output_type": "execute_result",
          "data": {
            "text/plain": [
              "-0.093"
            ]
          },
          "metadata": {
            "tags": []
          },
          "execution_count": 32
        }
      ]
    },
    {
      "cell_type": "code",
      "metadata": {
        "colab": {
          "base_uri": "https://localhost:8080/"
        },
        "id": "_0DLe4m4I5MW",
        "outputId": "f88dba06-6e84-44bd-b87d-1578cb914d0b"
      },
      "source": [
        "quiz_items.loc[quiz_items['Movie ID']==11, 'Factor3']"
      ],
      "execution_count": 59,
      "outputs": [
        {
          "output_type": "execute_result",
          "data": {
            "text/plain": [
              "0    2.027269\n",
              "Name: Factor3, dtype: float64"
            ]
          },
          "metadata": {
            "tags": []
          },
          "execution_count": 59
        }
      ]
    },
    {
      "cell_type": "code",
      "metadata": {
        "colab": {
          "base_uri": "https://localhost:8080/",
          "height": 77
        },
        "id": "mGEceFXbI5Pl",
        "outputId": "7885fae2-eabd-406a-f215-047fc4cbd645"
      },
      "source": [
        "(quiz_items.loc[quiz_items['Factor10']==np.max(quiz_items['Factor10']), ['Movie ID', 'Factor10']])"
      ],
      "execution_count": 61,
      "outputs": [
        {
          "output_type": "execute_result",
          "data": {
            "text/html": [
              "<div>\n",
              "<style scoped>\n",
              "    .dataframe tbody tr th:only-of-type {\n",
              "        vertical-align: middle;\n",
              "    }\n",
              "\n",
              "    .dataframe tbody tr th {\n",
              "        vertical-align: top;\n",
              "    }\n",
              "\n",
              "    .dataframe thead th {\n",
              "        text-align: right;\n",
              "    }\n",
              "</style>\n",
              "<table border=\"1\" class=\"dataframe\">\n",
              "  <thead>\n",
              "    <tr style=\"text-align: right;\">\n",
              "      <th></th>\n",
              "      <th>Movie ID</th>\n",
              "      <th>Factor10</th>\n",
              "    </tr>\n",
              "  </thead>\n",
              "  <tbody>\n",
              "    <tr>\n",
              "      <th>65</th>\n",
              "      <td>808</td>\n",
              "      <td>1.546593</td>\n",
              "    </tr>\n",
              "  </tbody>\n",
              "</table>\n",
              "</div>"
            ],
            "text/plain": [
              "    Movie ID  Factor10\n",
              "65       808  1.546593"
            ]
          },
          "metadata": {
            "tags": []
          },
          "execution_count": 61
        }
      ]
    },
    {
      "cell_type": "code",
      "metadata": {
        "colab": {
          "base_uri": "https://localhost:8080/",
          "height": 246
        },
        "id": "w0zZctKjI5Rs",
        "outputId": "3dbeae6a-49f7-4e95-ba8b-b647443c9958"
      },
      "source": [
        "quiz_items.head()"
      ],
      "execution_count": 62,
      "outputs": [
        {
          "output_type": "execute_result",
          "data": {
            "text/html": [
              "<div>\n",
              "<style scoped>\n",
              "    .dataframe tbody tr th:only-of-type {\n",
              "        vertical-align: middle;\n",
              "    }\n",
              "\n",
              "    .dataframe tbody tr th {\n",
              "        vertical-align: top;\n",
              "    }\n",
              "\n",
              "    .dataframe thead th {\n",
              "        text-align: right;\n",
              "    }\n",
              "</style>\n",
              "<table border=\"1\" class=\"dataframe\">\n",
              "  <thead>\n",
              "    <tr style=\"text-align: right;\">\n",
              "      <th></th>\n",
              "      <th>Movie ID</th>\n",
              "      <th>Title</th>\n",
              "      <th>Factor1</th>\n",
              "      <th>Factor2</th>\n",
              "      <th>Factor3</th>\n",
              "      <th>Factor4</th>\n",
              "      <th>Factor5</th>\n",
              "      <th>Factor6</th>\n",
              "      <th>Factor7</th>\n",
              "      <th>Factor8</th>\n",
              "      <th>Factor9</th>\n",
              "      <th>Factor10</th>\n",
              "      <th>Factor11</th>\n",
              "      <th>Factor12</th>\n",
              "      <th>Factor13</th>\n",
              "      <th>Factor14</th>\n",
              "      <th>Factor15</th>\n",
              "    </tr>\n",
              "  </thead>\n",
              "  <tbody>\n",
              "    <tr>\n",
              "      <th>0</th>\n",
              "      <td>11</td>\n",
              "      <td>Star Wars: Episode IV - A New Hope (1977)</td>\n",
              "      <td>-1.521848</td>\n",
              "      <td>-1.038507</td>\n",
              "      <td>2.027269</td>\n",
              "      <td>0.247933</td>\n",
              "      <td>-0.594548</td>\n",
              "      <td>2.513260</td>\n",
              "      <td>-1.848910</td>\n",
              "      <td>0.476710</td>\n",
              "      <td>-0.224146</td>\n",
              "      <td>-0.760681</td>\n",
              "      <td>-0.973915</td>\n",
              "      <td>0.862379</td>\n",
              "      <td>0.403861</td>\n",
              "      <td>1.129616</td>\n",
              "      <td>-0.248806</td>\n",
              "    </tr>\n",
              "    <tr>\n",
              "      <th>1</th>\n",
              "      <td>12</td>\n",
              "      <td>Finding Nemo (2003)</td>\n",
              "      <td>-0.342185</td>\n",
              "      <td>-0.296586</td>\n",
              "      <td>-0.385962</td>\n",
              "      <td>2.443297</td>\n",
              "      <td>-1.097015</td>\n",
              "      <td>-0.619465</td>\n",
              "      <td>0.572887</td>\n",
              "      <td>0.329516</td>\n",
              "      <td>-0.712228</td>\n",
              "      <td>0.323554</td>\n",
              "      <td>-0.561948</td>\n",
              "      <td>-0.142405</td>\n",
              "      <td>-0.564415</td>\n",
              "      <td>0.506876</td>\n",
              "      <td>1.274993</td>\n",
              "    </tr>\n",
              "    <tr>\n",
              "      <th>2</th>\n",
              "      <td>13</td>\n",
              "      <td>Forrest Gump (1994)</td>\n",
              "      <td>-2.240888</td>\n",
              "      <td>-0.438815</td>\n",
              "      <td>-2.275177</td>\n",
              "      <td>0.614548</td>\n",
              "      <td>0.904469</td>\n",
              "      <td>0.711919</td>\n",
              "      <td>-0.420876</td>\n",
              "      <td>1.302036</td>\n",
              "      <td>-0.868418</td>\n",
              "      <td>-0.160122</td>\n",
              "      <td>0.633667</td>\n",
              "      <td>0.133138</td>\n",
              "      <td>-0.330276</td>\n",
              "      <td>-2.209004</td>\n",
              "      <td>-0.419092</td>\n",
              "    </tr>\n",
              "    <tr>\n",
              "      <th>3</th>\n",
              "      <td>14</td>\n",
              "      <td>American Beauty (1999)</td>\n",
              "      <td>-0.634531</td>\n",
              "      <td>2.186059</td>\n",
              "      <td>-0.066681</td>\n",
              "      <td>0.086197</td>\n",
              "      <td>0.517558</td>\n",
              "      <td>-0.185319</td>\n",
              "      <td>-0.412352</td>\n",
              "      <td>0.063841</td>\n",
              "      <td>0.075937</td>\n",
              "      <td>-0.577682</td>\n",
              "      <td>0.526803</td>\n",
              "      <td>-1.465557</td>\n",
              "      <td>-0.819682</td>\n",
              "      <td>0.549010</td>\n",
              "      <td>-0.681191</td>\n",
              "    </tr>\n",
              "    <tr>\n",
              "      <th>4</th>\n",
              "      <td>22</td>\n",
              "      <td>Pirates of the Caribbean: The Curse of the Bla...</td>\n",
              "      <td>0.517348</td>\n",
              "      <td>-1.456763</td>\n",
              "      <td>0.369161</td>\n",
              "      <td>0.073903</td>\n",
              "      <td>-0.098332</td>\n",
              "      <td>-0.594722</td>\n",
              "      <td>0.828888</td>\n",
              "      <td>0.033626</td>\n",
              "      <td>-0.707414</td>\n",
              "      <td>0.717877</td>\n",
              "      <td>1.394326</td>\n",
              "      <td>-0.786986</td>\n",
              "      <td>1.429191</td>\n",
              "      <td>0.855746</td>\n",
              "      <td>-2.292566</td>\n",
              "    </tr>\n",
              "  </tbody>\n",
              "</table>\n",
              "</div>"
            ],
            "text/plain": [
              "   Movie ID  ...  Factor15\n",
              "0        11  ... -0.248806\n",
              "1        12  ...  1.274993\n",
              "2        13  ... -0.419092\n",
              "3        14  ... -0.681191\n",
              "4        22  ... -2.292566\n",
              "\n",
              "[5 rows x 17 columns]"
            ]
          },
          "metadata": {
            "tags": []
          },
          "execution_count": 62
        }
      ]
    },
    {
      "cell_type": "code",
      "metadata": {
        "colab": {
          "base_uri": "https://localhost:8080/"
        },
        "id": "7gHCvidwI5UZ",
        "outputId": "3f28a031-32a7-4f76-bf6a-e01294ba7def"
      },
      "source": [
        "np.argmin(quiz_items.loc[:, 'Factor10'].values)"
      ],
      "execution_count": 63,
      "outputs": [
        {
          "output_type": "execute_result",
          "data": {
            "text/plain": [
              "47"
            ]
          },
          "metadata": {
            "tags": []
          },
          "execution_count": 63
        }
      ]
    },
    {
      "cell_type": "code",
      "metadata": {
        "colab": {
          "base_uri": "https://localhost:8080/"
        },
        "id": "eGZytNs4I5XD",
        "outputId": "348f2f2c-5635-4cca-9b24-96dffb3d2a2c"
      },
      "source": [
        "quiz_items.loc[47, ['Title', 'Factor10']]"
      ],
      "execution_count": 64,
      "outputs": [
        {
          "output_type": "execute_result",
          "data": {
            "text/plain": [
              "Title       Titanic (1997)\n",
              "Factor10          -2.98681\n",
              "Name: 47, dtype: object"
            ]
          },
          "metadata": {
            "tags": []
          },
          "execution_count": 64
        }
      ]
    },
    {
      "cell_type": "code",
      "metadata": {
        "id": "QEJfnmClI5aB"
      },
      "source": [
        "a=quiz_items.loc[quiz_items['Movie ID']==862]"
      ],
      "execution_count": 73,
      "outputs": []
    },
    {
      "cell_type": "code",
      "metadata": {
        "id": "rXgzncgEJJ7f"
      },
      "source": [
        "a=a.values.squeeze()"
      ],
      "execution_count": 74,
      "outputs": []
    },
    {
      "cell_type": "code",
      "metadata": {
        "colab": {
          "base_uri": "https://localhost:8080/"
        },
        "id": "0yrM-HbUJJ-M",
        "outputId": "3630c911-ed0d-44f4-bf9b-770ecaedbf26"
      },
      "source": [
        "a=a[2:]\n",
        "a"
      ],
      "execution_count": 75,
      "outputs": [
        {
          "output_type": "execute_result",
          "data": {
            "text/plain": [
              "array([-0.5727828855904948, -0.0885460119956924, -0.0393095514549324,\n",
              "       2.5392590669713613, -1.6911653095091341, -0.14001009282703283,\n",
              "       0.9443313165937158, 0.5731837555208938, -0.3413665369069682,\n",
              "       0.4767087774822856, -0.592486983176339, -0.1326580135010477,\n",
              "       -0.7227065920938089, 0.25034072929439805, 0.9786269347844],\n",
              "      dtype=object)"
            ]
          },
          "metadata": {
            "tags": []
          },
          "execution_count": 75
        }
      ]
    },
    {
      "cell_type": "code",
      "metadata": {
        "id": "d5_AJWjAJKBL"
      },
      "source": [
        "b=quiz_users.loc[quiz_users['User']==4997]"
      ],
      "execution_count": 76,
      "outputs": []
    },
    {
      "cell_type": "code",
      "metadata": {
        "id": "7N8fQYLwJN03"
      },
      "source": [
        "b=b.values.squeeze()"
      ],
      "execution_count": 77,
      "outputs": []
    },
    {
      "cell_type": "code",
      "metadata": {
        "colab": {
          "base_uri": "https://localhost:8080/"
        },
        "id": "qYZdlpfLJN3g",
        "outputId": "52acc245-03f1-406d-9b31-7c9863281517"
      },
      "source": [
        "b=b[1:]\n",
        "b"
      ],
      "execution_count": 78,
      "outputs": [
        {
          "output_type": "execute_result",
          "data": {
            "text/plain": [
              "array([-0.18544338, -0.27649645, -0.78127547, -0.24050617,  0.02961055,\n",
              "       -0.27181376, -0.0562656 , -0.1118247 , -0.29090984, -0.25508709,\n",
              "       -0.09807896,  0.10311568, -0.10056309,  0.1001642 ,  0.04319591])"
            ]
          },
          "metadata": {
            "tags": []
          },
          "execution_count": 78
        }
      ]
    },
    {
      "cell_type": "code",
      "metadata": {
        "id": "_zDYsdGZJN6E"
      },
      "source": [
        "quiz_pred=np.dot(b, a.T)"
      ],
      "execution_count": 79,
      "outputs": []
    },
    {
      "cell_type": "code",
      "metadata": {
        "colab": {
          "base_uri": "https://localhost:8080/"
        },
        "id": "qKOgBgP2JN8-",
        "outputId": "b4811c7f-78f6-4292-f55b-8c3980b476fa"
      },
      "source": [
        "round(quiz_pred, 2)"
      ],
      "execution_count": 80,
      "outputs": [
        {
          "output_type": "execute_result",
          "data": {
            "text/plain": [
              "-0.42"
            ]
          },
          "metadata": {
            "tags": []
          },
          "execution_count": 80
        }
      ]
    },
    {
      "cell_type": "code",
      "metadata": {
        "colab": {
          "base_uri": "https://localhost:8080/"
        },
        "id": "aJdbzC64JN_s",
        "outputId": "717ae3b1-9696-4f2c-e774-71d05ed02b1a"
      },
      "source": [
        "c=quiz_items.loc[quiz_items['Movie ID']==812]\n",
        "c=c.values.squeeze()\n",
        "c=c[2:]\n",
        "c"
      ],
      "execution_count": 46,
      "outputs": [
        {
          "output_type": "execute_result",
          "data": {
            "text/plain": [
              "array([0.9444072873203204, -0.17405053859224534, 0.12318628233184109,\n",
              "       2.2243105344641236, -0.5695513857263874, 0.018065057433469225,\n",
              "       0.3010679396871695, 0.03472533646290326, -0.20630092072921338,\n",
              "       0.5333225541299694, -0.8823041399125704, -0.4469824426741521,\n",
              "       1.3020155376267466, 0.8368295247444454, -0.46760653696757254],\n",
              "      dtype=object)"
            ]
          },
          "metadata": {
            "tags": []
          },
          "execution_count": 46
        }
      ]
    },
    {
      "cell_type": "code",
      "metadata": {
        "colab": {
          "base_uri": "https://localhost:8080/"
        },
        "id": "0HjRMrxwJOCj",
        "outputId": "2071362d-75a1-426b-c781-e6956993225f"
      },
      "source": [
        "quiz_pred=np.dot(b, c.T)\n",
        "round(quiz_pred, 2)"
      ],
      "execution_count": 47,
      "outputs": [
        {
          "output_type": "execute_result",
          "data": {
            "text/plain": [
              "-0.22"
            ]
          },
          "metadata": {
            "tags": []
          },
          "execution_count": 47
        }
      ]
    },
    {
      "cell_type": "code",
      "metadata": {
        "colab": {
          "base_uri": "https://localhost:8080/"
        },
        "id": "yH2qCzfjJZgM",
        "outputId": "1f79e3de-102f-4f0d-cd8e-e3c06fa2f764"
      },
      "source": [
        "u_2067=quiz_users.loc[quiz_users['User']==4768]\n",
        "u_2067=u_2067.values.squeeze()\n",
        "u_2067=u_2067[1:]\n",
        "u_2067"
      ],
      "execution_count": 88,
      "outputs": [
        {
          "output_type": "execute_result",
          "data": {
            "text/plain": [
              "array([-0.20402409,  0.16107871, -0.0904475 ,  0.13849453, -0.16293366,\n",
              "        0.1638944 ,  0.05150182, -0.08858222,  0.126829  ,  0.06596709,\n",
              "        0.08500812,  0.35540448,  0.007108  , -0.1186634 , -0.03912536])"
            ]
          },
          "metadata": {
            "tags": []
          },
          "execution_count": 88
        }
      ]
    },
    {
      "cell_type": "code",
      "metadata": {
        "id": "67VZawpLJZjQ"
      },
      "source": [
        "all_item_factors=quiz_items.values[:, 2:]"
      ],
      "execution_count": 89,
      "outputs": []
    },
    {
      "cell_type": "code",
      "metadata": {
        "id": "48fRByTKJZmQ"
      },
      "source": [
        "quiz_ratings=np.dot(u_2067, all_item_factors.T)"
      ],
      "execution_count": 90,
      "outputs": []
    },
    {
      "cell_type": "code",
      "metadata": {
        "colab": {
          "base_uri": "https://localhost:8080/"
        },
        "id": "duX4MlsWJZoY",
        "outputId": "70b25531-4029-4c87-9150-2a60ae33bbdc"
      },
      "source": [
        "np.argmax(quiz_ratings)"
      ],
      "execution_count": 91,
      "outputs": [
        {
          "output_type": "execute_result",
          "data": {
            "text/plain": [
              "9"
            ]
          },
          "metadata": {
            "tags": []
          },
          "execution_count": 91
        }
      ]
    },
    {
      "cell_type": "code",
      "metadata": {
        "colab": {
          "base_uri": "https://localhost:8080/"
        },
        "id": "LpVnWSurJZrd",
        "outputId": "d63ff87b-0bbe-4cc0-d809-6c73fd8759c1"
      },
      "source": [
        "np.argsort(quiz_ratings)[::-1][:2]"
      ],
      "execution_count": 92,
      "outputs": [
        {
          "output_type": "execute_result",
          "data": {
            "text/plain": [
              "array([ 9, 11])"
            ]
          },
          "metadata": {
            "tags": []
          },
          "execution_count": 92
        }
      ]
    },
    {
      "cell_type": "code",
      "metadata": {
        "colab": {
          "base_uri": "https://localhost:8080/",
          "height": 140
        },
        "id": "pkp8u9yGJKDY",
        "outputId": "8501b625-e124-4b05-8563-6463e1610f72"
      },
      "source": [
        "quiz_items.loc[np.argsort(quiz_ratings)[::-1][:2], :]"
      ],
      "execution_count": 93,
      "outputs": [
        {
          "output_type": "execute_result",
          "data": {
            "text/html": [
              "<div>\n",
              "<style scoped>\n",
              "    .dataframe tbody tr th:only-of-type {\n",
              "        vertical-align: middle;\n",
              "    }\n",
              "\n",
              "    .dataframe tbody tr th {\n",
              "        vertical-align: top;\n",
              "    }\n",
              "\n",
              "    .dataframe thead th {\n",
              "        text-align: right;\n",
              "    }\n",
              "</style>\n",
              "<table border=\"1\" class=\"dataframe\">\n",
              "  <thead>\n",
              "    <tr style=\"text-align: right;\">\n",
              "      <th></th>\n",
              "      <th>Movie ID</th>\n",
              "      <th>Title</th>\n",
              "      <th>Factor1</th>\n",
              "      <th>Factor2</th>\n",
              "      <th>Factor3</th>\n",
              "      <th>Factor4</th>\n",
              "      <th>Factor5</th>\n",
              "      <th>Factor6</th>\n",
              "      <th>Factor7</th>\n",
              "      <th>Factor8</th>\n",
              "      <th>Factor9</th>\n",
              "      <th>Factor10</th>\n",
              "      <th>Factor11</th>\n",
              "      <th>Factor12</th>\n",
              "      <th>Factor13</th>\n",
              "      <th>Factor14</th>\n",
              "      <th>Factor15</th>\n",
              "    </tr>\n",
              "  </thead>\n",
              "  <tbody>\n",
              "    <tr>\n",
              "      <th>9</th>\n",
              "      <td>85</td>\n",
              "      <td>Raiders of the Lost Ark (Indiana Jones and the...</td>\n",
              "      <td>-1.241724</td>\n",
              "      <td>0.021130</td>\n",
              "      <td>0.489161</td>\n",
              "      <td>0.424584</td>\n",
              "      <td>-1.262253</td>\n",
              "      <td>1.190654</td>\n",
              "      <td>-0.606434</td>\n",
              "      <td>0.305721</td>\n",
              "      <td>1.438862</td>\n",
              "      <td>0.402682</td>\n",
              "      <td>0.438831</td>\n",
              "      <td>0.784948</td>\n",
              "      <td>-0.874375</td>\n",
              "      <td>-0.399984</td>\n",
              "      <td>-0.197686</td>\n",
              "    </tr>\n",
              "    <tr>\n",
              "      <th>11</th>\n",
              "      <td>105</td>\n",
              "      <td>Back to the Future (1985)</td>\n",
              "      <td>-1.107666</td>\n",
              "      <td>-0.039506</td>\n",
              "      <td>0.109809</td>\n",
              "      <td>0.169149</td>\n",
              "      <td>-1.625467</td>\n",
              "      <td>1.673495</td>\n",
              "      <td>-0.544459</td>\n",
              "      <td>0.420603</td>\n",
              "      <td>1.184404</td>\n",
              "      <td>0.396530</td>\n",
              "      <td>1.240446</td>\n",
              "      <td>0.016825</td>\n",
              "      <td>-0.582166</td>\n",
              "      <td>-0.757412</td>\n",
              "      <td>0.118024</td>\n",
              "    </tr>\n",
              "  </tbody>\n",
              "</table>\n",
              "</div>"
            ],
            "text/plain": [
              "    Movie ID  ...  Factor15\n",
              "9         85  ... -0.197686\n",
              "11       105  ...  0.118024\n",
              "\n",
              "[2 rows x 17 columns]"
            ]
          },
          "metadata": {
            "tags": []
          },
          "execution_count": 93
        }
      ]
    },
    {
      "cell_type": "code",
      "metadata": {
        "colab": {
          "base_uri": "https://localhost:8080/"
        },
        "id": "bFqXU4kVJirw",
        "outputId": "86501956-5c00-4244-c75c-497544dba102"
      },
      "source": [
        "u_4940=quiz_users.loc[quiz_users['User']==4373]\n",
        "u_4940=u_4940.values.squeeze()\n",
        "u_4940=u_4940[1:]\n",
        "u_4940"
      ],
      "execution_count": 54,
      "outputs": [
        {
          "output_type": "execute_result",
          "data": {
            "text/plain": [
              "array([-0.1365496 , -0.08940568, -0.23539942,  0.12058533, -0.16816781,\n",
              "        0.12998995, -0.03508359, -0.32402785,  0.08753111,  0.04528984,\n",
              "        0.20784991, -0.02897165, -0.1751839 , -0.05828269,  0.14779738])"
            ]
          },
          "metadata": {
            "tags": []
          },
          "execution_count": 54
        }
      ]
    },
    {
      "cell_type": "code",
      "metadata": {
        "colab": {
          "base_uri": "https://localhost:8080/"
        },
        "id": "EqyuWM1aJiu4",
        "outputId": "0f788f55-050c-4852-c4a4-a5793f0c4360"
      },
      "source": [
        "quiz_ratings=np.dot(u_2067, all_item_factors.T)\n",
        "np.argsort(quiz_ratings)[::-1][:2]"
      ],
      "execution_count": 55,
      "outputs": [
        {
          "output_type": "execute_result",
          "data": {
            "text/plain": [
              "array([50, 11])"
            ]
          },
          "metadata": {
            "tags": []
          },
          "execution_count": 55
        }
      ]
    },
    {
      "cell_type": "code",
      "metadata": {
        "colab": {
          "base_uri": "https://localhost:8080/",
          "height": 140
        },
        "id": "pPzU2mwtJixv",
        "outputId": "c25fd01f-048e-4992-e854-36e5e19d0b91"
      },
      "source": [
        "quiz_items.loc[np.argsort(quiz_ratings)[::-1][:2], :]"
      ],
      "execution_count": 56,
      "outputs": [
        {
          "output_type": "execute_result",
          "data": {
            "text/html": [
              "<div>\n",
              "<style scoped>\n",
              "    .dataframe tbody tr th:only-of-type {\n",
              "        vertical-align: middle;\n",
              "    }\n",
              "\n",
              "    .dataframe tbody tr th {\n",
              "        vertical-align: top;\n",
              "    }\n",
              "\n",
              "    .dataframe thead th {\n",
              "        text-align: right;\n",
              "    }\n",
              "</style>\n",
              "<table border=\"1\" class=\"dataframe\">\n",
              "  <thead>\n",
              "    <tr style=\"text-align: right;\">\n",
              "      <th></th>\n",
              "      <th>Movie ID</th>\n",
              "      <th>Title</th>\n",
              "      <th>Factor1</th>\n",
              "      <th>Factor2</th>\n",
              "      <th>Factor3</th>\n",
              "      <th>Factor4</th>\n",
              "      <th>Factor5</th>\n",
              "      <th>Factor6</th>\n",
              "      <th>Factor7</th>\n",
              "      <th>Factor8</th>\n",
              "      <th>Factor9</th>\n",
              "      <th>Factor10</th>\n",
              "      <th>Factor11</th>\n",
              "      <th>Factor12</th>\n",
              "      <th>Factor13</th>\n",
              "      <th>Factor14</th>\n",
              "      <th>Factor15</th>\n",
              "    </tr>\n",
              "  </thead>\n",
              "  <tbody>\n",
              "    <tr>\n",
              "      <th>50</th>\n",
              "      <td>603</td>\n",
              "      <td>The Matrix (1999)</td>\n",
              "      <td>-3.063639</td>\n",
              "      <td>-1.319283</td>\n",
              "      <td>-0.043618</td>\n",
              "      <td>-0.994612</td>\n",
              "      <td>-0.954054</td>\n",
              "      <td>0.190838</td>\n",
              "      <td>0.197918</td>\n",
              "      <td>-0.093962</td>\n",
              "      <td>-1.082840</td>\n",
              "      <td>-0.003843</td>\n",
              "      <td>1.377453</td>\n",
              "      <td>-1.668189</td>\n",
              "      <td>-1.348377</td>\n",
              "      <td>0.223797</td>\n",
              "      <td>0.752413</td>\n",
              "    </tr>\n",
              "    <tr>\n",
              "      <th>11</th>\n",
              "      <td>105</td>\n",
              "      <td>Back to the Future (1985)</td>\n",
              "      <td>-1.107666</td>\n",
              "      <td>-0.039506</td>\n",
              "      <td>0.109809</td>\n",
              "      <td>0.169149</td>\n",
              "      <td>-1.625467</td>\n",
              "      <td>1.673495</td>\n",
              "      <td>-0.544459</td>\n",
              "      <td>0.420603</td>\n",
              "      <td>1.184404</td>\n",
              "      <td>0.396530</td>\n",
              "      <td>1.240446</td>\n",
              "      <td>0.016825</td>\n",
              "      <td>-0.582166</td>\n",
              "      <td>-0.757412</td>\n",
              "      <td>0.118024</td>\n",
              "    </tr>\n",
              "  </tbody>\n",
              "</table>\n",
              "</div>"
            ],
            "text/plain": [
              "    Movie ID                      Title   Factor1  ...  Factor13  Factor14  Factor15\n",
              "50       603          The Matrix (1999) -3.063639  ... -1.348377  0.223797  0.752413\n",
              "11       105  Back to the Future (1985) -1.107666  ... -0.582166 -0.757412  0.118024\n",
              "\n",
              "[2 rows x 17 columns]"
            ]
          },
          "metadata": {
            "tags": []
          },
          "execution_count": 56
        }
      ]
    },
    {
      "cell_type": "code",
      "metadata": {
        "colab": {
          "base_uri": "https://localhost:8080/"
        },
        "id": "SpD6bMCCJo0z",
        "outputId": "321b6a6c-0fc2-41c8-8010-5adb8da050aa"
      },
      "source": [
        "np.average(data.loc[:, 45].values[~np.isnan(data.loc[:, 45].values)])"
      ],
      "execution_count": 57,
      "outputs": [
        {
          "output_type": "execute_result",
          "data": {
            "text/plain": [
              "1.1086161781946073"
            ]
          },
          "metadata": {
            "tags": []
          },
          "execution_count": 57
        }
      ]
    },
    {
      "cell_type": "code",
      "metadata": {
        "id": "EiVX8wPxJo3v"
      },
      "source": [
        ""
      ],
      "execution_count": 57,
      "outputs": []
    },
    {
      "cell_type": "code",
      "metadata": {
        "id": "VqRtz3keJo7J"
      },
      "source": [
        ""
      ],
      "execution_count": 57,
      "outputs": []
    },
    {
      "cell_type": "code",
      "metadata": {
        "id": "a-Lq4OotJo9b"
      },
      "source": [
        ""
      ],
      "execution_count": 57,
      "outputs": []
    },
    {
      "cell_type": "code",
      "metadata": {
        "id": "yasdIl_YJpAS"
      },
      "source": [
        ""
      ],
      "execution_count": 57,
      "outputs": []
    }
  ]
}