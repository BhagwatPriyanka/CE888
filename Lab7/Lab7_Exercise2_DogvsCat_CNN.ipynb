{
  "nbformat": 4,
  "nbformat_minor": 0,
  "metadata": {
    "colab": {
      "name": "Lab7_Exercise2_DogvsCat_CNN.ipynb",
      "provenance": [],
      "collapsed_sections": [],
      "include_colab_link": true
    },
    "kernelspec": {
      "name": "python3",
      "display_name": "Python 3"
    },
    "accelerator": "GPU"
  },
  "cells": [
    {
      "cell_type": "markdown",
      "metadata": {
        "id": "view-in-github",
        "colab_type": "text"
      },
      "source": [
        "<a href=\"https://colab.research.google.com/github/BhagwatPriyanka/CE888/blob/main/Lab7/Lab7_Exercise2_DogvsCat_CNN.ipynb\" target=\"_parent\"><img src=\"https://colab.research.google.com/assets/colab-badge.svg\" alt=\"Open In Colab\"/></a>"
      ]
    },
    {
      "cell_type": "markdown",
      "metadata": {
        "id": "qTh9DiKVslsJ"
      },
      "source": [
        "## Dogs vs. Cats \n",
        "\n",
        "In this competition, you'll write an algorithm to classify whether images contain either a dog or a cat.  This is easy for humans, dogs, and cats. Your computer will find it a bit more difficult.\n",
        "\n",
        "![alt text](https://miro.medium.com/max/3000/1*bhFifratH9DjKqMBTeQG5A.gif)\n",
        "\n",
        "Ref: https://medium.com/@thegrigorian/rolling-in-the-deep-cnn-c8d3f7108c8c"
      ]
    },
    {
      "cell_type": "markdown",
      "metadata": {
        "id": "RSBI-_mSSY1g"
      },
      "source": [
        "Get your API Key from Kaggle using following steps:\n",
        "1. Login to [Kaggle](https://www.kaggle.com/) or Register if you don't have account\n",
        "2. Open Dataset (https://www.kaggle.com/c/dogs-vs-cats/rules) and accept terms and condition. \n",
        "3. On the top right corner click on your Icon and go to accounts and press a button \"Create New API Token\". It will download a JSON file containing your username and key. \n",
        "4. Now, paste both below. \n"
      ]
    },
    {
      "cell_type": "code",
      "metadata": {
        "id": "YmXSOc0tZIGA",
        "colab": {
          "base_uri": "https://localhost:8080/"
        },
        "outputId": "aa52695e-0e1f-4267-da63-4910de0f8a7c"
      },
      "source": [
        "import os\n",
        "os.environ['KAGGLE_USERNAME'] = \"bipashab\" # username from the json file\n",
        "os.environ['KAGGLE_KEY'] = \"02a287d0973b8d97365468022cab35e7\" # key from the json file\n",
        "!kaggle competitions download -c dogs-vs-cats # api copied from kaggle (https://www.kaggle.com/c/dogs-vs-cats/data)"
      ],
      "execution_count": 1,
      "outputs": [
        {
          "output_type": "stream",
          "text": [
            "Warning: Looks like you're using an outdated API Version, please consider updating (server 1.5.10 / client 1.5.4)\n",
            "Downloading train.zip to /content\n",
            " 97% 526M/543M [00:02<00:00, 164MB/s]\n",
            "100% 543M/543M [00:02<00:00, 195MB/s]\n",
            "Downloading sampleSubmission.csv to /content\n",
            "  0% 0.00/86.8k [00:00<?, ?B/s]\n",
            "100% 86.8k/86.8k [00:00<00:00, 87.9MB/s]\n",
            "Downloading test1.zip to /content\n",
            " 96% 260M/271M [00:01<00:00, 204MB/s]\n",
            "100% 271M/271M [00:01<00:00, 191MB/s]\n"
          ],
          "name": "stdout"
        }
      ]
    },
    {
      "cell_type": "code",
      "metadata": {
        "id": "PiwIL8d1n7eS",
        "colab": {
          "base_uri": "https://localhost:8080/"
        },
        "outputId": "226e96ab-77cc-40d0-94a1-5fbfcd613694"
      },
      "source": [
        "# Unzip training data\n",
        "from zipfile import ZipFile\n",
        "file_name = \"/content/train.zip\"\n",
        "with ZipFile(file_name, 'r') as zip:\n",
        "  zip.extractall()\n",
        "  print('done')"
      ],
      "execution_count": 2,
      "outputs": [
        {
          "output_type": "stream",
          "text": [
            "done\n"
          ],
          "name": "stdout"
        }
      ]
    },
    {
      "cell_type": "code",
      "metadata": {
        "id": "sa2Bj5i7pPKV",
        "colab": {
          "base_uri": "https://localhost:8080/"
        },
        "outputId": "ceb0e5f3-9cbc-4f13-832f-efdafc29ff0f"
      },
      "source": [
        "# Get all the paths\n",
        "data_dir_list = os.listdir('/content/train')\n",
        "#print(data_dir_list)\n",
        "path, dirs, files = next(os.walk(\"/content/train\"))\n",
        "file_count = len(files)\n",
        "print(file_count)"
      ],
      "execution_count": 3,
      "outputs": [
        {
          "output_type": "stream",
          "text": [
            "25000\n"
          ],
          "name": "stdout"
        }
      ]
    },
    {
      "cell_type": "code",
      "metadata": {
        "id": "0ERlHkfHqpK8"
      },
      "source": [
        "# Make new base directory\n",
        "original_dataset_dir = '/content/train'\n",
        "base_dir = '/content/cats_and_dogs_small'\n",
        "os.mkdir(base_dir)"
      ],
      "execution_count": 4,
      "outputs": []
    },
    {
      "cell_type": "code",
      "metadata": {
        "id": "AANB1UJ6rQhM"
      },
      "source": [
        "train_dir = os.path.join(base_dir, 'train')\n",
        "os.mkdir(train_dir)\n",
        "\n",
        "validation_dir = os.path.join(base_dir, 'validation')\n",
        "os.mkdir(validation_dir)\n",
        "\n",
        "test_dir = os.path.join(base_dir, 'test')\n",
        "os.mkdir(test_dir)\n",
        "\n",
        "train_cats_dir = os.path.join(train_dir, 'cats')\n",
        "os.mkdir(train_cats_dir)\n",
        "\n",
        "train_dogs_dir = os.path.join(train_dir, 'dogs')\n",
        "os.mkdir(train_dogs_dir)\n",
        "\n",
        "validation_cats_dir = os.path.join(validation_dir, 'cats')\n",
        "os.mkdir(validation_cats_dir)\n",
        "\n",
        "validation_dogs_dir = os.path.join(validation_dir, 'dogs')\n",
        "os.mkdir(validation_dogs_dir)\n",
        "\n",
        "test_cats_dir = os.path.join(test_dir, 'cats')\n",
        "os.mkdir(test_cats_dir)\n",
        "\n",
        "test_dogs_dir = os.path.join(test_dir, 'dogs')\n",
        "os.mkdir(test_dogs_dir)"
      ],
      "execution_count": 5,
      "outputs": []
    },
    {
      "cell_type": "code",
      "metadata": {
        "id": "ULRgL9s9rV8T"
      },
      "source": [
        "import shutil\n",
        "fnames = ['cat.{}.jpg'.format(i) for i in range(1000)]\n",
        "for fname in fnames:\n",
        "    src = os.path.join(original_dataset_dir, fname)\n",
        "    dst = os.path.join(train_cats_dir, fname)\n",
        "    #print(src,dst)\n",
        "    shutil.copyfile(src, dst)\n",
        "    \n",
        "fnames = ['cat.{}.jpg'.format(i) for i in range(1000, 1500)]\n",
        "for fname in fnames:\n",
        "    src = os.path.join(original_dataset_dir, fname)\n",
        "    dst = os.path.join(validation_cats_dir, fname)\n",
        "    shutil.copyfile(src, dst)\n",
        "\n",
        "fnames = ['cat.{}.jpg'.format(i) for i in range(1500, 2000)]\n",
        "for fname in fnames:\n",
        "    src = os.path.join(original_dataset_dir, fname)\n",
        "    dst = os.path.join(test_cats_dir, fname)\n",
        "    shutil.copyfile(src, dst)\n",
        "    \n",
        "fnames = ['dog.{}.jpg'.format(i) for i in range(1000)]\n",
        "for fname in fnames:\n",
        "    src = os.path.join(original_dataset_dir, fname)\n",
        "    dst = os.path.join(train_dogs_dir, fname)\n",
        "    shutil.copyfile(src, dst)\n",
        "\n",
        "fnames = ['dog.{}.jpg'.format(i) for i in range(1000, 1500)]\n",
        "for fname in fnames:\n",
        "    src = os.path.join(original_dataset_dir, fname)\n",
        "    dst = os.path.join(validation_dogs_dir, fname)\n",
        "    shutil.copyfile(src, dst)\n",
        "\n",
        "fnames = ['dog.{}.jpg'.format(i) for i in range(1500, 2000)]\n",
        "for fname in fnames:\n",
        "    src = os.path.join(original_dataset_dir, fname)\n",
        "    dst = os.path.join(test_dogs_dir, fname)\n",
        "    shutil.copyfile(src, dst)"
      ],
      "execution_count": 6,
      "outputs": []
    },
    {
      "cell_type": "code",
      "metadata": {
        "id": "ul3XAbIyr7vC",
        "colab": {
          "base_uri": "https://localhost:8080/"
        },
        "outputId": "5e12423f-cec8-4680-e4af-44a8fc65d353"
      },
      "source": [
        "print('total training cat images:', len(os.listdir(train_cats_dir)))\n",
        "print('total training dog images:', len(os.listdir(train_dogs_dir)))\n",
        "print('total validation cat images:', len(os.listdir(validation_cats_dir)))\n",
        "\n",
        "print('total validation dog images:', len(os.listdir(validation_dogs_dir)))\n",
        "print('total test cat images:', len(os.listdir(test_cats_dir)))\n",
        "print('total test dog images:', len(os.listdir(test_dogs_dir)))"
      ],
      "execution_count": 7,
      "outputs": [
        {
          "output_type": "stream",
          "text": [
            "total training cat images: 1000\n",
            "total training dog images: 1000\n",
            "total validation cat images: 500\n",
            "total validation dog images: 500\n",
            "total test cat images: 500\n",
            "total test dog images: 500\n"
          ],
          "name": "stdout"
        }
      ]
    },
    {
      "cell_type": "code",
      "metadata": {
        "id": "o9yTA21_r-ma",
        "colab": {
          "base_uri": "https://localhost:8080/"
        },
        "outputId": "d0b6045f-2041-49ed-e40b-1db2d619e1bc"
      },
      "source": [
        "from keras import layers\n",
        "from keras import models\n",
        "\n",
        "model = models.Sequential()\n",
        "model.add(layers.Conv2D(32, (3, 3), activation='relu', input_shape=(150, 150, 3)))\n",
        "model.add(layers.MaxPooling2D((2, 2)))\n",
        "model.add(layers.Conv2D(64, (3, 3), activation='relu'))\n",
        "model.add(layers.MaxPooling2D((2, 2)))\n",
        "model.add(layers.Conv2D(128, (3, 3), activation='relu'))\n",
        "model.add(layers.MaxPooling2D((2, 2)))\n",
        "model.add(layers.Conv2D(128, (3, 3), activation='relu'))\n",
        "model.add(layers.MaxPooling2D((2, 2)))\n",
        "model.add(layers.Flatten())\n",
        "model.add(layers.Dense(512, activation='relu'))\n",
        "model.add(layers.Dense(1, activation='sigmoid'))\n",
        "model.summary()"
      ],
      "execution_count": 8,
      "outputs": [
        {
          "output_type": "stream",
          "text": [
            "Model: \"sequential\"\n",
            "_________________________________________________________________\n",
            "Layer (type)                 Output Shape              Param #   \n",
            "=================================================================\n",
            "conv2d (Conv2D)              (None, 148, 148, 32)      896       \n",
            "_________________________________________________________________\n",
            "max_pooling2d (MaxPooling2D) (None, 74, 74, 32)        0         \n",
            "_________________________________________________________________\n",
            "conv2d_1 (Conv2D)            (None, 72, 72, 64)        18496     \n",
            "_________________________________________________________________\n",
            "max_pooling2d_1 (MaxPooling2 (None, 36, 36, 64)        0         \n",
            "_________________________________________________________________\n",
            "conv2d_2 (Conv2D)            (None, 34, 34, 128)       73856     \n",
            "_________________________________________________________________\n",
            "max_pooling2d_2 (MaxPooling2 (None, 17, 17, 128)       0         \n",
            "_________________________________________________________________\n",
            "conv2d_3 (Conv2D)            (None, 15, 15, 128)       147584    \n",
            "_________________________________________________________________\n",
            "max_pooling2d_3 (MaxPooling2 (None, 7, 7, 128)         0         \n",
            "_________________________________________________________________\n",
            "flatten (Flatten)            (None, 6272)              0         \n",
            "_________________________________________________________________\n",
            "dense (Dense)                (None, 512)               3211776   \n",
            "_________________________________________________________________\n",
            "dense_1 (Dense)              (None, 1)                 513       \n",
            "=================================================================\n",
            "Total params: 3,453,121\n",
            "Trainable params: 3,453,121\n",
            "Non-trainable params: 0\n",
            "_________________________________________________________________\n"
          ],
          "name": "stdout"
        }
      ]
    },
    {
      "cell_type": "code",
      "metadata": {
        "id": "2mG8wekxsBVS"
      },
      "source": [
        "from keras import optimizers\n",
        "model.compile(loss='binary_crossentropy', \n",
        "              optimizer=optimizers.RMSprop(lr=1e-4),\n",
        "              metrics=['acc'])"
      ],
      "execution_count": 9,
      "outputs": []
    },
    {
      "cell_type": "markdown",
      "metadata": {
        "id": "7zS4Klm8qWp6"
      },
      "source": [
        "## Using ImageDataGenerator to read images from directories\n",
        "As you know by now, data should be formatted into appropriately preprocessed floatingpoint tensors before being fed into the network. Currently, the data sits on a drive as JPEG files, so the steps for getting it into the network are roughly as follows:\n",
        "\n",
        "* Read the picture files.\n",
        "* Decode the JPEG content to RGB grids of pixels.\n",
        "* Convert these into floating-point tensors.\n",
        "* Rescale the pixel values (between 0 and 255) to the [0, 1] interval (as you know, neural networks prefer to deal with small input values).\n",
        "\n",
        "It may seem a bit daunting, but fortunately Keras has utilities to take care of these steps automatically. Keras has a module with image-processing helper tools, located at keras.preprocessing.image. In particular, it contains the class ImageDataGenerator,which lets you quickly set up Python generators that can automatically turn image files on disk into batches of preprocessed tensors."
      ]
    },
    {
      "cell_type": "code",
      "metadata": {
        "id": "XJ7XU7t9sEh6",
        "colab": {
          "base_uri": "https://localhost:8080/"
        },
        "outputId": "c772e1db-c3f3-4de5-b313-cd77eb550715"
      },
      "source": [
        "from keras.preprocessing.image import ImageDataGenerator\n",
        "\n",
        "train_datagen = ImageDataGenerator(rescale=1./255)\n",
        "test_datagen = ImageDataGenerator(rescale=1./255)\n",
        "\n",
        "train_generator = train_datagen.flow_from_directory(train_dir,\n",
        "                                                    target_size=(150, 150), \n",
        "                                                    batch_size=20,\n",
        "                                                    class_mode='binary')\n",
        "\n",
        "validation_generator = test_datagen.flow_from_directory(validation_dir,\n",
        "                                                        target_size=(150, 150),\n",
        "                                                        batch_size=20,\n",
        "                                                        class_mode='binary')"
      ],
      "execution_count": 10,
      "outputs": [
        {
          "output_type": "stream",
          "text": [
            "Found 2000 images belonging to 2 classes.\n",
            "Found 1000 images belonging to 2 classes.\n"
          ],
          "name": "stdout"
        }
      ]
    },
    {
      "cell_type": "markdown",
      "metadata": {
        "id": "SEgLywySqm4u"
      },
      "source": [
        "Let’s fit the model to the data using the generator. You do so using the fit_generator method, the equivalent of fit for data generators like this one. It expects as its first argument a Python generator that will yield batches of inputs and targets indefinitely,like this one does. Because the data is being generated endlessly, the Keras model needs to know how many samples to draw from the generator before declaring anepoch over. This is the role of the `steps_per_epoch` argument: after having drawn `steps_per_epoch` batches from the generator—that is, after having run for `steps_per_epoch` gradient descent steps—the fitting process will go to the next epoch. In this case, batches are 20 samples, so it will take 100 batches until you see your target of 2,000 samples.\n",
        "\n",
        "When using fit_generator, you can pass a validation_data argument, much as with the fit method. It’s important to note that this argument is allowed to be a data generator, but it could also be a tuple of Numpy arrays. If you pass a generator as validation_data, then this generator is expected to yield batches of validation data endlessly; thus you should also specify the validation_steps argument, which tells the process how many batches to draw from the validation generator for evaluation."
      ]
    },
    {
      "cell_type": "code",
      "metadata": {
        "id": "yMyfPphJsJG6",
        "colab": {
          "base_uri": "https://localhost:8080/"
        },
        "outputId": "c30511cc-c9f1-45a4-cba3-90d237110109"
      },
      "source": [
        "history = model.fit_generator(train_generator,\n",
        "                              steps_per_epoch=100,\n",
        "                              epochs=30,\n",
        "                              validation_data=validation_generator,\n",
        "                              validation_steps=10)"
      ],
      "execution_count": 11,
      "outputs": [
        {
          "output_type": "stream",
          "text": [
            "/usr/local/lib/python3.7/dist-packages/tensorflow/python/keras/engine/training.py:1844: UserWarning: `Model.fit_generator` is deprecated and will be removed in a future version. Please use `Model.fit`, which supports generators.\n",
            "  warnings.warn('`Model.fit_generator` is deprecated and '\n"
          ],
          "name": "stderr"
        },
        {
          "output_type": "stream",
          "text": [
            "Epoch 1/30\n",
            "100/100 [==============================] - 40s 71ms/step - loss: 0.6960 - acc: 0.5116 - val_loss: 0.6618 - val_acc: 0.6250\n",
            "Epoch 2/30\n",
            "100/100 [==============================] - 7s 67ms/step - loss: 0.6607 - acc: 0.6024 - val_loss: 0.6495 - val_acc: 0.6250\n",
            "Epoch 3/30\n",
            "100/100 [==============================] - 7s 69ms/step - loss: 0.6136 - acc: 0.6588 - val_loss: 0.6266 - val_acc: 0.6350\n",
            "Epoch 4/30\n",
            "100/100 [==============================] - 7s 68ms/step - loss: 0.5560 - acc: 0.7300 - val_loss: 0.6357 - val_acc: 0.6800\n",
            "Epoch 5/30\n",
            "100/100 [==============================] - 7s 68ms/step - loss: 0.5323 - acc: 0.7421 - val_loss: 0.5311 - val_acc: 0.7250\n",
            "Epoch 6/30\n",
            "100/100 [==============================] - 7s 68ms/step - loss: 0.4972 - acc: 0.7483 - val_loss: 0.5890 - val_acc: 0.6750\n",
            "Epoch 7/30\n",
            "100/100 [==============================] - 7s 67ms/step - loss: 0.4713 - acc: 0.7690 - val_loss: 0.5780 - val_acc: 0.6750\n",
            "Epoch 8/30\n",
            "100/100 [==============================] - 7s 68ms/step - loss: 0.4435 - acc: 0.7869 - val_loss: 0.5994 - val_acc: 0.7250\n",
            "Epoch 9/30\n",
            "100/100 [==============================] - 7s 68ms/step - loss: 0.4202 - acc: 0.8243 - val_loss: 0.5766 - val_acc: 0.7250\n",
            "Epoch 10/30\n",
            "100/100 [==============================] - 7s 68ms/step - loss: 0.3971 - acc: 0.8127 - val_loss: 0.5265 - val_acc: 0.7150\n",
            "Epoch 11/30\n",
            "100/100 [==============================] - 7s 68ms/step - loss: 0.3884 - acc: 0.8340 - val_loss: 0.5166 - val_acc: 0.7950\n",
            "Epoch 12/30\n",
            "100/100 [==============================] - 7s 68ms/step - loss: 0.3248 - acc: 0.8701 - val_loss: 0.6652 - val_acc: 0.7000\n",
            "Epoch 13/30\n",
            "100/100 [==============================] - 7s 67ms/step - loss: 0.3191 - acc: 0.8648 - val_loss: 0.5916 - val_acc: 0.7400\n",
            "Epoch 14/30\n",
            "100/100 [==============================] - 7s 68ms/step - loss: 0.2744 - acc: 0.8947 - val_loss: 0.7609 - val_acc: 0.7050\n",
            "Epoch 15/30\n",
            "100/100 [==============================] - 7s 68ms/step - loss: 0.2837 - acc: 0.8703 - val_loss: 0.6824 - val_acc: 0.7150\n",
            "Epoch 16/30\n",
            "100/100 [==============================] - 7s 68ms/step - loss: 0.2341 - acc: 0.9092 - val_loss: 0.4725 - val_acc: 0.8000\n",
            "Epoch 17/30\n",
            "100/100 [==============================] - 7s 67ms/step - loss: 0.2250 - acc: 0.9191 - val_loss: 0.6729 - val_acc: 0.6950\n",
            "Epoch 18/30\n",
            "100/100 [==============================] - 7s 69ms/step - loss: 0.2075 - acc: 0.9204 - val_loss: 0.5819 - val_acc: 0.7050\n",
            "Epoch 19/30\n",
            "100/100 [==============================] - 7s 68ms/step - loss: 0.1816 - acc: 0.9303 - val_loss: 0.9084 - val_acc: 0.6500\n",
            "Epoch 20/30\n",
            "100/100 [==============================] - 7s 68ms/step - loss: 0.1545 - acc: 0.9468 - val_loss: 0.5871 - val_acc: 0.7300\n",
            "Epoch 21/30\n",
            "100/100 [==============================] - 7s 68ms/step - loss: 0.1607 - acc: 0.9482 - val_loss: 0.7498 - val_acc: 0.7100\n",
            "Epoch 22/30\n",
            "100/100 [==============================] - 7s 67ms/step - loss: 0.1229 - acc: 0.9597 - val_loss: 0.8530 - val_acc: 0.7200\n",
            "Epoch 23/30\n",
            "100/100 [==============================] - 7s 68ms/step - loss: 0.0973 - acc: 0.9739 - val_loss: 0.5795 - val_acc: 0.7700\n",
            "Epoch 24/30\n",
            "100/100 [==============================] - 7s 68ms/step - loss: 0.0927 - acc: 0.9731 - val_loss: 1.1461 - val_acc: 0.6550\n",
            "Epoch 25/30\n",
            "100/100 [==============================] - 7s 68ms/step - loss: 0.0767 - acc: 0.9829 - val_loss: 0.7871 - val_acc: 0.7000\n",
            "Epoch 26/30\n",
            "100/100 [==============================] - 7s 67ms/step - loss: 0.0677 - acc: 0.9813 - val_loss: 0.8000 - val_acc: 0.7300\n",
            "Epoch 27/30\n",
            "100/100 [==============================] - 7s 68ms/step - loss: 0.0647 - acc: 0.9846 - val_loss: 0.8027 - val_acc: 0.7400\n",
            "Epoch 28/30\n",
            "100/100 [==============================] - 7s 68ms/step - loss: 0.0452 - acc: 0.9910 - val_loss: 0.8939 - val_acc: 0.7450\n",
            "Epoch 29/30\n",
            "100/100 [==============================] - 7s 67ms/step - loss: 0.0394 - acc: 0.9919 - val_loss: 1.0065 - val_acc: 0.7450\n",
            "Epoch 30/30\n",
            "100/100 [==============================] - 7s 67ms/step - loss: 0.0397 - acc: 0.9893 - val_loss: 0.9760 - val_acc: 0.7400\n"
          ],
          "name": "stdout"
        }
      ]
    },
    {
      "cell_type": "code",
      "metadata": {
        "id": "MZaZ2HWZsNUi",
        "colab": {
          "base_uri": "https://localhost:8080/",
          "height": 545
        },
        "outputId": "68d52e70-c695-4735-bc03-cbfe03e8fffc"
      },
      "source": [
        "model.save('cats_and_dogs_small_1.h5')\n",
        "\n",
        "import matplotlib.pyplot as plt\n",
        "\n",
        "acc = history.history['acc']\n",
        "val_acc = history.history['val_acc']\n",
        "loss = history.history['loss']\n",
        "val_loss = history.history['val_loss']\n",
        "\n",
        "epochs = range(1, len(acc) + 1)\n",
        "\n",
        "plt.plot(epochs, acc, 'bo', label='Training acc')\n",
        "plt.plot(epochs, val_acc, 'b', label='Validation acc')\n",
        "plt.title('Training and validation accuracy')\n",
        "plt.legend()\n",
        "\n",
        "plt.figure()\n",
        "\n",
        "plt.plot(epochs, loss, 'bo', label='Training loss')\n",
        "plt.plot(epochs, val_loss, 'b', label='Validation loss')\n",
        "plt.title('Training and validation loss')\n",
        "plt.legend()\n",
        "\n",
        "plt.show()"
      ],
      "execution_count": 12,
      "outputs": [
        {
          "output_type": "display_data",
          "data": {
            "image/png": "[encoded data removed]",
            "text/plain": [
              "<Figure size 432x288 with 1 Axes>"
            ]
          },
          "metadata": {
            "tags": [],
            "needs_background": "light"
          }
        },
        {
          "output_type": "display_data",
          "data": {
            "image/png": "[encoded data removed]",
            "text/plain": [
              "<Figure size 432x288 with 1 Axes>"
            ]
          },
          "metadata": {
            "tags": [],
            "needs_background": "light"
          }
        }
      ]
    },
    {
      "cell_type": "markdown",
      "metadata": {
        "id": "XKZmXmBcq_8-"
      },
      "source": [
        "## Convolutional Networks with Dropout\n",
        "\n",
        "![alt text](https://camo.githubusercontent.com/ee6fa1073247cd2c3d241300caf110d7a7541bc5/68747470733a2f2f63646e2d696d616765732d312e6d656469756d2e636f6d2f6d61782f3830302f312a4972644a355067684439596f4f7956415137334d4a772e676966)\n",
        "\n",
        "Ref: https://github.com/mneha4/Training-Neural-Nets---Guidelines"
      ]
    },
    {
      "cell_type": "code",
      "metadata": {
        "id": "wu3cqeYQrDeN"
      },
      "source": [
        "from keras import layers\n",
        "from keras import models\n",
        "from keras import optimizers\n",
        "model = models.Sequential()\n",
        "model.add(layers.Conv2D(32, (3, 3), activation='relu',\n",
        "input_shape=(150, 150, 3)))\n",
        "model.add(layers.MaxPooling2D((2, 2)))\n",
        "model.add(layers.Conv2D(64, (3, 3), activation='relu'))\n",
        "model.add(layers.MaxPooling2D((2, 2)))\n",
        "model.add(layers.Conv2D(128, (3, 3), activation='relu'))\n",
        "model.add(layers.MaxPooling2D((2, 2)))\n",
        "model.add(layers.Conv2D(128, (3, 3), activation='relu'))\n",
        "model.add(layers.MaxPooling2D((2, 2)))\n",
        "model.add(layers.Flatten())\n",
        "model.add(layers.Dropout(0.5))\n",
        "model.add(layers.Dense(512, activation='relu'))\n",
        "model.add(layers.Dense(1, activation='sigmoid'))\n",
        "\n",
        "model.compile(loss='binary_crossentropy',\n",
        "              optimizer=optimizers.RMSprop(lr=1e-4),\n",
        "              metrics=['acc'])"
      ],
      "execution_count": 13,
      "outputs": []
    },
    {
      "cell_type": "code",
      "metadata": {
        "id": "QSeLpvY0rH7F",
        "colab": {
          "base_uri": "https://localhost:8080/"
        },
        "outputId": "446b6d25-eedc-4f6b-93d0-5490aca4fcc3"
      },
      "source": [
        "\n",
        "train_datagen = ImageDataGenerator(rescale=1./255,\n",
        "                                   rotation_range=40,\n",
        "                                   width_shift_range=0.2,\n",
        "                                   height_shift_range=0.2,\n",
        "                                   shear_range=0.2,\n",
        "                                   zoom_range=0.2,\n",
        "                                   horizontal_flip=True,)\n",
        "\n",
        "test_datagen = ImageDataGenerator(rescale=1./255)\n",
        "\n",
        "train_generator = train_datagen.flow_from_directory(train_dir,\n",
        "                                                    target_size=(150, 150),\n",
        "                                                    batch_size=20,\n",
        "                                                    class_mode='binary')\n",
        "\n",
        "validation_generator = test_datagen.flow_from_directory(validation_dir,\n",
        "                                                        target_size=(150, 150),\n",
        "                                                        batch_size=20,\n",
        "                                                        class_mode='binary')\n",
        "\n"
      ],
      "execution_count": 14,
      "outputs": [
        {
          "output_type": "stream",
          "text": [
            "Found 2000 images belonging to 2 classes.\n",
            "Found 1000 images belonging to 2 classes.\n"
          ],
          "name": "stdout"
        }
      ]
    },
    {
      "cell_type": "code",
      "metadata": {
        "id": "J9ETG4ISOaU9",
        "colab": {
          "base_uri": "https://localhost:8080/"
        },
        "outputId": "9f857543-251e-4fa9-9202-d720bc27beeb"
      },
      "source": [
        "history = model.fit_generator(train_generator,\n",
        "                              steps_per_epoch=100,\n",
        "                              epochs=20,\n",
        "                              validation_data=validation_generator,\n",
        "                              validation_steps=50)"
      ],
      "execution_count": 15,
      "outputs": [
        {
          "output_type": "stream",
          "text": [
            "/usr/local/lib/python3.7/dist-packages/tensorflow/python/keras/engine/training.py:1844: UserWarning: `Model.fit_generator` is deprecated and will be removed in a future version. Please use `Model.fit`, which supports generators.\n",
            "  warnings.warn('`Model.fit_generator` is deprecated and '\n"
          ],
          "name": "stderr"
        },
        {
          "output_type": "stream",
          "text": [
            "Epoch 1/20\n",
            "100/100 [==============================] - 18s 171ms/step - loss: 0.6956 - acc: 0.5183 - val_loss: 0.7057 - val_acc: 0.5000\n",
            "Epoch 2/20\n",
            "100/100 [==============================] - 17s 170ms/step - loss: 0.6925 - acc: 0.5182 - val_loss: 0.6758 - val_acc: 0.5950\n",
            "Epoch 3/20\n",
            "100/100 [==============================] - 17s 170ms/step - loss: 0.6822 - acc: 0.5669 - val_loss: 0.6632 - val_acc: 0.6060\n",
            "Epoch 4/20\n",
            "100/100 [==============================] - 17s 171ms/step - loss: 0.6704 - acc: 0.6024 - val_loss: 0.6732 - val_acc: 0.5760\n",
            "Epoch 5/20\n",
            "100/100 [==============================] - 17s 170ms/step - loss: 0.6608 - acc: 0.6083 - val_loss: 0.6384 - val_acc: 0.6300\n",
            "Epoch 6/20\n",
            "100/100 [==============================] - 17s 170ms/step - loss: 0.6504 - acc: 0.6363 - val_loss: 0.6316 - val_acc: 0.6500\n",
            "Epoch 7/20\n",
            "100/100 [==============================] - 17s 172ms/step - loss: 0.6355 - acc: 0.6362 - val_loss: 0.6341 - val_acc: 0.6310\n",
            "Epoch 8/20\n",
            "100/100 [==============================] - 17s 171ms/step - loss: 0.6361 - acc: 0.6457 - val_loss: 0.6351 - val_acc: 0.6160\n",
            "Epoch 9/20\n",
            "100/100 [==============================] - 17s 170ms/step - loss: 0.6304 - acc: 0.6449 - val_loss: 0.5811 - val_acc: 0.6910\n",
            "Epoch 10/20\n",
            "100/100 [==============================] - 17s 171ms/step - loss: 0.6076 - acc: 0.6728 - val_loss: 0.6161 - val_acc: 0.6530\n",
            "Epoch 11/20\n",
            "100/100 [==============================] - 17s 171ms/step - loss: 0.6044 - acc: 0.6645 - val_loss: 0.5819 - val_acc: 0.6850\n",
            "Epoch 12/20\n",
            "100/100 [==============================] - 17s 172ms/step - loss: 0.6027 - acc: 0.6612 - val_loss: 0.5569 - val_acc: 0.7080\n",
            "Epoch 13/20\n",
            "100/100 [==============================] - 17s 171ms/step - loss: 0.5764 - acc: 0.7019 - val_loss: 0.6151 - val_acc: 0.6500\n",
            "Epoch 14/20\n",
            "100/100 [==============================] - 17s 171ms/step - loss: 0.5642 - acc: 0.7003 - val_loss: 0.5530 - val_acc: 0.7070\n",
            "Epoch 15/20\n",
            "100/100 [==============================] - 17s 172ms/step - loss: 0.5893 - acc: 0.6916 - val_loss: 0.6095 - val_acc: 0.6670\n",
            "Epoch 16/20\n",
            "100/100 [==============================] - 17s 172ms/step - loss: 0.5811 - acc: 0.6979 - val_loss: 0.5344 - val_acc: 0.7230\n",
            "Epoch 17/20\n",
            "100/100 [==============================] - 17s 172ms/step - loss: 0.5654 - acc: 0.6951 - val_loss: 0.5288 - val_acc: 0.7250\n",
            "Epoch 18/20\n",
            "100/100 [==============================] - 17s 170ms/step - loss: 0.5505 - acc: 0.7168 - val_loss: 0.5314 - val_acc: 0.7320\n",
            "Epoch 19/20\n",
            "100/100 [==============================] - 17s 171ms/step - loss: 0.5775 - acc: 0.6916 - val_loss: 0.5789 - val_acc: 0.7030\n",
            "Epoch 20/20\n",
            "100/100 [==============================] - 17s 170ms/step - loss: 0.5661 - acc: 0.6981 - val_loss: 0.6746 - val_acc: 0.6460\n"
          ],
          "name": "stdout"
        }
      ]
    },
    {
      "cell_type": "markdown",
      "metadata": {
        "id": "BRdU5yrkUF_b"
      },
      "source": [
        "# Task 2:\n",
        "\n",
        "We have used Dropout to enhance the performance of the CNN model. Can you please use whatever you like to further enhance the performance from `val_acc: 0.7506`? "
      ]
    },
    {
      "cell_type": "code",
      "metadata": {
        "colab": {
          "base_uri": "https://localhost:8080/"
        },
        "id": "BwDM6MBeOP8v",
        "outputId": "40eeb785-6f51-4821-8226-529a71a9add4"
      },
      "source": [
        "train_generator = train_datagen.flow_from_directory(train_dir,\n",
        "                                                    target_size=(150, 150),\n",
        "                                                    batch_size=32,\n",
        "                                                    class_mode='binary')\n",
        "\n",
        "validation_generator = test_datagen.flow_from_directory(validation_dir,\n",
        "                                                        target_size=(150, 150),\n",
        "                                                        batch_size=32,\n",
        "                                                        class_mode='binary')\n",
        "\n",
        "model.fit_generator(train_generator,\n",
        "                              steps_per_epoch=1500//32,\n",
        "                              epochs=64,\n",
        "                              validation_data=validation_generator,\n",
        "                              validation_steps=1500//32)"
      ],
      "execution_count": 16,
      "outputs": [
        {
          "output_type": "stream",
          "text": [
            "Found 2000 images belonging to 2 classes.\n",
            "Found 1000 images belonging to 2 classes.\n"
          ],
          "name": "stdout"
        },
        {
          "output_type": "stream",
          "text": [
            "/usr/local/lib/python3.7/dist-packages/tensorflow/python/keras/engine/training.py:1844: UserWarning: `Model.fit_generator` is deprecated and will be removed in a future version. Please use `Model.fit`, which supports generators.\n",
            "  warnings.warn('`Model.fit_generator` is deprecated and '\n"
          ],
          "name": "stderr"
        },
        {
          "output_type": "stream",
          "text": [
            "Epoch 1/64\n",
            "46/46 [==============================] - ETA: 0s - loss: 0.5562 - acc: 0.7109WARNING:tensorflow:Your input ran out of data; interrupting training. Make sure that your dataset or generator can generate at least `steps_per_epoch * epochs` batches (in this case, 46 batches). You may need to use the repeat() function when building your dataset.\n",
            "46/46 [==============================] - 14s 288ms/step - loss: 0.5562 - acc: 0.7109 - val_loss: 0.5019 - val_acc: 0.7550\n",
            "Epoch 2/64\n",
            "46/46 [==============================] - 10s 225ms/step - loss: 0.5436 - acc: 0.7177\n",
            "Epoch 3/64\n",
            "46/46 [==============================] - 10s 226ms/step - loss: 0.5547 - acc: 0.7174\n",
            "Epoch 4/64\n",
            "46/46 [==============================] - 10s 223ms/step - loss: 0.5370 - acc: 0.7431\n",
            "Epoch 5/64\n",
            "46/46 [==============================] - 10s 225ms/step - loss: 0.5422 - acc: 0.7109\n",
            "Epoch 6/64\n",
            "46/46 [==============================] - 10s 223ms/step - loss: 0.5248 - acc: 0.7397\n",
            "Epoch 7/64\n",
            "46/46 [==============================] - 10s 223ms/step - loss: 0.5205 - acc: 0.7315\n",
            "Epoch 8/64\n",
            "46/46 [==============================] - 10s 225ms/step - loss: 0.5433 - acc: 0.7294\n",
            "Epoch 9/64\n",
            "46/46 [==============================] - 10s 225ms/step - loss: 0.5397 - acc: 0.7143\n",
            "Epoch 10/64\n",
            "46/46 [==============================] - 10s 224ms/step - loss: 0.5282 - acc: 0.7301\n",
            "Epoch 11/64\n",
            "46/46 [==============================] - 10s 224ms/step - loss: 0.5333 - acc: 0.7404\n",
            "Epoch 12/64\n",
            "46/46 [==============================] - 10s 223ms/step - loss: 0.5198 - acc: 0.7308\n",
            "Epoch 13/64\n",
            "46/46 [==============================] - 10s 225ms/step - loss: 0.5203 - acc: 0.7364\n",
            "Epoch 14/64\n",
            "46/46 [==============================] - 10s 225ms/step - loss: 0.5143 - acc: 0.7520\n",
            "Epoch 15/64\n",
            "46/46 [==============================] - 10s 223ms/step - loss: 0.5162 - acc: 0.7493\n",
            "Epoch 16/64\n",
            "46/46 [==============================] - 10s 225ms/step - loss: 0.5179 - acc: 0.7391\n",
            "Epoch 17/64\n",
            "46/46 [==============================] - 10s 225ms/step - loss: 0.5006 - acc: 0.7479\n",
            "Epoch 18/64\n",
            "46/46 [==============================] - 10s 226ms/step - loss: 0.5140 - acc: 0.7507\n",
            "Epoch 19/64\n",
            "46/46 [==============================] - 10s 224ms/step - loss: 0.5009 - acc: 0.7582\n",
            "Epoch 20/64\n",
            "46/46 [==============================] - 10s 226ms/step - loss: 0.4929 - acc: 0.7649\n",
            "Epoch 21/64\n",
            "46/46 [==============================] - 10s 222ms/step - loss: 0.5068 - acc: 0.7493\n",
            "Epoch 22/64\n",
            "46/46 [==============================] - 10s 223ms/step - loss: 0.5036 - acc: 0.7617\n",
            "Epoch 23/64\n",
            "46/46 [==============================] - 10s 223ms/step - loss: 0.4982 - acc: 0.7548\n",
            "Epoch 24/64\n",
            "46/46 [==============================] - 10s 222ms/step - loss: 0.4908 - acc: 0.7637\n",
            "Epoch 25/64\n",
            "46/46 [==============================] - 10s 226ms/step - loss: 0.4882 - acc: 0.7603\n",
            "Epoch 26/64\n",
            "46/46 [==============================] - 10s 223ms/step - loss: 0.4915 - acc: 0.7555\n",
            "Epoch 27/64\n",
            "46/46 [==============================] - 10s 226ms/step - loss: 0.5040 - acc: 0.7520\n",
            "Epoch 28/64\n",
            "46/46 [==============================] - 10s 223ms/step - loss: 0.4913 - acc: 0.7562\n",
            "Epoch 29/64\n",
            "46/46 [==============================] - 10s 222ms/step - loss: 0.5036 - acc: 0.7473\n",
            "Epoch 30/64\n",
            "46/46 [==============================] - 10s 223ms/step - loss: 0.5037 - acc: 0.7521\n",
            "Epoch 31/64\n",
            "46/46 [==============================] - 10s 224ms/step - loss: 0.4929 - acc: 0.7554\n",
            "Epoch 32/64\n",
            "46/46 [==============================] - 10s 225ms/step - loss: 0.4958 - acc: 0.7596\n",
            "Epoch 33/64\n",
            "46/46 [==============================] - 10s 225ms/step - loss: 0.4928 - acc: 0.7569\n",
            "Epoch 34/64\n",
            "46/46 [==============================] - 10s 223ms/step - loss: 0.4906 - acc: 0.7603\n",
            "Epoch 35/64\n",
            "46/46 [==============================] - 10s 224ms/step - loss: 0.4862 - acc: 0.7561\n",
            "Epoch 36/64\n",
            "46/46 [==============================] - 10s 225ms/step - loss: 0.4801 - acc: 0.7629\n",
            "Epoch 37/64\n",
            "46/46 [==============================] - 10s 224ms/step - loss: 0.4759 - acc: 0.7713\n",
            "Epoch 38/64\n",
            "46/46 [==============================] - 10s 223ms/step - loss: 0.4724 - acc: 0.7734\n",
            "Epoch 39/64\n",
            "46/46 [==============================] - 10s 226ms/step - loss: 0.5004 - acc: 0.7561\n",
            "Epoch 40/64\n",
            "46/46 [==============================] - 10s 225ms/step - loss: 0.4836 - acc: 0.7596\n",
            "Epoch 41/64\n",
            "46/46 [==============================] - 10s 223ms/step - loss: 0.4828 - acc: 0.7624\n",
            "Epoch 42/64\n",
            "46/46 [==============================] - 10s 224ms/step - loss: 0.4732 - acc: 0.7699\n",
            "Epoch 43/64\n",
            "46/46 [==============================] - 10s 222ms/step - loss: 0.4746 - acc: 0.7734\n",
            "Epoch 44/64\n",
            "46/46 [==============================] - 10s 222ms/step - loss: 0.4602 - acc: 0.7809\n",
            "Epoch 45/64\n",
            "46/46 [==============================] - 10s 224ms/step - loss: 0.4671 - acc: 0.7788\n",
            "Epoch 46/64\n",
            "46/46 [==============================] - 10s 222ms/step - loss: 0.4778 - acc: 0.7692\n",
            "Epoch 47/64\n",
            "46/46 [==============================] - 10s 225ms/step - loss: 0.4643 - acc: 0.7782\n",
            "Epoch 48/64\n",
            "46/46 [==============================] - 10s 225ms/step - loss: 0.4565 - acc: 0.7885\n",
            "Epoch 49/64\n",
            "46/46 [==============================] - 10s 222ms/step - loss: 0.4683 - acc: 0.7782\n",
            "Epoch 50/64\n",
            "46/46 [==============================] - 10s 223ms/step - loss: 0.4659 - acc: 0.7734\n",
            "Epoch 51/64\n",
            "46/46 [==============================] - 10s 227ms/step - loss: 0.4596 - acc: 0.7840\n",
            "Epoch 52/64\n",
            "46/46 [==============================] - 10s 226ms/step - loss: 0.4640 - acc: 0.7758\n",
            "Epoch 53/64\n",
            "46/46 [==============================] - 10s 226ms/step - loss: 0.4672 - acc: 0.7837\n",
            "Epoch 54/64\n",
            "46/46 [==============================] - 10s 224ms/step - loss: 0.4483 - acc: 0.7898\n",
            "Epoch 55/64\n",
            "46/46 [==============================] - 10s 224ms/step - loss: 0.4659 - acc: 0.7699\n",
            "Epoch 56/64\n",
            "46/46 [==============================] - 10s 226ms/step - loss: 0.4519 - acc: 0.7724\n",
            "Epoch 57/64\n",
            "46/46 [==============================] - 10s 223ms/step - loss: 0.4578 - acc: 0.7871\n",
            "Epoch 58/64\n",
            "46/46 [==============================] - 10s 222ms/step - loss: 0.4578 - acc: 0.7782\n",
            "Epoch 59/64\n",
            "46/46 [==============================] - 10s 220ms/step - loss: 0.4355 - acc: 0.8043\n",
            "Epoch 60/64\n",
            "46/46 [==============================] - 10s 220ms/step - loss: 0.4580 - acc: 0.7871\n",
            "Epoch 61/64\n",
            "46/46 [==============================] - 10s 225ms/step - loss: 0.4604 - acc: 0.7812\n",
            "Epoch 62/64\n",
            "46/46 [==============================] - 10s 222ms/step - loss: 0.4538 - acc: 0.7809\n",
            "Epoch 63/64\n",
            "46/46 [==============================] - 10s 221ms/step - loss: 0.4554 - acc: 0.7912\n",
            "Epoch 64/64\n",
            "46/46 [==============================] - 10s 225ms/step - loss: 0.4551 - acc: 0.7833\n"
          ],
          "name": "stdout"
        },
        {
          "output_type": "execute_result",
          "data": {
            "text/plain": [
              "<tensorflow.python.keras.callbacks.History at 0x7f844ee51190>"
            ]
          },
          "metadata": {
            "tags": []
          },
          "execution_count": 16
        }
      ]
    },
    {
      "cell_type": "markdown",
      "metadata": {
        "id": "3WeNZwhmOnIg"
      },
      "source": [
        "We got 80% accuracy at Epoch 61"
      ]
    },
    {
      "cell_type": "markdown",
      "metadata": {
        "id": "bi9w7ExXc05i"
      },
      "source": [
        "**Transfer Leanrning method**\n",
        "\n",
        "Code source: https://towardsdatascience.com/transfer-learning-and-image-classification-using-keras-on-kaggle-kernels-c76d3b030649\n"
      ]
    },
    {
      "cell_type": "code",
      "metadata": {
        "colab": {
          "base_uri": "https://localhost:8080/"
        },
        "id": "gGRdBNlJQHGC",
        "outputId": "42796e40-a7e1-47a6-de13-0e5a4c7b494b"
      },
      "source": [
        "from keras.applications import InceptionResNetV2\n",
        "\n",
        "conv_base = InceptionResNetV2(weights='imagenet', include_top=False, input_shape=(150,150,3))"
      ],
      "execution_count": 17,
      "outputs": [
        {
          "output_type": "stream",
          "text": [
            "Downloading data from https://storage.googleapis.com/tensorflow/keras-applications/inception_resnet_v2/inception_resnet_v2_weights_tf_dim_ordering_tf_kernels_notop.h5\n",
            "219062272/219055592 [==============================] - 1s 0us/step\n"
          ],
          "name": "stdout"
        }
      ]
    },
    {
      "cell_type": "code",
      "metadata": {
        "id": "87W2Dt_pc0Ly"
      },
      "source": [
        "from keras.preprocessing.image import ImageDataGenerator\n",
        "from keras.preprocessing.image import img_to_array, load_img\n",
        "from keras import optimizers\n",
        "\n",
        "model = models.Sequential()\n",
        "model.add(conv_base)\n",
        "model.add(layers.Flatten())\n",
        "model.add(layers.Dense(256, activation='relu'))\n",
        "model.add(layers.Dense(1, activation='sigmoid'))  #Sigmoid function at the end because we have just two classes"
      ],
      "execution_count": 18,
      "outputs": []
    },
    {
      "cell_type": "code",
      "metadata": {
        "colab": {
          "base_uri": "https://localhost:8080/"
        },
        "id": "zEMiKnPMPISf",
        "outputId": "aa0f518d-aba4-4ff9-b973-e5db0d37cb3f"
      },
      "source": [
        "print('Number of trainable weights before freezing the conv base:', len(model.trainable_weights))\n",
        "conv_base.trainable = False\n",
        "print('Number of trainable weights after freezing the conv base:', len(model.trainable_weights))\n"
      ],
      "execution_count": 19,
      "outputs": [
        {
          "output_type": "stream",
          "text": [
            "Number of trainable weights before freezing the conv base: 492\n",
            "Number of trainable weights after freezing the conv base: 4\n"
          ],
          "name": "stdout"
        }
      ]
    },
    {
      "cell_type": "code",
      "metadata": {
        "id": "fHRgQOovPMe6"
      },
      "source": [
        "from keras import optimizers\n",
        "\n",
        "model.compile(loss='binary_crossentropy', optimizer=optimizers.RMSprop(lr=2e-5), metrics=['acc'])"
      ],
      "execution_count": 20,
      "outputs": []
    },
    {
      "cell_type": "code",
      "metadata": {
        "colab": {
          "base_uri": "https://localhost:8080/"
        },
        "id": "YUSW-6mmhhyR",
        "outputId": "54f3cc6d-3656-4fed-a24b-4daa920b1f10"
      },
      "source": [
        "\n",
        "train_generator = train_datagen.flow_from_directory(train_dir,\n",
        "                                                    target_size=(150, 150),\n",
        "                                                    batch_size=32,\n",
        "                                                    class_mode='binary')\n",
        "\n",
        "validation_generator = test_datagen.flow_from_directory(validation_dir,\n",
        "                                                        target_size=(150, 150),\n",
        "                                                        batch_size=32,\n",
        "                                                        class_mode='binary')\n",
        "\n",
        "model.fit_generator(train_generator,\n",
        "                              steps_per_epoch=1500//32,\n",
        "                              epochs=20,\n",
        "                              validation_data=validation_generator,\n",
        "                              validation_steps=1500//32)\n"
      ],
      "execution_count": 21,
      "outputs": [
        {
          "output_type": "stream",
          "text": [
            "Found 2000 images belonging to 2 classes.\n",
            "Found 1000 images belonging to 2 classes.\n"
          ],
          "name": "stdout"
        },
        {
          "output_type": "stream",
          "text": [
            "/usr/local/lib/python3.7/dist-packages/tensorflow/python/keras/engine/training.py:1844: UserWarning: `Model.fit_generator` is deprecated and will be removed in a future version. Please use `Model.fit`, which supports generators.\n",
            "  warnings.warn('`Model.fit_generator` is deprecated and '\n"
          ],
          "name": "stderr"
        },
        {
          "output_type": "stream",
          "text": [
            "Epoch 1/20\n",
            "46/46 [==============================] - ETA: 0s - loss: 0.8179 - acc: 0.7471WARNING:tensorflow:Your input ran out of data; interrupting training. Make sure that your dataset or generator can generate at least `steps_per_epoch * epochs` batches (in this case, 46 batches). You may need to use the repeat() function when building your dataset.\n",
            "46/46 [==============================] - 28s 411ms/step - loss: 0.8092 - acc: 0.7494 - val_loss: 0.0873 - val_acc: 0.9710\n",
            "Epoch 2/20\n",
            "46/46 [==============================] - 11s 243ms/step - loss: 0.1995 - acc: 0.9089\n",
            "Epoch 3/20\n",
            "46/46 [==============================] - 11s 242ms/step - loss: 0.1585 - acc: 0.9427\n",
            "Epoch 4/20\n",
            "46/46 [==============================] - 11s 246ms/step - loss: 0.1356 - acc: 0.9421\n",
            "Epoch 5/20\n",
            "46/46 [==============================] - 11s 243ms/step - loss: 0.1694 - acc: 0.9435\n",
            "Epoch 6/20\n",
            "46/46 [==============================] - 11s 244ms/step - loss: 0.1347 - acc: 0.9475\n",
            "Epoch 7/20\n",
            "46/46 [==============================] - 11s 246ms/step - loss: 0.1758 - acc: 0.9348\n",
            "Epoch 8/20\n",
            "46/46 [==============================] - 11s 246ms/step - loss: 0.1551 - acc: 0.9413\n",
            "Epoch 9/20\n",
            "46/46 [==============================] - 11s 243ms/step - loss: 0.1377 - acc: 0.9420\n",
            "Epoch 10/20\n",
            "46/46 [==============================] - 11s 245ms/step - loss: 0.1225 - acc: 0.9613\n",
            "Epoch 11/20\n",
            "46/46 [==============================] - 11s 243ms/step - loss: 0.1416 - acc: 0.9440\n",
            "Epoch 12/20\n",
            "46/46 [==============================] - 11s 244ms/step - loss: 0.1262 - acc: 0.9409\n",
            "Epoch 13/20\n",
            "46/46 [==============================] - 11s 243ms/step - loss: 0.1144 - acc: 0.9543\n",
            "Epoch 14/20\n",
            "46/46 [==============================] - 11s 242ms/step - loss: 0.1220 - acc: 0.9462\n",
            "Epoch 15/20\n",
            "46/46 [==============================] - 11s 242ms/step - loss: 0.1039 - acc: 0.9542\n",
            "Epoch 16/20\n",
            "46/46 [==============================] - 11s 246ms/step - loss: 0.1044 - acc: 0.9690\n",
            "Epoch 17/20\n",
            "46/46 [==============================] - 11s 248ms/step - loss: 0.1254 - acc: 0.9504\n",
            "Epoch 18/20\n",
            "46/46 [==============================] - 11s 246ms/step - loss: 0.0924 - acc: 0.9563\n",
            "Epoch 19/20\n",
            "46/46 [==============================] - 11s 246ms/step - loss: 0.1132 - acc: 0.9600\n",
            "Epoch 20/20\n",
            "46/46 [==============================] - 11s 245ms/step - loss: 0.1105 - acc: 0.9621\n"
          ],
          "name": "stdout"
        },
        {
          "output_type": "execute_result",
          "data": {
            "text/plain": [
              "<tensorflow.python.keras.callbacks.History at 0x7f844dfb31d0>"
            ]
          },
          "metadata": {
            "tags": []
          },
          "execution_count": 21
        }
      ]
    },
    {
      "cell_type": "markdown",
      "metadata": {
        "id": "ZGtpvYBiRwXz"
      },
      "source": [
        "With transfer leaning the accuracy is raised to 95%"
      ]
    },
    {
      "cell_type": "code",
      "metadata": {
        "id": "VwzS1mQkRwE0"
      },
      "source": [
        ""
      ],
      "execution_count": 21,
      "outputs": []
    }
  ]
}